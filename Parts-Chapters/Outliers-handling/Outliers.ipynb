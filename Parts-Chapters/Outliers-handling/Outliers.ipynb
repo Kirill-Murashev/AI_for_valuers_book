{
 "cells": [
  {
   "cell_type": "markdown",
   "id": "db9ce35d",
   "metadata": {},
   "source": [
    "#  Handling of outliers when working with open market data\n",
    "\n"
   ]
  },
  {
   "cell_type": "markdown",
   "id": "c98a84e1",
   "metadata": {},
   "source": [
    "## Abstract\n",
    "The best practice in valuation is to work with data that is directly observable in open markets. This assertion is based on, among other things, the statements of __[IFRS 13 Fair Value Mesurement](https://www.ifrs.org/content/dam/ifrs/publications/pdf-standards/english/2022/issued/part-a/ifrs-13-fair-value-measurement.pdf?bypass=on)__, __[IVS 2022](https://www.rics.org/contentassets/542170a3807548a28aebb053152f1c24/ivsc-effective-31-jan-2022.pdf)__, and __[RVGS 2022](https://www.rics.org/globalassets/rics-website/media/upholding-professional-standards/sector-standards/valuation/2021-11-25_rics-valuation--global-standards-effective-2022.pdf)__. One of the problems of market data is the problem of __[outliers](https://en.wikipedia.org/wiki/Outlier)__, i.e. observations whose value of a feature differs significantly from the rest. This material contains no theory.  It is aimed at handling of outliers using the Python language. We will work on the example of the residential real estate market in Almaty (Republic of Kazakhstan). As we work on this topic, we will consider the following questions:\n",
    "<ul>\n",
    "<li>what are the basic ways of handling outliers?</li>\n",
    "<li>how to detect and handle outliers using Python?</li>\n",
    "</ul>\n",
    "In all, we will look at three simple ways to handle outliers. Python is more a language for business and professional activities than for science. A number of more complex methods of handling outliers will be discussed in a separate material containing code in R. In this paper we will limit ourselves to the following methods: \n",
    "<ol>\n",
    "<li>the aprroach based on the empirical relations of the Normal distribution;</li>\n",
    "<li>the inter-quartile range (IQR) proximity rule;</li>\n",
    "<li>the percentile-based approach.</li>\n",
    "</ol>\n",
    "This list of methods is not exhaustive. However, they will help cover the needs of an appraiser who is beginning to apply machine learning and mathematical statistics methods to his or her work.\n"
   ]
  },
  {
   "cell_type": "code",
   "execution_count": null,
   "id": "f006e971",
   "metadata": {},
   "outputs": [],
   "source": []
  },
  {
   "cell_type": "code",
   "execution_count": null,
   "id": "5eea94ce",
   "metadata": {},
   "outputs": [],
   "source": []
  }
 ],
 "metadata": {
  "kernelspec": {
   "display_name": "Python 3 (ipykernel)",
   "language": "python",
   "name": "python3"
  },
  "language_info": {
   "codemirror_mode": {
    "name": "ipython",
    "version": 3
   },
   "file_extension": ".py",
   "mimetype": "text/x-python",
   "name": "python",
   "nbconvert_exporter": "python",
   "pygments_lexer": "ipython3",
   "version": "3.9.12"
  }
 },
 "nbformat": 4,
 "nbformat_minor": 5
}
