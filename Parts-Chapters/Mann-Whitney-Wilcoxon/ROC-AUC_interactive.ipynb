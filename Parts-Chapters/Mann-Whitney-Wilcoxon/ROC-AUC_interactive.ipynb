{
  "nbformat": 4,
  "nbformat_minor": 0,
  "metadata": {
    "colab": {
      "name": "AUC_Derivation.ipynb",
      "provenance": [],
      "include_colab_link": true
    },
    "language_info": {
      "name": "python"
    },
    "kernelspec": {
      "name": "python3",
      "display_name": "Python 3"
    },
    "widgets": {
      "application/vnd.jupyter.widget-state+json": {
        "3ccfed22b5bf46f2ae46906098ce134f": {
          "model_module": "@jupyter-widgets/controls",
          "model_name": "VBoxModel",
          "model_module_version": "1.5.0",
          "state": {
            "_dom_classes": [
              "widget-interact"
            ],
            "_model_module": "@jupyter-widgets/controls",
            "_model_module_version": "1.5.0",
            "_model_name": "VBoxModel",
            "_view_count": null,
            "_view_module": "@jupyter-widgets/controls",
            "_view_module_version": "1.5.0",
            "_view_name": "VBoxView",
            "box_style": "",
            "children": [
              "IPY_MODEL_f2001d6591084b14b8b5eef8c6481bf4",
              "IPY_MODEL_264c07331071471993286204bc6027f0"
            ],
            "layout": "IPY_MODEL_4bbb6627060b455c83f18ef7d23447dd"
          }
        },
        "f2001d6591084b14b8b5eef8c6481bf4": {
          "model_module": "@jupyter-widgets/controls",
          "model_name": "FloatSliderModel",
          "model_module_version": "1.5.0",
          "state": {
            "_dom_classes": [],
            "_model_module": "@jupyter-widgets/controls",
            "_model_module_version": "1.5.0",
            "_model_name": "FloatSliderModel",
            "_view_count": null,
            "_view_module": "@jupyter-widgets/controls",
            "_view_module_version": "1.5.0",
            "_view_name": "FloatSliderView",
            "continuous_update": true,
            "description": "c",
            "description_tooltip": null,
            "disabled": false,
            "layout": "IPY_MODEL_e3fc2486cefe42bd88d009e291e8be96",
            "max": 5,
            "min": -3,
            "orientation": "horizontal",
            "readout": true,
            "readout_format": ".2f",
            "step": 0.05,
            "style": "IPY_MODEL_a4b0000ce8cd4ea0b71dbdf6f56576b6",
            "value": 2.6
          }
        },
        "264c07331071471993286204bc6027f0": {
          "model_module": "@jupyter-widgets/output",
          "model_name": "OutputModel",
          "model_module_version": "1.0.0",
          "state": {
            "_dom_classes": [],
            "_model_module": "@jupyter-widgets/output",
            "_model_module_version": "1.0.0",
            "_model_name": "OutputModel",
            "_view_count": null,
            "_view_module": "@jupyter-widgets/output",
            "_view_module_version": "1.0.0",
            "_view_name": "OutputView",
            "layout": "IPY_MODEL_301bf977377f40689a4f23e62af2f6c5",
            "msg_id": "",
            "outputs": [
              {
                "output_type": "display_data",
                "data": {
                  "text/plain": "<Figure size 720x216 with 2 Axes>",
                  "image/png": "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\n"
                },
                "metadata": {
                  "needs_background": "light"
                }
              }
            ]
          }
        },
        "4bbb6627060b455c83f18ef7d23447dd": {
          "model_module": "@jupyter-widgets/base",
          "model_name": "LayoutModel",
          "model_module_version": "1.2.0",
          "state": {
            "_model_module": "@jupyter-widgets/base",
            "_model_module_version": "1.2.0",
            "_model_name": "LayoutModel",
            "_view_count": null,
            "_view_module": "@jupyter-widgets/base",
            "_view_module_version": "1.2.0",
            "_view_name": "LayoutView",
            "align_content": null,
            "align_items": null,
            "align_self": null,
            "border": null,
            "bottom": null,
            "display": null,
            "flex": null,
            "flex_flow": null,
            "grid_area": null,
            "grid_auto_columns": null,
            "grid_auto_flow": null,
            "grid_auto_rows": null,
            "grid_column": null,
            "grid_gap": null,
            "grid_row": null,
            "grid_template_areas": null,
            "grid_template_columns": null,
            "grid_template_rows": null,
            "height": null,
            "justify_content": null,
            "justify_items": null,
            "left": null,
            "margin": null,
            "max_height": null,
            "max_width": null,
            "min_height": null,
            "min_width": null,
            "object_fit": null,
            "object_position": null,
            "order": null,
            "overflow": null,
            "overflow_x": null,
            "overflow_y": null,
            "padding": null,
            "right": null,
            "top": null,
            "visibility": null,
            "width": null
          }
        },
        "e3fc2486cefe42bd88d009e291e8be96": {
          "model_module": "@jupyter-widgets/base",
          "model_name": "LayoutModel",
          "model_module_version": "1.2.0",
          "state": {
            "_model_module": "@jupyter-widgets/base",
            "_model_module_version": "1.2.0",
            "_model_name": "LayoutModel",
            "_view_count": null,
            "_view_module": "@jupyter-widgets/base",
            "_view_module_version": "1.2.0",
            "_view_name": "LayoutView",
            "align_content": null,
            "align_items": null,
            "align_self": null,
            "border": null,
            "bottom": null,
            "display": null,
            "flex": null,
            "flex_flow": null,
            "grid_area": null,
            "grid_auto_columns": null,
            "grid_auto_flow": null,
            "grid_auto_rows": null,
            "grid_column": null,
            "grid_gap": null,
            "grid_row": null,
            "grid_template_areas": null,
            "grid_template_columns": null,
            "grid_template_rows": null,
            "height": null,
            "justify_content": null,
            "justify_items": null,
            "left": null,
            "margin": null,
            "max_height": null,
            "max_width": null,
            "min_height": null,
            "min_width": null,
            "object_fit": null,
            "object_position": null,
            "order": null,
            "overflow": null,
            "overflow_x": null,
            "overflow_y": null,
            "padding": null,
            "right": null,
            "top": null,
            "visibility": null,
            "width": null
          }
        },
        "a4b0000ce8cd4ea0b71dbdf6f56576b6": {
          "model_module": "@jupyter-widgets/controls",
          "model_name": "SliderStyleModel",
          "model_module_version": "1.5.0",
          "state": {
            "_model_module": "@jupyter-widgets/controls",
            "_model_module_version": "1.5.0",
            "_model_name": "SliderStyleModel",
            "_view_count": null,
            "_view_module": "@jupyter-widgets/base",
            "_view_module_version": "1.2.0",
            "_view_name": "StyleView",
            "description_width": "",
            "handle_color": null
          }
        },
        "301bf977377f40689a4f23e62af2f6c5": {
          "model_module": "@jupyter-widgets/base",
          "model_name": "LayoutModel",
          "model_module_version": "1.2.0",
          "state": {
            "_model_module": "@jupyter-widgets/base",
            "_model_module_version": "1.2.0",
            "_model_name": "LayoutModel",
            "_view_count": null,
            "_view_module": "@jupyter-widgets/base",
            "_view_module_version": "1.2.0",
            "_view_name": "LayoutView",
            "align_content": null,
            "align_items": null,
            "align_self": null,
            "border": null,
            "bottom": null,
            "display": null,
            "flex": null,
            "flex_flow": null,
            "grid_area": null,
            "grid_auto_columns": null,
            "grid_auto_flow": null,
            "grid_auto_rows": null,
            "grid_column": null,
            "grid_gap": null,
            "grid_row": null,
            "grid_template_areas": null,
            "grid_template_columns": null,
            "grid_template_rows": null,
            "height": null,
            "justify_content": null,
            "justify_items": null,
            "left": null,
            "margin": null,
            "max_height": null,
            "max_width": null,
            "min_height": null,
            "min_width": null,
            "object_fit": null,
            "object_position": null,
            "order": null,
            "overflow": null,
            "overflow_x": null,
            "overflow_y": null,
            "padding": null,
            "right": null,
            "top": null,
            "visibility": null,
            "width": null
          }
        }
      }
    }
  },
  "cells": [
    {
      "cell_type": "markdown",
      "metadata": {
        "id": "view-in-github",
        "colab_type": "text"
      },
      "source": [
        "<a href=\"https://colab.research.google.com/github/Kirill-Murashev/AI_for_valuers_book/blob/main/Parts-Chapters/Mann-Whitney-Wilcoxon/ROC-AUC_interactive.ipynb\" target=\"_parent\"><img src=\"https://colab.research.google.com/assets/colab-badge.svg\" alt=\"Open In Colab\"/></a>"
      ]
    },
    {
      "cell_type": "markdown",
      "source": [
        "The Receiver Operating Characteristic \"ROC\" illustrates the performance of the binary classifier by plotting the false alarm probability ($P_{FA}$) on the horizontal axis and the detection probability ($P_D$) on the vertical axis. The area under the ROC-curve (AUC) is used to provide a single-figure quantification of the performance of the binary classifier based on the ROC. This article provides an interpretation of the AUC and connects the AUC to the Wilcoxon–Mann–Whitney statistic, which is a nonparametic test to compare two populations. This derivation is pretty hard to find but the connection between the AUC and the Wilcoxon–Mann–Whitney test is important insofar as it provides some perspective on the seemingly arbitrary use of AUC to quantify the performance of the binary classifier.\n",
        "\n",
        "Let's proceed with some definitions and some notation. A binary classifier can make two kinds of mistakes, usually and unhelpfully called Type I and Type II errors.  The *detection probability* is \n",
        "\n",
        "$$P_D= \\mathbb{P}(1|x \\in C_1)$$\n",
        "\n",
        "which says that given a member of the $C_1$ class, this is the probability of the binary classifier correctly classifying $x$ as of that class. The *false alarm probability* is\n",
        "\n",
        "$$P_{FA}= \\mathbb{P}(1|x \\in C_0)$$\n",
        "\n",
        "Which is the probability that an element of the $C_0$ class will Incorrectly be classified as an element of the $C_1$ class. Binary classifiers usually work by comparing the measurement $x$ to a fixed threshold, $c$, to assess class membership. We can rewrite the above two definitions using $c$ as follows:\n",
        "\n",
        "$$P_D= \\mathbb{P}(x > c|x \\in C_1)$$\n",
        "\n",
        "$$P_{FA}= \\mathbb{P}( x> c|x \\in C_0)$$\n",
        "\n",
        "Thus, the ROC-curve is really a plot of the countour\n",
        "\n",
        "$$ (P_{FA}(c),P_D(c)) $$\n",
        "\n",
        "so that drawing of the curve actually means changing the value of the threshold, $c$. As a concrete example, we take the $f(x|C_0) = \\mathcal{N}(0,1)$ and $f(x|C_1) = \\mathcal{N}(2,1)$ as the two respective probability densities of $C_0$ and $C_1$. The following code constructs a ROC-curve for this situation.\n"
      ],
      "metadata": {
        "id": "zqZreLEMpiT7"
      }
    },
    {
      "cell_type": "code",
      "source": [
        "%matplotlib inline\n",
        "from IPython.html.widgets import interact\n",
        "from scipy import stats\n",
        "import numpy as np\n",
        "import matplotlib.pyplot as plt"
      ],
      "outputs": [],
      "metadata": {
        "id": "Zfi4N0BbpiUI"
      },
      "execution_count": 3
    },
    {
      "cell_type": "code",
      "source": [
        "f0=stats.norm(0,1)\n",
        "f1=stats.norm(2,1)\n",
        "fig,ax = plt.subplots()\n",
        "xi = np.linspace(-2,5,100)\n",
        "ax.plot(xi,f0.pdf(xi),label=r'$f(x|C_0)$')\n",
        "ax.plot(xi,f1.pdf(xi),label=r'$f(x|C_1)$')\n",
        "ax.legend(fontsize=16,loc=(1,0))\n",
        "ax.set_xlabel(r'$x$',fontsize=18)\n",
        "ax.vlines(0,0,ax.axis()[-1]*1.1,linestyles='--',lw=3.)\n",
        "ax.fill_between(xi,f1.pdf(xi),where=xi>0,alpha=.3,color='g')\n",
        "ax.fill_between(xi,f0.pdf(xi),where=xi>0,alpha=.3,color='b')"
      ],
      "outputs": [
        {
          "output_type": "execute_result",
          "data": {
            "text/plain": [
              "<matplotlib.collections.PolyCollection at 0x7fb31107c290>"
            ]
          },
          "metadata": {},
          "execution_count": 4
        },
        {
          "output_type": "display_data",
          "data": {
            "text/plain": [
              "<Figure size 432x288 with 1 Axes>"
            ],
            "image/png": "[encoded data removed]"
          },
          "metadata": {
            "needs_background": "light"
          }
        }
      ],
      "metadata": {
        "id": "m-OnqIiVpiUJ",
        "outputId": "26e54480-f5d3-4681-e73b-0cae157d7868",
        "colab": {
          "base_uri": "https://localhost:8080/",
          "height": 305
        }
      },
      "execution_count": 4
    },
    {
      "cell_type": "markdown",
      "source": [
        "In the above figure, the blue shaded area is the false-alarm probability and the shaded gray area is the probability of detection. These two values are what is plotted on a ROC. The dotted vertical line indicates the threshold value $c$."
      ],
      "metadata": {
        "id": "3fYIRpgrpiUM"
      }
    },
    {
      "cell_type": "code",
      "source": [
        "def plot_roc_interact(c=0):\n",
        "    xi = np.linspace(-3,5,100)\n",
        "    fig,axs = plt.subplots(1,2)\n",
        "    fig.set_size_inches((10,3))\n",
        "    ax = axs[0]\n",
        "    ax.plot(xi,f0.pdf(xi),label=r'$f(x|C_0)$')\n",
        "    ax.plot(xi,f1.pdf(xi),label=r'$f(x|C_1)$')\n",
        "    ax.set_xlabel(r'$x$',fontsize=18)\n",
        "    ax.vlines(c,0,ax.axis()[-1]*1.1,linestyles='--',lw=3.)\n",
        "    ax.fill_between(xi,f1.pdf(xi),where=xi>c,alpha=.3,color='g')\n",
        "    ax.fill_between(xi,f0.pdf(xi),where=xi>c,alpha=.3,color='b')\n",
        "    ax.axis(xmin=-3,xmax=5)\n",
        "    crange = np.linspace(-3,5,50)\n",
        "    ax=axs[1]\n",
        "    ax.plot(1-f0.cdf(crange),1-f1.cdf(crange))\n",
        "    ax.plot(1-f0.cdf(c),1-f1.cdf(c),'o',ms=15.)\n",
        "    ax.set_xlabel('False-alarm probability')\n",
        "    ax.set_ylabel('Detection probability')"
      ],
      "outputs": [],
      "metadata": {
        "id": "v3ODKE88piUN"
      },
      "execution_count": 5
    },
    {
      "cell_type": "code",
      "source": [
        "interact(plot_roc_interact,c=(-3,5,.05))"
      ],
      "outputs": [
        {
          "output_type": "display_data",
          "data": {
            "text/plain": [
              "interactive(children=(FloatSlider(value=0.0, description='c', max=5.0, min=-3.0, step=0.05), Output()), _dom_c…"
            ],
            "application/vnd.jupyter.widget-view+json": {
              "version_major": 2,
              "version_minor": 0,
              "model_id": "3ccfed22b5bf46f2ae46906098ce134f"
            }
          },
          "metadata": {}
        },
        {
          "output_type": "execute_result",
          "data": {
            "text/plain": [
              "<function __main__.plot_roc_interact>"
            ]
          },
          "metadata": {},
          "execution_count": 6
        }
      ],
      "metadata": {
        "id": "1AB4Z1S3piUP",
        "outputId": "d3b8c82f-a883-484f-be19-d942eb391d6f",
        "colab": {
          "base_uri": "https://localhost:8080/",
          "height": 283,
          "referenced_widgets": [
            "3ccfed22b5bf46f2ae46906098ce134f",
            "f2001d6591084b14b8b5eef8c6481bf4",
            "264c07331071471993286204bc6027f0",
            "4bbb6627060b455c83f18ef7d23447dd",
            "e3fc2486cefe42bd88d009e291e8be96",
            "a4b0000ce8cd4ea0b71dbdf6f56576b6",
            "301bf977377f40689a4f23e62af2f6c5"
          ]
        }
      },
      "execution_count": 6
    },
    {
      "cell_type": "markdown",
      "source": [
        "If you drag the slider in the interactive figure above, you will see how the colored areas shown on the left frame correspond to movement along the ROC on the right. Better binary classifiers have ROC curves that reach up to the upper left corner because these are the points that correspond to very high detection probabilities at a very low false alarm probability. A test that is no better than guessing just be a diagonal line on the ROC chart. This would correspond to a 100% overlap between the two density functions.  You can try this for yourself by changing the values of the respective meanings of the two density functions to see what happens when they overlap more (or less)."
      ],
      "metadata": {
        "id": "3lIo9TozpiUQ"
      }
    },
    {
      "cell_type": "markdown",
      "source": [
        "The AUC is independent of the particular threshold value because the ROC-curve is drawn by sweeping over this value.  This means that the AUC is indirectly *integrated* over the threshold values.  However, the computation of the AUC is based *explicitly*  on the $P_{FA}$ as in the following,\n",
        "\n",
        "$$ AUC = \\int P_D(P_{FA})dP_{FA} $$\n",
        "\n",
        "which doesn't give us a lot of room for interpretation.\n",
        "We can start to break this up by expanding\n",
        "\n",
        "$$ P_D(c) = 1-F_1(c)  $$\n",
        "\n",
        "where $F_1$ is the cumulative density function for $C_1$, and analogously, for $C_0$, we have the following\n",
        "\n",
        "$$ P_{FA}(c) = 1-F_0(c)  $$\n",
        "\n",
        "Let's start by fixing a particular $c^*$. This corresponds to a particular $P_{FA}(c^*)$. In words, this corresponds to the probability of member of the $C_0$ class such that $x_0>c^*$, or, equivalently $\\mathbb{P}(x_0>c^*|C_0)$. Note that I have introduced subscript here to emphasize that $x_0\\in C_0$. By the same reasoning, we have $P_D(c^*) =\\mathbb{P}(x_1>c^*|C_1) $.\n",
        "\n",
        "Now, in terms of the AUC integral, we have to reference $P_D$ through the $P_{FA}$. The trick is choose $c^*$ distributed as $F_0$ as in $c^*\\sim F_0$.\n",
        "\n",
        "\n",
        "$$P_D ( c^*) =  \\mathbb{P}(x_1 >c^*|C_1) $$\n",
        "\n",
        "Weirdly enough, this makes $P_D$ a random variable in its own right, with corresponding expectation as \n",
        "\n",
        "$$ \\mathbb{E}(P_D) =\\int P_D dP_{FA} = AUC $$\n",
        "\n",
        "Now, we finally have an interpretation. The AUC is the expected probability that an element  $ x_1 \\in C_1 $ would be more probable to be assigned to class $C_1$ than an element drawn from $C_0$ to be  assigned to $ C_1 $. This is another way of saying that $1-F_1(t) > 1-F_0(t)$ for all $ t $ (i.e. *stochastically larger*)."
      ],
      "metadata": {
        "id": "7DTImXSupiUR"
      }
    },
    {
      "cell_type": "markdown",
      "source": [
        "##Wilcoxon–Mann–Whitney test"
      ],
      "metadata": {
        "id": "tsAUk2jEpiUT"
      }
    },
    {
      "cell_type": "markdown",
      "source": [
        "The Wilcoxon–Mann–Whitney test (AKA Mann–Whitney U-test) is a nonparametric method to test whether or not samples derive from two separate distributions. The basic idea is that if there is no difference between the two categories, then combining them into one big set and then computing the statistic (or any statistic, really) as a permutation of the larger set should be no different. In other words, if there is no difference, then combining the data and pretending that the actual observed data is just one permutation of the mixture should be indistinguishable statistically.\n",
        "\n",
        "Supposed we need to compare to populations using the median, mean, or some other location estimator. In terms of the cumulative distribution functions for the two populations, for $ H_0 $ we have the following:\n",
        "\n",
        "$$ H_0: F_X(t) = F_Y(t) $$\n",
        "\n",
        "Namely, the data are drawn from the same underlying distribution. The alternative hypothesis is that $ F_X(t) \\lt F_Y(t) $  for all $ t $. For example, this could happen if one of the distributions is shifted with respect to the other. We have two labeled independent samples $ \\lbrace X_i \\rbrace_{i=1}^n$ and $ \\lbrace Y_i \\rbrace_{i=1}^m$. Note that the samples sizes can be different (i.e. $ m\\neq n $).\n",
        "\n",
        "The test works by collecting all the samples into one big set and then ranking the samples within the big set. The test statistic $ U $ is the sum of the ranks (taken within the big set) of the $X$-ranks. The idea is that when $U$ is small, the $X$-variables have lower ranks (i.e. are generally smaller than the $Y$-variables). This is evidence that the $ X $-distribution is shifted to the left of the $ Y $-distribution (i.e. $ F_X(t) < F_Y(t) $, stochastically).\n",
        "\n",
        "The following code shows an example of this for the two distributions considered above."
      ],
      "metadata": {
        "id": "EwXPnb7PpiUV"
      }
    },
    {
      "cell_type": "code",
      "source": [
        "print 'p-value ',stats.wilcoxon(f1.rvs(30),f0.rvs(30))[1]"
      ],
      "outputs": [
        {
          "output_type": "stream",
          "text": [
            "p-value  1.79884806918e-05\n"
          ],
          "name": "stdout"
        }
      ],
      "metadata": {
        "id": "h1ZPC53XpiUW",
        "outputId": "e9aa0a6e-72a5-42de-c116-0d8e078ac9eb"
      },
      "execution_count": null
    },
    {
      "cell_type": "markdown",
      "source": [
        "Because the computed p-value is so small, we can reject the null hypothesis that the distributions $F_X(t)$ and $ F_Y(t) $ are stochastically equal. This is good because we constructed them as such!"
      ],
      "metadata": {
        "id": "iNkhzqkepiUY"
      }
    },
    {
      "cell_type": "markdown",
      "source": [
        "##Connection to AUC"
      ],
      "metadata": {
        "id": "eJY2HOuOpiUZ"
      }
    },
    {
      "cell_type": "markdown",
      "source": [
        "\n",
        "Writing the U-statistic this way,\n",
        "\n",
        "$$ \\hat{\\theta}_{XY} = \\frac{1}{m n} \\sum_{i=1}^m \\sum_{j=1}^n \\mathbb{I}(Y_j>X_i) $$\n",
        "\n",
        "where $ \\mathbb{I} $ is the indicator function, shows that the statistic (for the discrete case) is estimating the probability that $Y$ is stochastically larger than $ X $. Thus, This correspondence means that the value of this (in the large sample limit) is equal to AUC."
      ],
      "metadata": {
        "id": "w2o-5kyYpiUa"
      }
    },
    {
      "cell_type": "markdown",
      "source": [
        "##Summary"
      ],
      "metadata": {
        "id": "PfF3b6hqpiUb"
      }
    },
    {
      "cell_type": "markdown",
      "source": [
        "In this article, we developed the area under the receiver operating characteristic curve (ROC) and connected it to the Wilcoxon–Mann–Whitney U-statistic. This area (i.e. AUC) is used To quantify the performance of a binary classifier using a single number. The problem is that it does not distinguish between regions of performance along the ROC. Thus, two different classifiers could have the same AUC-value and provide different relative performance for certain regions of ROC graph. This difference may be important to binary classifiers that typically operate in a small region of the ROC-curve."
      ],
      "metadata": {
        "id": "2_fjGC2LpiUc"
      }
    },
    {
      "cell_type": "markdown",
      "source": [
        "##References"
      ],
      "metadata": {
        "id": "jMIdkWkJpiUd"
      }
    },
    {
      "cell_type": "markdown",
      "source": [
        "\n",
        "* Boos, Dennis D., and L. A. Stefanski. Essential Statistical Inference. Springer, 2013.\n",
        "\n",
        "* Cortes, Corinna, and Mehryar Mohri. \"AUC optimization vs. error rate minimization.\" Advances in neural information processing systems 16.16 (2004): 313-320.\n",
        "\n",
        "* Mann, Henry B., and Donald R. Whitney. \"On a test of whether one of two random variables is stochastically larger than the other.\" The annals of mathematical statistics (1947): 50-60.\n",
        "\n",
        "* Mozer, Michael C. \"Optimizing classifier performance via an approximation to the Wilcoxon-Mann-Whitney statistic.\" (2003)."
      ],
      "metadata": {
        "id": "aW6nApGEpiUe"
      }
    }
  ]
}