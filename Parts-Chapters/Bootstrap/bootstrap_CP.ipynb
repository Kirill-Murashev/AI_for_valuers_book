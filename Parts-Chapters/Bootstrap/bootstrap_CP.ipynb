{
 "cells": [
  {
   "cell_type": "markdown",
   "id": "cb4316d4",
   "metadata": {},
   "source": [
    "# Development of the elements of the credit policy of the small bank with bootstrapping"
   ]
  },
  {
   "cell_type": "markdown",
   "id": "72775658",
   "metadata": {},
   "source": [
    "Cyrill A. Murashev, 2023-02-19"
   ]
  },
  {
   "cell_type": "markdown",
   "id": "bbfec986",
   "metadata": {},
   "source": [
    "## Abstract"
   ]
  },
  {
   "cell_type": "markdown",
   "id": "50abd2b9",
   "metadata": {},
   "source": [
    "This material is a continuation of a cycle of work on the topic of resampling methods. We discussed the jackknife method in the previous article. Today we will look at the more popular and universal method of bootstrapping. It would not be an exaggeration to say that bootstrapping is one of the cornerstones of modern data science, along with, for example, linear regression or ROC analysis. This material was developed specifically for appraisers, so we will look at the topic from the point of view of its practical usability in the practice of collateral lending.\n",
    "\n",
    "Let's imagine a small bank operating in Eastern Europe. Its management has set a goal to develop a system of rules for the bank's credit policy. One of them should solve the task of determining the maximum price of the mortgaged property, which is safe for the financial stability of the bank. It was decided to take into account the modern reality, especially the latest achievements in the world of artificial intelligence, as well as the requirements of [IFRS 13 \"Fair Value Measurement\"](https://www.ifrs.org/issued-standards/list-of-standards/ifrs-13-fair-value-measurement/). Thus, it was decided to minimize the influence of subjective factors and maximize the influence of scientific methods. Since the capabilities of the small financial institution are rather limited, there is no opportunity to implement the full-scale AI methods based on a real big data. Instead, it is reasonable to implement some local solutions based on machine learning and apply them to the medium-sized sample.\n",
    "\n",
    "It is very important to understand the following:\n",
    "1. we are dealing with a sample data, not with the whole market data;\n",
    "1. our goal is to estimate some parameters of the market, not only for the sample.\n",
    "In this context, we should apply some special methods that can help us to bring the estimates of parameters made for the sample closer to the true values that exist on the market under consideration.\n",
    "\n",
    "Today we will explore the method of bootstrapping in its basic implementation. It allows us to improve almost any estimate made for the sample and reduce its bias relative to the true value that exists in the market.\n",
    "\n",
    "\n",
    "\n"
   ]
  },
  {
   "cell_type": "markdown",
   "id": "83b4b9f0",
   "metadata": {},
   "source": [
    "## Task statement and key inputs"
   ]
  },
  {
   "cell_type": "markdown",
   "id": "d478fc74",
   "metadata": {},
   "source": [
    "As mentioned above, our training task is to develop some aspects of a bank's credit policy. Imagine a local market for real estate. The bank often makes loans secured by this property. In this case, one of the tasks is to set limits for the maximum possible loan amount, as well as the maximum safe value of the collateral. Both of these conditions are conditioned by the need to limit potential losses. And the second is also conditioned by the low liquidity of atypical objects, including those whose absolute or unit price is too high. In addition, insurance companies usually have their own limits, and they would not accept the risk of an excessive insurance payout, shifting it to the insured in the part of exceeding the limit. Therefore, it is reasonable to set the upper limit of the mortgaged property. In this case, the property with a value lower than the limit would be accepted as collateral for its full value. And a property with a value higher than the limit would be accepted at the limit value. This applies to both total and unit values.\n",
    "\n",
    "In order to achieve a balance between financial security and profitability, the best choice is to determine the market values of safe limits. This task requires estimation of certain specific parameters of the whole market. Since we have only a sample, we should apply some special methods that will help us to correct the bias between sample and population estimates. Now we can create a system of rules. \n",
    "1. The upper limit of the total value of the property is equal to the expectation plus one standard deviation.\n",
    "1. The upper limit of the unit value of the property is equal to the expectation plus two standard deviations.\n",
    "\n",
    "The specific values of the standard deviation could be shifted in one direction or the other, depending on a bank's objectives.\n",
    "\n",
    "Then we will estimate the values of the necessary parameters. We should estimate the true values of the four parameters: total and unit market values, as well as their standard deviations. As mentioned above, we can't get true values directly because we're working with samples. Therefore, we will use the method of bootstrapping, which allows us to reduce the bias of the sample estimates relative to the true values that exist in the population."
   ]
  },
  {
   "cell_type": "markdown",
   "id": "64ee5ea8",
   "metadata": {},
   "source": [
    "## The General Statements of Bootstrapping"
   ]
  },
  {
   "cell_type": "markdown",
   "id": "09395a3a",
   "metadata": {},
   "source": [
    "**Bootstrapping** is a random sampling with replacement technique. It belongs to the broader class of resampling methods. This technique can be used to estimate the sampling distribution of almost any statistic.\n",
    "\n",
    "In practice, when analyzing data, appraisers are almost always faced with the need to estimate the variance and confidence intervals of some measure. It is difficult to make useful inferences based on point estimates alone. Therefore, it is very useful to be able to estimate the confidence intervals of any indicators. Classical statistics tells us that we can, for example, estimate confidence intervals for the mean under certain assumptions. But it does not give a simple answer to the question of what to do if these assumptions are violated. Estimating confidence intervals for the median is a much more complex problem in itself. So we need a universal method that allows us to estimate almost any parameter and obtain its variance and confidence intervals regardless of any assumptions about the distribution of that parameter.\n",
    "\n",
    "The method of bootstrapping successfully solves the problem of obtaining values of such indicators regardless of the data distribution. Moreover, it allows you to improve any sample estimates, bringing their values closer to the true values in the population."
   ]
  },
  {
   "cell_type": "code",
   "execution_count": 118,
   "id": "81b23c23",
   "metadata": {},
   "outputs": [
    {
     "data": {
      "image/svg+xml": [
       "<?xml version=\"1.0\" encoding=\"UTF-8\" standalone=\"no\"?>\n",
       "<!DOCTYPE svg PUBLIC \"-//W3C//DTD SVG 1.1//EN\"\n",
       " \"http://www.w3.org/Graphics/SVG/1.1/DTD/svg11.dtd\">\n",
       "<!-- Generated by graphviz version 2.43.0 (0)\n",
       " -->\n",
       "<!-- Title: %3 Pages: 1 -->\n",
       "<svg width=\"768pt\" height=\"364pt\"\n",
       " viewBox=\"0.00 0.00 767.52 364.00\" xmlns=\"http://www.w3.org/2000/svg\" xmlns:xlink=\"http://www.w3.org/1999/xlink\">\n",
       "<g id=\"graph0\" class=\"graph\" transform=\"scale(1 1) rotate(0) translate(4 360)\">\n",
       "<title>%3</title>\n",
       "<polygon fill=\"white\" stroke=\"transparent\" points=\"-4,4 -4,-360 763.52,-360 763.52,4 -4,4\"/>\n",
       "<!-- n_7ffd30246c67446a85e3d4e1fb1e5c4d -->\n",
       "<g id=\"node1\" class=\"node\">\n",
       "<title>n_7ffd30246c67446a85e3d4e1fb1e5c4d</title>\n",
       "<ellipse fill=\"lightblue\" stroke=\"black\" cx=\"150.14\" cy=\"-338\" rx=\"150.27\" ry=\"18\"/>\n",
       "<text text-anchor=\"middle\" x=\"150.14\" y=\"-334.3\" font-family=\"Times,serif\" font-size=\"14.00\">Population: N&gt;&gt;1, $S_{1]$: n</text>\n",
       "</g>\n",
       "<!-- n_7eebcb35e4f548749d546510c4ec0c9d -->\n",
       "<g id=\"node2\" class=\"node\">\n",
       "<title>n_7eebcb35e4f548749d546510c4ec0c9d</title>\n",
       "<polygon fill=\"lightblue\" stroke=\"black\" points=\"150.14,-283 82.1,-265 150.14,-247 218.17,-265 150.14,-283\"/>\n",
       "<text text-anchor=\"middle\" x=\"150.14\" y=\"-261.3\" font-family=\"Times,serif\" font-size=\"14.00\">Is n=N?</text>\n",
       "</g>\n",
       "<!-- n_7ffd30246c67446a85e3d4e1fb1e5c4d&#45;&gt;n_7eebcb35e4f548749d546510c4ec0c9d -->\n",
       "<g id=\"edge1\" class=\"edge\">\n",
       "<title>n_7ffd30246c67446a85e3d4e1fb1e5c4d&#45;&gt;n_7eebcb35e4f548749d546510c4ec0c9d</title>\n",
       "<path fill=\"none\" stroke=\"black\" d=\"M150.14,-319.81C150.14,-311.79 150.14,-302.05 150.14,-293.07\"/>\n",
       "<polygon fill=\"black\" stroke=\"black\" points=\"153.64,-293.03 150.14,-283.03 146.64,-293.03 153.64,-293.03\"/>\n",
       "</g>\n",
       "<!-- n_e369a217f62f466dacc49f26bebd3a87 -->\n",
       "<g id=\"node3\" class=\"node\">\n",
       "<title>n_e369a217f62f466dacc49f26bebd3a87</title>\n",
       "<polygon fill=\"Red\" stroke=\"black\" points=\"248.45,-170.54 248.45,-185.46 176.8,-196 75.47,-196 3.82,-185.46 3.82,-170.54 75.47,-160 176.8,-160 248.45,-170.54\"/>\n",
       "<text text-anchor=\"middle\" x=\"126.14\" y=\"-174.3\" font-family=\"Times,serif\" font-size=\"14.00\" fill=\"white\">Obtain values directly</text>\n",
       "</g>\n",
       "<!-- n_7eebcb35e4f548749d546510c4ec0c9d&#45;&gt;n_e369a217f62f466dacc49f26bebd3a87 -->\n",
       "<g id=\"edge2\" class=\"edge\">\n",
       "<title>n_7eebcb35e4f548749d546510c4ec0c9d&#45;&gt;n_e369a217f62f466dacc49f26bebd3a87</title>\n",
       "<path fill=\"none\" stroke=\"black\" d=\"M145.62,-248.01C142.29,-236.21 137.67,-219.86 133.77,-206.04\"/>\n",
       "<polygon fill=\"black\" stroke=\"black\" points=\"137.05,-204.76 130.96,-196.08 130.31,-206.66 137.05,-204.76\"/>\n",
       "<text text-anchor=\"middle\" x=\"152.64\" y=\"-217.8\" font-family=\"Times,serif\" font-size=\"14.00\">Yes</text>\n",
       "</g>\n",
       "<!-- n_952608547c144c3ca57827f1a51e3b0e -->\n",
       "<g id=\"node4\" class=\"node\">\n",
       "<title>n_952608547c144c3ca57827f1a51e3b0e</title>\n",
       "<polygon fill=\"lightblue\" stroke=\"black\" points=\"423.14,-196 267.12,-178 423.14,-160 579.15,-178 423.14,-196\"/>\n",
       "<text text-anchor=\"middle\" x=\"423.14\" y=\"-174.3\" font-family=\"Times,serif\" font-size=\"14.00\">Distribution is known</text>\n",
       "</g>\n",
       "<!-- n_7eebcb35e4f548749d546510c4ec0c9d&#45;&gt;n_952608547c144c3ca57827f1a51e3b0e -->\n",
       "<g id=\"edge3\" class=\"edge\">\n",
       "<title>n_7eebcb35e4f548749d546510c4ec0c9d&#45;&gt;n_952608547c144c3ca57827f1a51e3b0e</title>\n",
       "<path fill=\"none\" stroke=\"black\" d=\"M179.87,-254.74C226.28,-240.29 316.47,-212.21 373.04,-194.6\"/>\n",
       "<polygon fill=\"black\" stroke=\"black\" points=\"374.34,-197.86 382.85,-191.54 372.26,-191.17 374.34,-197.86\"/>\n",
       "<text text-anchor=\"middle\" x=\"313.64\" y=\"-217.8\" font-family=\"Times,serif\" font-size=\"14.00\">No</text>\n",
       "</g>\n",
       "<!-- n_8e0e8a78574b4d83a62101638ff89d1c -->\n",
       "<g id=\"node5\" class=\"node\">\n",
       "<title>n_8e0e8a78574b4d83a62101638ff89d1c</title>\n",
       "<polygon fill=\"Red\" stroke=\"black\" points=\"460.51,-83.54 460.51,-98.46 391.17,-109 293.1,-109 223.76,-98.46 223.76,-83.54 293.1,-73 391.17,-73 460.51,-83.54\"/>\n",
       "<text text-anchor=\"middle\" x=\"342.14\" y=\"-87.3\" font-family=\"Times,serif\" font-size=\"14.00\" fill=\"white\">Apply any estimators</text>\n",
       "</g>\n",
       "<!-- n_952608547c144c3ca57827f1a51e3b0e&#45;&gt;n_8e0e8a78574b4d83a62101638ff89d1c -->\n",
       "<g id=\"edge4\" class=\"edge\">\n",
       "<title>n_952608547c144c3ca57827f1a51e3b0e&#45;&gt;n_8e0e8a78574b4d83a62101638ff89d1c</title>\n",
       "<path fill=\"none\" stroke=\"black\" d=\"M408.28,-161.41C396.41,-148.95 379.55,-131.26 365.82,-116.86\"/>\n",
       "<polygon fill=\"black\" stroke=\"black\" points=\"368,-114.07 358.57,-109.25 362.94,-118.9 368,-114.07\"/>\n",
       "<text text-anchor=\"middle\" x=\"400.64\" y=\"-130.8\" font-family=\"Times,serif\" font-size=\"14.00\">Yes</text>\n",
       "</g>\n",
       "<!-- n_7ff442c5de604fb9b0083bd802960074 -->\n",
       "<g id=\"node6\" class=\"node\">\n",
       "<title>n_7ff442c5de604fb9b0083bd802960074</title>\n",
       "<ellipse fill=\"lightblue\" stroke=\"black\" cx=\"619.14\" cy=\"-91\" rx=\"140.28\" ry=\"18\"/>\n",
       "<text text-anchor=\"middle\" x=\"619.14\" y=\"-87.3\" font-family=\"Times,serif\" font-size=\"14.00\">Apply the &#39;F(X)&#39; for n* times</text>\n",
       "</g>\n",
       "<!-- n_952608547c144c3ca57827f1a51e3b0e&#45;&gt;n_7ff442c5de604fb9b0083bd802960074 -->\n",
       "<g id=\"edge5\" class=\"edge\">\n",
       "<title>n_952608547c144c3ca57827f1a51e3b0e&#45;&gt;n_7ff442c5de604fb9b0083bd802960074</title>\n",
       "<path fill=\"none\" stroke=\"black\" d=\"M454.19,-163.53C485.8,-149.82 535.21,-128.4 571.72,-112.56\"/>\n",
       "<polygon fill=\"black\" stroke=\"black\" points=\"573.39,-115.65 581.17,-108.46 570.61,-109.23 573.39,-115.65\"/>\n",
       "<text text-anchor=\"middle\" x=\"542.64\" y=\"-130.8\" font-family=\"Times,serif\" font-size=\"14.00\">No</text>\n",
       "</g>\n",
       "<!-- n_e9a1914a972949789b91f238d45f086f -->\n",
       "<g id=\"node7\" class=\"node\">\n",
       "<title>n_e9a1914a972949789b91f238d45f086f</title>\n",
       "<polygon fill=\"lightyellow\" stroke=\"black\" stroke-dasharray=\"5,2\" points=\"693.64,-36 544.64,-36 544.64,0 693.64,0 693.64,-36\"/>\n",
       "<text text-anchor=\"middle\" x=\"619.14\" y=\"-14.3\" font-family=\"Courier,monospace\" font-size=\"14.00\">Obtain n* values</text>\n",
       "</g>\n",
       "<!-- n_7ff442c5de604fb9b0083bd802960074&#45;&gt;n_e9a1914a972949789b91f238d45f086f -->\n",
       "<g id=\"edge6\" class=\"edge\">\n",
       "<title>n_7ff442c5de604fb9b0083bd802960074&#45;&gt;n_e9a1914a972949789b91f238d45f086f</title>\n",
       "<path fill=\"none\" stroke=\"black\" stroke-dasharray=\"5,2\" d=\"M619.14,-72.81C619.14,-61.65 619.14,-47.16 619.14,-36.03\"/>\n",
       "</g>\n",
       "</g>\n",
       "</svg>\n"
      ],
      "text/plain": [
       "<flowgiston.base.FlowgistonChart at 0x7ff819b82c10>"
      ]
     },
     "execution_count": 118,
     "metadata": {},
     "output_type": "execute_result"
    }
   ],
   "source": [
    "from flowgiston import *\n",
    "Base = flowgiston_base(fillcolor='lightblue')\n",
    "class Yes(Base):\n",
    "    fillcolor = 'Red'\n",
    "    fontcolor = 'white'\n",
    "    shape = 'octagon'\n",
    "\n",
    "class Note(Base):\n",
    "    fillcolor = 'lightyellow'\n",
    "    style = 'filled,dashed'\n",
    "    shape = 'box'\n",
    "    fontname = 'courier'\n",
    "\n",
    "chart = FlowgistonChart(Base)\n",
    "\n",
    "sample = chart.start(\"Population: N>>1, $S_{1]$: n\").edge(chart.if_(\"Is n=N?\"))\n",
    "sample.yes(chart.Yes.node(\"Obtain values directly\"))\n",
    "distribution = sample.no(chart.if_(\"Distribution is known\"))\n",
    "distribution.yes(chart.Yes.node(\"Apply any estimators\"))\n",
    "end = distribution.no(chart.end(\"Apply the 'F(X)' for n* times\")).edge(chart.Note.node(\"Obtain n* values\"), style='dashed', dir='none')\n",
    "chart"
   ]
  },
  {
   "cell_type": "code",
   "execution_count": 58,
   "id": "20b14d4a",
   "metadata": {},
   "outputs": [],
   "source": []
  },
  {
   "cell_type": "code",
   "execution_count": null,
   "id": "38d4633f",
   "metadata": {},
   "outputs": [],
   "source": []
  }
 ],
 "metadata": {
  "kernelspec": {
   "display_name": "Python 3 (ipykernel)",
   "language": "python",
   "name": "python3"
  },
  "language_info": {
   "codemirror_mode": {
    "name": "ipython",
    "version": 3
   },
   "file_extension": ".py",
   "mimetype": "text/x-python",
   "name": "python",
   "nbconvert_exporter": "python",
   "pygments_lexer": "ipython3",
   "version": "3.9.12"
  }
 },
 "nbformat": 4,
 "nbformat_minor": 5
}
