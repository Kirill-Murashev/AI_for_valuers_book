{
 "cells": [
  {
   "cell_type": "markdown",
   "id": "cb4316d4",
   "metadata": {},
   "source": [
    "# El uso del bootstrapping en la valoración como ejemplo del desarrollo de elementos de política crediticia para un banco pequeño"
   ]
  },
  {
   "cell_type": "markdown",
   "id": "72775658",
   "metadata": {},
   "source": [
    "Cyrill A. Murashev, 2023-03-07"
   ]
  },
  {
   "cell_type": "markdown",
   "id": "bbfec986",
   "metadata": {},
   "source": [
    "## Abstracto"
   ]
  },
  {
   "cell_type": "markdown",
   "id": "50abd2b9",
   "metadata": {},
   "source": [
    "Este material es la continuación de un ciclo de trabajo sobre el tema de los métodos de remuestreo. Hablamos del método jackknife en el [artículo anterior](https://github.com/Kirill-Murashev/AI_for_valuers_book/blob/main/Parts-Chapters/Jackknife/jackknife-esp.ipynb). Hoy examinaremos el método más popular y universal del bootstrapping. No sería exagerado decir que el bootstrapping es una de las piedras angulares de la ciencia de datos moderna, junto con, por ejemplo, la regresión lineal o el análisis ROC. Este material se ha desarrollado específicamente para tasadores, por lo que estudiaremos el tema desde el punto de vista de su utilidad práctica en la práctica de los préstamos con garantía.\n",
    "\n",
    "Imaginemos un pequeño banco que opera en Europa del Este. Su dirección se ha fijado el objetivo de desarrollar un sistema de normas para la política crediticia del banco. Una de ellas debe resolver la tarea de determinar el precio máximo de la propiedad hipotecada, que es seguro para la estabilidad financiera del banco. Se decidió tener en cuenta la realidad moderna, especialmente los últimos logros en el mundo de la inteligencia artificial, así como los requisitos de la [IFRS 13 \"Fair Value Measurement\"](https://www.ifrs.org/issued-standards/list-of-standards/ifrs-13-fair-value-measurement/). Así, se decidió minimizar la influencia de los factores subjetivos y maximizar la de los métodos científicos. Dado que las capacidades de las pequeñas instituciones financieras son bastante limitadas, no existe la posibilidad de aplicar métodos de IA a gran escala basados en big data reales. En su lugar, es razonable implementar algunas soluciones locales basadas en el aprendizaje automático y aplicarlas a la muestra de tamaño medio.\n",
    "\n",
    "Es muy importante comprender lo siguiente\n",
    "1. estamos tratando con una muestra de datos, no con la totalidad de los datos del mercado;\n",
    "1. nuestro objetivo es estimar algunos parámetros del mercado, no sólo de la muestra.\n",
    "Hay otra premisa fundamental que debe entenderse cuando se analizan datos de mercado. Los tasadores casi nunca conocen la distribución de una característica en los datos de mercado. Por lo tanto, trabajan con una distribución desconocida, lo que impone algunas limitaciones a la aplicación de los enfoques estadísticos clásicos basados en hipótesis relacionadas con la forma de la distribución.\n",
    "\n",
    "En este contexto, debemos aplicar algunos métodos especiales que pueden ayudarnos a aproximar las estimaciones de los parámetros realizadas para la muestra a los verdaderos valores que existen en el mercado considerado. También deben estar libres de la forma de la distribución.\n",
    "\n",
    "Hoy exploraremos el método de bootstrapping en sus implementaciones básicas y en algunas algo más sofisticadas. Nos permite mejorar casi cualquier estimación realizada para la muestra y reducir su sesgo con respecto al valor real que existe en el mercado, independientemente de la distribución de la característica en la muestra inicial."
   ]
  },
  {
   "cell_type": "markdown",
   "id": "83b4b9f0",
   "metadata": {},
   "source": [
    "## Declaración de tareas y aportaciones clave"
   ]
  },
  {
   "cell_type": "markdown",
   "id": "d478fc74",
   "metadata": {},
   "source": [
    "Como ya hemos mencionado, nuestra tarea de formación consiste en desarrollar algunos aspectos de la política de crédito de un banco. Imaginemos un mercado local de bienes inmuebles. El banco suele conceder préstamos garantizados por esta propiedad. En este caso, una de las tareas consiste en establecer límites para el importe máximo posible del préstamo, así como el valor máximo seguro de la garantía. Ambas condiciones están condicionadas por la necesidad de limitar las pérdidas potenciales. Y la segunda también está condicionada por la escasa liquidez de los objetos atípicos, incluidos aquellos cuyo precio absoluto o unitario es demasiado elevado. Además, las compañías de seguros suelen tener sus propios límites, y no aceptarían el riesgo de un pago excesivo del seguro, trasladándolo al asegurado en la parte de superación del límite. Por lo tanto, es razonable fijar el límite superior de la propiedad hipotecada. En este caso, la propiedad con un valor inferior al límite se aceptaría como garantía por su valor total. Y una propiedad con un valor superior al límite se aceptaría por el valor límite. Esto se aplica tanto a los valores totales como a los unitarios. En algunos casos, también tendría sentido limitar el precio mínimo.\n",
    "\n",
    "Para lograr un equilibrio entre seguridad financiera y rentabilidad, la mejor opción es determinar los valores de mercado de los límites seguros. Esta tarea requiere la estimación de ciertos parámetros específicos de todo el mercado. Dado que sólo disponemos de una muestra, debemos aplicar algunos métodos especiales que nos ayudarán a corregir el sesgo entre las estimaciones de la muestra y las de la población. Ahora podemos crear un sistema de reglas. \n",
    "1. El límite superior del valor total de la propiedad es igual a la expectativa más una desviación típica.\n",
    "1. El límite superior del valor unitario de la propiedad es igual a la expectativa más dos desviaciones típicas.\n",
    "\n",
    "Los valores específicos de la desviación típica podrían desplazarse en un sentido u otro, en función de los objetivos de un banco.\n",
    "\n",
    "A continuación, estimaremos los valores de los parámetros necesarios. Debemos estimar los valores verdaderos de los cuatro parámetros: valores de mercado totales y unitarios, así como sus desviaciones típicas. Como ya hemos dicho, no podemos obtener los valores verdaderos directamente porque estamos trabajando con muestras. Por lo tanto, utilizaremos el método de bootstrapping, que nos permite reducir el sesgo de las estimaciones muestrales en relación con los valores verdaderos que existen en la población."
   ]
  },
  {
   "cell_type": "markdown",
   "id": "da5b4802",
   "metadata": {},
   "source": [
    "## Descripción del método"
   ]
  },
  {
   "cell_type": "markdown",
   "id": "64ee5ea8",
   "metadata": {},
   "source": [
    "### Declaraciones generales sobre el Bootstrapping"
   ]
  },
  {
   "cell_type": "markdown",
   "id": "de465862",
   "metadata": {},
   "source": [
    "**Bootstrapping** es una técnica de muestreo aleatorio con sustitución. Pertenece a la clase más amplia de métodos de remuestreo. Esta técnica puede utilizarse para estimar la distribución muestral de casi cualquier estadística.\n",
    "\n",
    "En la práctica, al analizar datos, los tasadores casi siempre se enfrentan a la necesidad de estimar la varianza y los intervalos de confianza de alguna medida. Es difícil hacer inferencias útiles basándose únicamente en estimaciones puntuales. Por lo tanto, es muy útil poder estimar los intervalos de confianza de cualquier indicador. La estadística clásica nos dice que podemos, por ejemplo, estimar intervalos de confianza para la media bajo ciertos supuestos. Pero no da una respuesta sencilla a la pregunta de qué hacer si se violan estos supuestos. Estimar intervalos de confianza para la mediana es un problema mucho más complejo en sí mismo. Así que necesitamos un método universal que nos permita estimar casi cualquier parámetro y obtener su varianza y sus intervalos de confianza, independientemente de cualquier suposición sobre la distribución de ese parámetro.\n",
    "\n",
    "El método de bootstrapping resuelve con éxito el problema de obtener valores de dichos indicadores independientemente de la distribución de los datos. Además, permite mejorar cualquier estimación muestral, acercando sus valores a los verdaderos valores de la población.\n",
    "\n",
    "Imaginemos que existe una población general que tiene *N* elementos. Pero sólo tenemos una muestra de tamaño *n*. Si *N* y *n* son iguales, podemos obtener cualquier parámetro directamente de la muestra. En la práctica, *n* es casi mucho menor que *N*. Así que necesitamos aplicar alguna función **'F(X)'** para obtener estimaciones de algún parámetro para la muestra. En el caso de que conozcamos la distribución del parámetro en la población general, podemos utilizar la estimación puntual obtenida. Pero lo más frecuente es que no conozcamos esta distribución. En este caso, la estimación puntual resultante no nos resulta suficientemente útil. El hecho es que no podemos correlacionarla de algún modo con el verdadero valor del parámetro para toda la población general. Así que necesitamos obtener de algún modo no sólo la estimación, sino también su distribución esperada en la población. Es decir, deberíamos obtener un conjunto de estimaciones como si tuviéramos muchas muestras. Pero sólo tenemos una muestra. Así que necesitamos algún tipo de remuestreo. El resumen de lo anterior se muestra en la siguiente figura."
   ]
  },
  {
   "cell_type": "code",
   "execution_count": 5,
   "id": "a6b03c7b",
   "metadata": {},
   "outputs": [
    {
     "data": {
      "image/svg+xml": [
       "<?xml version=\"1.0\" encoding=\"UTF-8\" standalone=\"no\"?>\n",
       "<!DOCTYPE svg PUBLIC \"-//W3C//DTD SVG 1.1//EN\"\n",
       " \"http://www.w3.org/Graphics/SVG/1.1/DTD/svg11.dtd\">\n",
       "<!-- Generated by graphviz version 2.43.0 (0)\n",
       " -->\n",
       "<!-- Title: %3 Pages: 1 -->\n",
       "<svg width=\"756pt\" height=\"364pt\"\n",
       " viewBox=\"0.00 0.00 756.12 364.00\" xmlns=\"http://www.w3.org/2000/svg\" xmlns:xlink=\"http://www.w3.org/1999/xlink\">\n",
       "<g id=\"graph0\" class=\"graph\" transform=\"scale(1 1) rotate(0) translate(4 360)\">\n",
       "<title>%3</title>\n",
       "<polygon fill=\"white\" stroke=\"transparent\" points=\"-4,4 -4,-360 752.12,-360 752.12,4 -4,4\"/>\n",
       "<!-- n_4b4c6ea4f4514db79596445b0376a4c2 -->\n",
       "<g id=\"node1\" class=\"node\">\n",
       "<title>n_4b4c6ea4f4514db79596445b0376a4c2</title>\n",
       "<ellipse fill=\"lightblue\" stroke=\"black\" cx=\"170.93\" cy=\"-338\" rx=\"170.87\" ry=\"18\"/>\n",
       "<text text-anchor=\"middle\" x=\"170.93\" y=\"-334.3\" font-family=\"Times,serif\" font-size=\"14.00\">Population: N&gt;&gt;1, Sample: n&lt;&lt;N</text>\n",
       "</g>\n",
       "<!-- n_ff386a455dc64a45a1bd6b6d157e81ae -->\n",
       "<g id=\"node2\" class=\"node\">\n",
       "<title>n_ff386a455dc64a45a1bd6b6d157e81ae</title>\n",
       "<polygon fill=\"lightblue\" stroke=\"black\" points=\"170.93,-283 102.9,-265 170.93,-247 238.97,-265 170.93,-283\"/>\n",
       "<text text-anchor=\"middle\" x=\"170.93\" y=\"-261.3\" font-family=\"Times,serif\" font-size=\"14.00\">Is n=N?</text>\n",
       "</g>\n",
       "<!-- n_4b4c6ea4f4514db79596445b0376a4c2&#45;&gt;n_ff386a455dc64a45a1bd6b6d157e81ae -->\n",
       "<g id=\"edge1\" class=\"edge\">\n",
       "<title>n_4b4c6ea4f4514db79596445b0376a4c2&#45;&gt;n_ff386a455dc64a45a1bd6b6d157e81ae</title>\n",
       "<path fill=\"none\" stroke=\"black\" d=\"M170.93,-319.81C170.93,-311.79 170.93,-302.05 170.93,-293.07\"/>\n",
       "<polygon fill=\"black\" stroke=\"black\" points=\"174.43,-293.03 170.93,-283.03 167.43,-293.03 174.43,-293.03\"/>\n",
       "</g>\n",
       "<!-- n_840250bc0a06468fa96354a080278d5e -->\n",
       "<g id=\"node3\" class=\"node\">\n",
       "<title>n_840250bc0a06468fa96354a080278d5e</title>\n",
       "<polygon fill=\"Red\" stroke=\"black\" points=\"269.25,-170.54 269.25,-185.46 197.6,-196 96.27,-196 24.62,-185.46 24.62,-170.54 96.27,-160 197.6,-160 269.25,-170.54\"/>\n",
       "<text text-anchor=\"middle\" x=\"146.93\" y=\"-174.3\" font-family=\"Times,serif\" font-size=\"14.00\" fill=\"white\">Obtain values directly</text>\n",
       "</g>\n",
       "<!-- n_ff386a455dc64a45a1bd6b6d157e81ae&#45;&gt;n_840250bc0a06468fa96354a080278d5e -->\n",
       "<g id=\"edge2\" class=\"edge\">\n",
       "<title>n_ff386a455dc64a45a1bd6b6d157e81ae&#45;&gt;n_840250bc0a06468fa96354a080278d5e</title>\n",
       "<path fill=\"none\" stroke=\"black\" d=\"M166.42,-248.01C163.09,-236.21 158.47,-219.86 154.57,-206.04\"/>\n",
       "<polygon fill=\"black\" stroke=\"black\" points=\"157.84,-204.76 151.76,-196.08 151.11,-206.66 157.84,-204.76\"/>\n",
       "<text text-anchor=\"middle\" x=\"173.43\" y=\"-217.8\" font-family=\"Times,serif\" font-size=\"14.00\">Yes</text>\n",
       "</g>\n",
       "<!-- n_9e3da6f0ad024e4ca984a9ca67cda501 -->\n",
       "<g id=\"node4\" class=\"node\">\n",
       "<title>n_9e3da6f0ad024e4ca984a9ca67cda501</title>\n",
       "<polygon fill=\"lightblue\" stroke=\"black\" points=\"443.93,-196 287.92,-178 443.93,-160 599.95,-178 443.93,-196\"/>\n",
       "<text text-anchor=\"middle\" x=\"443.93\" y=\"-174.3\" font-family=\"Times,serif\" font-size=\"14.00\">Distribution is known</text>\n",
       "</g>\n",
       "<!-- n_ff386a455dc64a45a1bd6b6d157e81ae&#45;&gt;n_9e3da6f0ad024e4ca984a9ca67cda501 -->\n",
       "<g id=\"edge3\" class=\"edge\">\n",
       "<title>n_ff386a455dc64a45a1bd6b6d157e81ae&#45;&gt;n_9e3da6f0ad024e4ca984a9ca67cda501</title>\n",
       "<path fill=\"none\" stroke=\"black\" d=\"M200.67,-254.74C247.08,-240.29 337.27,-212.21 393.84,-194.6\"/>\n",
       "<polygon fill=\"black\" stroke=\"black\" points=\"395.14,-197.86 403.65,-191.54 393.06,-191.17 395.14,-197.86\"/>\n",
       "<text text-anchor=\"middle\" x=\"334.43\" y=\"-217.8\" font-family=\"Times,serif\" font-size=\"14.00\">No</text>\n",
       "</g>\n",
       "<!-- n_9695d8373e2e402fa727f2b1081bd415 -->\n",
       "<g id=\"node5\" class=\"node\">\n",
       "<title>n_9695d8373e2e402fa727f2b1081bd415</title>\n",
       "<polygon fill=\"Red\" stroke=\"black\" points=\"486.31,-83.54 486.31,-98.46 416.97,-109 318.9,-109 249.56,-98.46 249.56,-83.54 318.9,-73 416.97,-73 486.31,-83.54\"/>\n",
       "<text text-anchor=\"middle\" x=\"367.93\" y=\"-87.3\" font-family=\"Times,serif\" font-size=\"14.00\" fill=\"white\">Apply any estimators</text>\n",
       "</g>\n",
       "<!-- n_9e3da6f0ad024e4ca984a9ca67cda501&#45;&gt;n_9695d8373e2e402fa727f2b1081bd415 -->\n",
       "<g id=\"edge4\" class=\"edge\">\n",
       "<title>n_9e3da6f0ad024e4ca984a9ca67cda501&#45;&gt;n_9695d8373e2e402fa727f2b1081bd415</title>\n",
       "<path fill=\"none\" stroke=\"black\" d=\"M430,-161.41C418.86,-148.95 403.04,-131.26 390.16,-116.86\"/>\n",
       "<polygon fill=\"black\" stroke=\"black\" points=\"392.63,-114.37 383.35,-109.25 387.41,-119.03 392.63,-114.37\"/>\n",
       "<text text-anchor=\"middle\" x=\"423.43\" y=\"-130.8\" font-family=\"Times,serif\" font-size=\"14.00\">Yes</text>\n",
       "</g>\n",
       "<!-- n_7a5dd024c6774db7b81043db85a7bb8c -->\n",
       "<g id=\"node6\" class=\"node\">\n",
       "<title>n_7a5dd024c6774db7b81043db85a7bb8c</title>\n",
       "<ellipse fill=\"lightblue\" stroke=\"black\" cx=\"625.93\" cy=\"-91\" rx=\"122.38\" ry=\"18\"/>\n",
       "<text text-anchor=\"middle\" x=\"625.93\" y=\"-87.3\" font-family=\"Times,serif\" font-size=\"14.00\">Apply &#39;F(X)&#39; for n* times</text>\n",
       "</g>\n",
       "<!-- n_9e3da6f0ad024e4ca984a9ca67cda501&#45;&gt;n_7a5dd024c6774db7b81043db85a7bb8c -->\n",
       "<g id=\"edge5\" class=\"edge\">\n",
       "<title>n_9e3da6f0ad024e4ca984a9ca67cda501&#45;&gt;n_7a5dd024c6774db7b81043db85a7bb8c</title>\n",
       "<path fill=\"none\" stroke=\"black\" d=\"M473.18,-163.34C502.48,-149.66 547.95,-128.42 581.67,-112.67\"/>\n",
       "<polygon fill=\"black\" stroke=\"black\" points=\"583.27,-115.79 590.85,-108.39 580.3,-109.45 583.27,-115.79\"/>\n",
       "<text text-anchor=\"middle\" x=\"555.43\" y=\"-130.8\" font-family=\"Times,serif\" font-size=\"14.00\">No</text>\n",
       "</g>\n",
       "<!-- n_16cde320259a4f9d9f92c2ca24baafe7 -->\n",
       "<g id=\"node7\" class=\"node\">\n",
       "<title>n_16cde320259a4f9d9f92c2ca24baafe7</title>\n",
       "<polygon fill=\"lightyellow\" stroke=\"black\" stroke-dasharray=\"5,2\" points=\"712.43,-36 539.43,-36 539.43,0 712.43,0 712.43,-36\"/>\n",
       "<text text-anchor=\"middle\" x=\"625.93\" y=\"-14.3\" font-family=\"Courier,monospace\" font-size=\"14.00\">Obtain didtribution</text>\n",
       "</g>\n",
       "<!-- n_7a5dd024c6774db7b81043db85a7bb8c&#45;&gt;n_16cde320259a4f9d9f92c2ca24baafe7 -->\n",
       "<g id=\"edge6\" class=\"edge\">\n",
       "<title>n_7a5dd024c6774db7b81043db85a7bb8c&#45;&gt;n_16cde320259a4f9d9f92c2ca24baafe7</title>\n",
       "<path fill=\"none\" stroke=\"black\" stroke-dasharray=\"5,2\" d=\"M625.93,-72.81C625.93,-61.65 625.93,-47.16 625.93,-36.03\"/>\n",
       "</g>\n",
       "</g>\n",
       "</svg>\n"
      ],
      "text/plain": [
       "<flowgiston.base.FlowgistonChart at 0x7f34083f5c70>"
      ]
     },
     "execution_count": 5,
     "metadata": {},
     "output_type": "execute_result"
    }
   ],
   "source": [
    "from flowgiston import *\n",
    "Base = flowgiston_base(fillcolor='lightblue')\n",
    "class Yes(Base):\n",
    "    fillcolor = 'Red'\n",
    "    fontcolor = 'white'\n",
    "    shape = 'octagon'\n",
    "\n",
    "class Note(Base):\n",
    "    fillcolor = 'lightyellow'\n",
    "    style = 'filled,dashed'\n",
    "    shape = 'box'\n",
    "    fontname = 'courier'\n",
    "\n",
    "chart = FlowgistonChart(Base)\n",
    "\n",
    "sample = chart.start(\"Population: N>>1, Sample: n<<N\").edge(chart.if_(\"Is n=N?\"))\n",
    "sample.yes(chart.Yes.node(\"Obtain values directly\"))\n",
    "distribution = sample.no(chart.if_(\"Distribution is known\"))\n",
    "distribution.yes(chart.Yes.node(\"Apply any estimators\"))\n",
    "end = distribution.no(chart.end(\"Apply 'F(X)' for n* times\")).edge(chart.Note.node(\"Obtain didtribution\"), style='dashed', dir='none')\n",
    "chart"
   ]
  },
  {
   "cell_type": "markdown",
   "id": "f5c3b17b",
   "metadata": {},
   "source": [
    "Veamos un ejemplo. Necesitamos encontrar la distribución del siguiente parámetroer\n",
    "$$\\frac{\\overline{x}-\\mu}{\\frac{S}{\\sqrt{n}}}.$$\n",
    "\n",
    "Basándonos en el diagrama de flujo anterior, nos vemos obligados a rechazar la estimación directa. Entonces podemos elegir entre el enfoque estadístico clásico y el remuestreo. El primero requiere que conozcamos la distribución. O podemos hacer algunas suposiciones sobre la distribución. Por ejemplo, podemos suponer que la característica estimada tiene una distribución normal en la población general. Entonces nuestro parámetro tendría la **t-distribución**. Pero no tenemos respuesta a lo que ocurriría si nuestras suposiciones fueran erróneas.\n",
    "\n",
    "En la práctica de la valoración, casi siempre desconocemos la distribución de una característica en el mercado y no podemos hacer conjeturas fiables al respecto. El bootstrapping puede ayudarnos en estos casos. La idea es la siguiente. Sólo tenemos una muestra. Por lo tanto, sólo podemos obtener la estimación puntual del parámetro. Pero si pudiéramos obtener un cierto número de muestras de la población general, también podríamos obtener la distribución del parámetro en ellas. Esto, a su vez, nos permitiría obtener los intervalos de confianza del parámetro, independientemente de cualquier supuesto. En la práctica, no podemos obtener nuevas muestras sin pérdidas de tamaño. Pero podemos simular nuevas pseudo-muestras como si pudiéramos obtener algunas muestras de la población.\n",
    "\n",
    "Si nuestra muestra es lo suficientemente grande, su distribución es hasta cierto punto un reflejo de la distribución en la población general. Este hecho nos permite dar un paso importante en la comprensión del concepto de bootstrapping, así como del concepto general de remuestreo. El enfoque estadístico clásico se basa en una suposición previa sobre la forma de la distribución en la población general. Los métodos de remuestreo, en cambio, suponen que la distribución en la población general es aproximadamente la misma que la distribución de muestreo. En un sentido más general, podemos decir que el método consiste en trabajar con la muestra como si fuera la población general. Tomamos una muestra y suponemos que refleja la distribución de la población. A continuación, aplicamos algunas técnicas de remuestreo. A continuación, utilizamos la función para calcular los estadísticos que nos interesan. Como resultado, extendemos las conclusiones extraídas de la muestra a toda la población. La técnica descrita parece un poco recursiva. Sin embargo, funciona muy bien en la práctica."
   ]
  },
  {
   "cell_type": "markdown",
   "id": "3f17f1bb",
   "metadata": {},
   "source": [
    "### La técnica del bootstrapping"
   ]
  },
  {
   "cell_type": "markdown",
   "id": "a3b62ffe",
   "metadata": {},
   "source": [
    "#### Obtener intervalos de confianza"
   ]
  },
  {
   "cell_type": "markdown",
   "id": "7bce9646",
   "metadata": {},
   "source": [
    "Consideremos un caso sencillo, cuya versión más avanzada será útil para nuestra tarea principal. Tenemos una muestra $X[x_{1}\\ldots x_{n}]$ y queremos encontrar el intervalo de confianza para la media. Por supuesto, no tenemos ningún problema para calcular la media muestral. Sin embargo, es sólo un número que se refiere únicamente a la muestra en sí. El enfoque clásico nos dice que podemos obtener el intervalo de confianza a partir de este valor. Pero sólo si se conoce la distribución. En la práctica, no tenemos ni idea de cuál es la verdadera distribución en el mercado. Por lo tanto, es muy probable que el intervalo de confianza calculado sea engañoso. En su lugar, supondremos que la muestra es bastante representativa y refleja en cierta medida la verdadera distribución en la población. A continuación, daremos los siguientes pasos.\n",
    "11. Tomamos nuestra muestra y utilizamos el muestreo aleatorio con reemplazamiento para crear una nueva muestra del mismo tamaño. Esto significa que una o más observaciones de la muestra original pueden repetirse cualquier número de veces en la nueva muestra.\n",
    "1. Repita el paso anterior al menos mil veces. Cuantas más veces se repita este proceso, mejor será el resultado. Por lo tanto, el límite superior de repeticiones sólo lo fija la potencia de cálculo.\n",
    "1. Introduzcamos una nueva notación y etiquetemos la nueva muestra como $X^{*}$. Así que ahora tenemos un conjunto de $X^{*}$ de $X_{1}^{*}$ a $X_{B}^{*}$.\n",
    "1. Calcular la estadística de interés para cada $X^{*}$. En nuestro caso, será la media. Esto nos dará un conjunto de valores $\\overline{X_{1}^{*}},\\ldots,\\overline{X_{B}^{*}}$.\n",
    "1. Es fácil ver que ahora tenemos la distribución de la estadística de interés. Esto nos permite trabajar con ella como lo haríamos con cualquier distribución conocida. Por ejemplo, podemos establecer cuantiles de interés y calcular el intervalo de confianza, que era nuestro objetivo original.\n",
    "\n",
    "El algoritmo anterior nos permite proporcionar una implementación del **bootstrap de percentiles**. Es el tipo de bootstrap más sencillo e intuitivo. Pero tiene algunas limitaciones. La principal es que esta técnica sólo puede manejar bien distribuciones simétricas. La técnica más sofisticada pero también más universal es el **bootstrap básico**. Este enfoque utiliza una técnica ligeramente diferente. Tiene los mismos dos primeros pasos. Pero en el tercer paso calculamos un estadístico diferente:$\\overline{X} - \\overline{X_{i}^{*}}$. Como resultado, obtenemos la distribución de la siguiente estadística\n",
    "$$\\overline{X} - \\overline{X_{i}^{*}}.$$\n",
    "Su idea principal es que debemos conseguir lo siguiente gracias a un gran número de muestras repetidas \n",
    "$$\\mu - \\overline{X} \\approx \\overline{X} - \\overline{X^{*}}.$$\n",
    "Vamos a etiquetar la distribución de $\\mu - \\overline{X}$ as $\\beta$. Si conociéramos alfa, podríamos obtener sus cuantiles, por ejemplo $\\beta_{0,025}, \\beta_{0,975}$. Esto significa que podríamos estimar la probabilidad de lo siguiente\n",
    "$$\n",
    "P\\left(\\mu-(\\overline{x}) \\in [\\beta_{0.025}, \\beta_{0.975}]\\right).\n",
    "$$\n",
    "Por supuesto, para la beta conocida, la probabilidad es 0,95. La ecuación anterior puede reescribirse como sigue\n",
    "$$\\begin{cases}\n",
    "\\mu-\\overline{x} \\leq \\beta_{0.975}\\\\\n",
    "\\mu-\\overline{x} \\geq \\beta_{0.025}.\n",
    "\\end{cases}\n",
    "$$\n",
    "Nos permite saber que\n",
    "$$\n",
    "P\\left(\\mu \\in [\\beta_{0.025}+\\overline{x}, \\beta_{0.975}++\\overline{x}]\\right).\n",
    "$$\n",
    "Así, obtenemos la distribución de la población por aproximación bootstrap y estimamos los intervalos de confianza."
   ]
  },
  {
   "cell_type": "markdown",
   "id": "8a430cea",
   "metadata": {},
   "source": [
    "#### Comprobación de hipótesis"
   ]
  },
  {
   "cell_type": "markdown",
   "id": "9070a3ed",
   "metadata": {},
   "source": [
    "La universalidad del bootstrapping es que permite no sólo obtener una estadística, sino también probar hipótesis. Veamos un ejemplo. Tengamos dos muestras: $X=x_{1},\\ldots,x_{n}$ e $Y=y_{1},\\ldots,y_{m}$. Y queremos probar si las expectativas de X e Y son iguales: $u_mu_{X}=\\mu_{Y}\\ -\\ ?$. Sin embargo, todo lo que podemos obtener son las medias muestrales. La conocida prueba t-puede hacer el trabajo, pero también tiene una limitación bien conocida. Se basa en el supuesto de una distribución normal de la característica en ambas muestras. Sin embargo, nuestras distribuciones son desconocidas. Bootstrapping nos ayudará a superar esta limitación. El planteamiento básico es el mismo que en la estadística clásica. Construimos hipótesis nulas y alternativas. A continuación, estimamos la distribución de la estadística resultante para el caso en que la hipótesis nula sea cierta. Pero las hipótesis en sí son un poco exóticas. La hipótesis nula es que las distribuciones de *X* y *Y* son iguales.\n",
    "1. Combina las dos muestras en una, manteniendo los datos sobre el origen de cada observación.\n",
    "1. Genere una nueva muestra de tamaño *m+n* mediante un nuevo muestreo con reemplazamiento.\n",
    "1. Dividirla en dos muestras por el rasgo de origen.\n",
    "1. Calcular $\\overline{X_{i}^{*}}$ y $\\overline{Y_{j}^{*}}$.\n",
    "1. Restar $\\overline{Y_{j}^{*}}$ de $\\overline{X_{i}^{*}}$.\n",
    "1. Repita los pasos 2 a 5 *k* veces *(k>1000)*.\n",
    "1. Ahora tenemos la distribución de las diferencias entre $X^{*}$ y $Y^{*}$.\n",
    "1. Todo lo que necesitamos ahora es restar Y de X y encontrar la probabilidad *(valor p)* de tal diferencia para nuestra distribución obtenida en el paso anterior.\n",
    "1. A continuación, comparamos el p-valor con el $\\alpha$ (el más común es 0,05) y tomamos la decisión de rechazar o no la hipótesis nula.\n",
    "\n",
    "Los dos últimos pasos no difieren del enfoque clásico de las pruebas de hipótesis."
   ]
  },
  {
   "cell_type": "markdown",
   "id": "8be38313",
   "metadata": {},
   "source": [
    "### Tipos de técnicas de bootstrapping"
   ]
  },
  {
   "cell_type": "markdown",
   "id": "4b7e2305",
   "metadata": {},
   "source": [
    "Hay muchas maneras de hacer bootstrap. Hoy solo veremos las tres que deberían ser suficientes para la primera inmersión de un tasador en el aprendizaje automático."
   ]
  },
  {
   "cell_type": "markdown",
   "id": "06cac817",
   "metadata": {},
   "source": [
    "#### Bootstrap básico"
   ]
  },
  {
   "cell_type": "markdown",
   "id": "9be7afca",
   "metadata": {},
   "source": [
    "##### Concepto general"
   ]
  },
  {
   "cell_type": "markdown",
   "id": "40f6c090",
   "metadata": {},
   "source": [
    "El bootstrap básico es una técnica estadística para estimar la distribución de una estadística muestral, como la media o la desviación típica, a partir de una única muestra de datos. El método bootstrap básico consiste en volver a muestrear la muestra original con reemplazo para crear numerosas muestras simuladas, calcular la estadística de interés para cada muestra simulada. A continuación, se utiliza la distribución de estos estadísticos simulados para estimar la distribución del estadístico de interés.\n",
    "\n",
    "A continuación se describe paso a paso el método bootstrap básico.\n",
    "1. Tome una muestra aleatoria de tamaño n de la población de interés.\n",
    "1. Extraiga numerosas muestras aleatorias de tamaño *n* de la muestra original con reemplazamiento. Esto significa que, para cada muestra, se seleccionan aleatoriamente *n* observaciones de la muestra original, y cada observación puede seleccionarse más de una vez.\n",
    "1. Para cada muestra simulada, calcule la estadística de interés (por ejemplo, la media o la desviación típica).\n",
    "1. Estime la distribución de la estadística de interés mediante el cálculo de la media, la desviación típica o los intervalos de confianza de las estadísticas simuladas.\n",
    "\n",
    "El método bootstrap básico es útil cuando se dispone de un tamaño de muestra pequeño o cuando no se puede suponer que la población se distribuye normalmente. Puede utilizarse para estimar la incertidumbre asociada a una estadística muestral, para comparar diferentes grupos o condiciones, o para probar hipótesis sobre la población.\n",
    "\n",
    "Es importante señalar que el método bootstrap básico presupone que la muestra original es representativa de la población de interés y que las observaciones de la muestra son independientes y están idénticamente distribuidas. Si no se cumplen estos supuestos, los resultados del bootstrap pueden no ser exactos."
   ]
  },
  {
   "cell_type": "markdown",
   "id": "a36a54cb",
   "metadata": {},
   "source": [
    "##### Ventajas y desventajas"
   ]
  },
  {
   "cell_type": "markdown",
   "id": "99f7a8cd",
   "metadata": {},
   "source": [
    "**Ventajas** del bootstrap básico.\n",
    "1. No paramétrico: El método bootstrap básico no hace ninguna suposición sobre la distribución de la población y, por lo tanto, es un método no paramétrico. Esto lo convierte en una herramienta útil para analizar datos que pueden no seguir una distribución normal.\n",
    "1. Flexibilidad: El método bootstrap básico puede aplicarse a una amplia gama de estadísticas, como medias, varianzas y proporciones. Esto lo convierte en una herramienta versátil para muchos tipos de preguntas de investigación.\n",
    "1. Tamaño de la muestra: El método bootstrap básico es especialmente útil cuando el tamaño de la muestra es pequeño. Al generar múltiples muestras a partir de los datos originales, el método puede proporcionar estimaciones más precisas de los parámetros de la población.\n",
    "1. Intervalos de confianza: El método bootstrap básico puede utilizarse para estimar intervalos de confianza para los parámetros de la población, lo que puede ayudar a cuantificar la incertidumbre asociada a las estimaciones.\n",
    "\n",
    "**Desventajas** del bootstrap básico.\n",
    "1. Cálculo intensivo: El método bootstrap básico requiere generar numerosas remuestreos, lo que puede ser computacionalmente intensivo y consumir mucho tiempo, especialmente para grandes conjuntos de datos.\n",
    "1. Sesgo: El método bootstrap básico puede estar sesgado si la muestra original no es representativa de la población. Esto puede dar lugar a estimaciones inexactas de los parámetros de la población.\n",
    "1. Dependencia de los datos: El método bootstrap básico asume que las observaciones de la muestra original son independientes y están idénticamente distribuidas. Si no se cumple este supuesto, los resultados del bootstrap pueden no ser exactos.\n",
    "1. Precisión: La precisión del método bootstrap básico depende del número de remuestreos generados. Si el número de remuestreos es demasiado pequeño, los resultados pueden no ser fiables. Sin embargo, la generación de numerosas remuestreos puede ser intensiva desde el punto de vista informático, como se ha mencionado anteriormente."
   ]
  },
  {
   "cell_type": "markdown",
   "id": "a9145da9",
   "metadata": {},
   "source": [
    "#### Bootstrap suavizado"
   ]
  },
  {
   "cell_type": "markdown",
   "id": "8c996312",
   "metadata": {},
   "source": [
    "##### Concepto general"
   ]
  },
  {
   "cell_type": "markdown",
   "id": "7a159b42",
   "metadata": {},
   "source": [
    "Uno de los problemas del bootstrap básico es que puede producir estimaciones demasiado variables o inestables, sobre todo cuando el tamaño de la muestra es pequeño o la distribución de los datos está muy sesgada o tiene colas gruesas. El bootstrap suavizado es una modificación del bootstrap básico que aborda este problema añadiendo un paso de suavizado al proceso de remuestreo.\n",
    "\n",
    "En el bootstrap suavizado, en lugar de tomar muestras directamente del conjunto de datos original, primero ajustamos una función de densidad de probabilidad (FDP) a los datos utilizando un estimador de densidad de núcleo (DDN) o un método similar. A continuación, muestreamos a partir de esta FDP para generar las muestras bootstrap, en lugar de muestrear directamente a partir del conjunto de datos original. Esto tiene el efecto de \"suavizar\" la distribución y puede ayudar a reducir la variabilidad de las estimaciones bootstrap.\n",
    "\n",
    "Un enfoque común para implementar el bootstrap suavizado es utilizar el algoritmo de remuestreo de la siguiente manera:\n",
    "1. Ajuste una función de densidad de probabilidad a los datos originales usando un estimador de densidad de núcleo o un método similar.\n",
    "1. Genere numerosas muestras bootstrap tomando muestras de la FDP en lugar de tomarlas directamente de los datos.\n",
    "1. Calcule el estadístico de interés para cada una de estas muestras bootstrap.\n",
    "1. Calcule la media, la mediana, los IC, etc. de las estimaciones bootstrap resultantes para obtener la estimación final de la estadística.\n",
    "1. Calcule la media, la mediana, los IC, etc. de las estimaciones bootstrap resultantes para obtener la estimación final de la estadística.\n",
    "\n",
    "El paso de suavizado puede ajustarse para equilibrar la relación sesgo-varianza en el procedimiento de estimación. Un mayor grado de suavizado conduce a una estimación más sesgada, pero con menor varianza, mientras que un menor grado de suavizado conduce a una estimación menos sesgada pero con mayor varianza. La elección del parámetro de suavizado depende de la aplicación específica y de las características de los datos."
   ]
  },
  {
   "cell_type": "markdown",
   "id": "93ea21fb",
   "metadata": {},
   "source": [
    "##### Ventajas y desventajas"
   ]
  },
  {
   "cell_type": "markdown",
   "id": "53360bae",
   "metadata": {},
   "source": [
    "**Ventajas** del bootstrap suavizado.\n",
    "1. Variabilidad reducida: La principal ventaja del bootstrap suavizado es que puede reducir la variabilidad de las estimaciones del bootstrap en comparación con el bootstrap básico. Esto es especialmente útil cuando el tamaño de la muestra es pequeño o la distribución de los datos está muy sesgada o tiene colas pesadas.\n",
    "1. Estimaciones más precisas: El paso de suavizado en el bootstrap suavizado también puede ayudar a producir estimaciones más precisas de la distribución subyacente de los datos, especialmente en casos en los que la distribución verdadera es desconocida o difícil de estimar.\n",
    "1. Flexibilidad: El bootstrap suavizado es flexible y puede adaptarse a diferentes tipos de datos y modelos estadísticos. También puede utilizarse para estimar la distribución de estadísticos más complejos, como cuantiles o coeficientes de regresión.\n",
    "\n",
    "**Desventajas** del bootstrap suavizado.\n",
    "1. Sesgo: El paso de suavizado en el bootstrap suavizado puede introducir un sesgo en las estimaciones, especialmente si el parámetro de suavizado es demasiado alto. Este sesgo puede ser difícil de cuantificar y corregir.\n",
    "1. Complejidad: El bootstrap suavizado puede ser más intensivo computacionalmente que el bootstrap básico, especialmente si el paso de suavizado implica ajustar un modelo complejo o estimar numerosos parámetros.\n",
    "1. Dependencia del parámetro de suavizado: La elección del parámetro de suavizado en el bootstrap suavizado puede tener un impacto significativo en la calidad de las estimaciones. Encontrar el parámetro de suavizado óptimo puede ser complicado y requerir pasos adicionales de ajuste o validación.\n",
    "1. Posible pérdida de información: El paso de suavizado en el bootstrap suavizado también puede dar lugar a una pérdida de información sobre la distribución subyacente de los datos. Esto puede dificultar la realización de inferencias sobre la distribución real o la detección de características como valores atípicos o bimodalidad."
   ]
  },
  {
   "cell_type": "markdown",
   "id": "7521ad80",
   "metadata": {},
   "source": [
    "#### Bootstrap bayesiano"
   ]
  },
  {
   "cell_type": "markdown",
   "id": "70274437",
   "metadata": {},
   "source": [
    "##### Concepto general"
   ]
  },
  {
   "cell_type": "markdown",
   "id": "5ad0b5ec",
   "metadata": {},
   "source": [
    "El bootstrap bayesiano es un método de remuestreo utilizado en la inferencia bayesiana que puede utilizarse para estimar la distribución posterior de un parámetro o modelo. Al igual que otros métodos bootstrap, el bootstrap bayesiano implica la generación de numerosas muestras a partir de los datos, pero lo hace en un contexto bayesiano.\n",
    "\n",
    "En el bootstrap bayesiano, suponemos que los datos proceden de una distribución desconocida que puede describirse mediante una distribución a priori y una función de verosimilitud. A continuación, simulamos nuevos conjuntos de datos volviendo a muestrear el conjunto de datos original, pero en lugar de simplemente volver a muestrear los datos con reemplazo, también volvemos a muestrear la distribución a priori.\n",
    "\n",
    "Más concretamente, el algoritmo bootstrap bayesiano puede resumirse como sigue.\n",
    "1. Defina una distribución a priori para el parámetro o parámetros desconocidos o el modelo.\n",
    "1. Calcular la función de verosimilitud de los datos dados los parámetros o el modelo.\n",
    "1. Muestrear una nueva distribución a priori a partir de la distribución a priori original.\n",
    "1. Muestree un nuevo conjunto de datos volviendo a muestrear el conjunto de datos original.\n",
    "1. Calcule la distribución posterior del parámetro o parámetros o del modelo utilizando la nueva distribución a priori y la función de verosimilitud basada en el nuevo conjunto de datos.\n",
    "1. Repita los pasos 3-5 para generar un gran número de distribuciones posteriores simuladas.\n",
    "\n",
    "Las distribuciones posteriores resultantes pueden usarse para estimar la media, la varianza y otras características de la verdadera distribución posterior, así como para hacer afirmaciones probabilísticas sobre el parámetro o parámetros o el modelo.\n",
    "\n",
    "Una ventaja del bootstrap bayesiano es que puede utilizarse con una amplia gama de distribuciones a priori y funciones de verosimilitud, lo que lo convierte en una herramienta versátil para la inferencia bayesiana. También puede usarse para estimar la distribución posterior de modelos complejos que no pueden resolverse analíticamente, y no requiere ninguna suposición sobre la forma de la distribución subyacente o la presencia de valores atípicos. Sin embargo, al igual que otros métodos de remuestreo, el bootstrap bayesiano puede ser intensivo desde el punto de vista computacional y puede requerir un gran número de simulaciones para producir estimaciones precisas de la distribución posterior."
   ]
  },
  {
   "cell_type": "markdown",
   "id": "37498549",
   "metadata": {},
   "source": [
    "##### Ventajas y desventajas"
   ]
  },
  {
   "cell_type": "markdown",
   "id": "333cb873",
   "metadata": {},
   "source": [
    "**Ventajas** del bootstrap bayesiano.\n",
    "1. Flexibilidad: El bootstrap bayesiano es un método flexible que puede aplicarse a una amplia gama de modelos estadísticos y priors. Esto lo hace útil en muchas situaciones en las que otros métodos pueden no ser aplicables.\n",
    "1. Sin suposiciones sobre la distribución subyacente: A diferencia de otros métodos, el bootstrap bayesiano no requiere ninguna suposición sobre la forma de la distribución subyacente o la presencia de valores atípicos.\n",
    "1. Proporciona una distribución posterior completa: El bootstrap bayesiano proporciona una distribución posterior completa del parámetro o parámetros desconocidos o del modelo, en lugar de sólo una estimación puntual. Esto permite una comprensión más completa de la incertidumbre asociada a la estimación.\n",
    "1. Maneja modelos complejos: El bootstrap bayesiano puede utilizarse para estimar la distribución posterior de modelos complejos que no pueden resolverse analíticamente.\n",
    "\n",
    "**Desventajas** del bootstrap bayesiano.\n",
    "1. Computacionalmente intensivo: El bootstrap bayesiano puede ser intensivo desde el punto de vista computacional, especialmente para grandes conjuntos de datos o modelos complejos. Esto puede hacer que sea poco práctico en algunas situaciones en las que otros métodos pueden ser más rápidos.\n",
    "1. Puede ser sensible a la elección de la prioridad: El bootstrap bayesiano depende de la elección de la distribución a priori. La elección de la distribución a priori puede afectar a los resultados del análisis, por lo que es importante elegir cuidadosamente una distribución a priori que sea adecuada para el problema que se está estudiando.\n",
    "1. Puede no funcionar bien con muestras de pequeño tamaño: El bootstrap bayesiano puede ser sensible a tamaños de muestra pequeños, y puede no funcionar tan bien como otros métodos en situaciones en las que el tamaño de la muestra es muy pequeño.\n",
    "1. Requiere cierta comprensión de la inferencia bayesiana: El bootstrap bayesiano es un método dentro de la inferencia bayesiana y requiere cierta comprensión de los principios y conceptos bayesianos para utilizarlo eficazmente. Esto puede limitar su uso en algunos campos o aplicaciones en los que los usuarios no estén familiarizados con los métodos bayesianos."
   ]
  },
  {
   "cell_type": "markdown",
   "id": "4528a2fa",
   "metadata": {},
   "source": [
    "## Aplicación práctica"
   ]
  },
  {
   "cell_type": "markdown",
   "id": "0bcbf003",
   "metadata": {},
   "source": [
    "### Problemas comunes"
   ]
  },
  {
   "cell_type": "markdown",
   "id": "07f5b7e6",
   "metadata": {},
   "source": [
    "Volvamos a nuestra tarea de aprendizaje y calculemos los valores reales del mercado para ayudar al banco a diseñar su política de crédito. Utilizaremos el conjunto de datos reales con 2355 observaciones en uno de los mercados. Hoy tenemos las dos columnas de interés: 'price' y 'price_m'. La primera contiene datos sobre los precios de los propios objetos inmobiliarios, y la segunda sobre sus precios por metro cuadrado. En el primer paso, realizamos algunos pasos técnicos y calculamos las estimaciones de la muestra."
   ]
  },
  {
   "cell_type": "code",
   "execution_count": 6,
   "id": "ad99cb14",
   "metadata": {},
   "outputs": [],
   "source": [
    "# import libraries\n",
    "import numpy as np\n",
    "import pandas as pd\n",
    "import matplotlib.pyplot as plt\n",
    "import seaborn as sns\n",
    "import statistics as stats\n",
    "from scipy.stats import norm\n",
    "from scipy.stats import scoreatpercentile"
   ]
  },
  {
   "cell_type": "code",
   "execution_count": 3,
   "id": "b64a697d",
   "metadata": {},
   "outputs": [],
   "source": [
    "# create function for easy calculation of sample standard deviation\n",
    "def appr_sam_std(a, ddof = 1):\n",
    "    return np.std(a, ddof = ddof)"
   ]
  },
  {
   "cell_type": "code",
   "execution_count": 4,
   "id": "7b6bbec6",
   "metadata": {},
   "outputs": [
    {
     "name": "stdout",
     "output_type": "stream",
     "text": [
      "The sample mean price is 23372356.69\n",
      "The sample mean unit price is 361554.02\n",
      "The sample standard deviation of price is 16061866.51\n",
      "The sample standard deviation of unit price is 95947.20\n"
     ]
    }
   ],
   "source": [
    "# import data\n",
    "data = pd.read_csv(\"ds.csv\", index_col=False)\n",
    "\n",
    "# calculate statistics for the \"general population\"\n",
    "tp_sample_mean   = data['price'].mean()\n",
    "up_sample_mean   = data['price_m'].mean()\n",
    "tp_sample_std    = data['price'].std()\n",
    "up_sample_std    = data['price_m'].std()\n",
    "formatted_tp_sample_mean = '{:.2f}'.format(tp_sample_mean)\n",
    "formatted_up_sample_mean = '{:.2f}'.format(up_sample_mean)\n",
    "formatted_tp_sample_std  = '{:.2f}'.format(tp_sample_std)\n",
    "formatted_up_sample_std  = '{:.2f}'.format(up_sample_std)\n",
    "print(\"The sample mean price is\", formatted_tp_sample_mean)\n",
    "print(\"The sample mean unit price is\", formatted_up_sample_mean)\n",
    "print(\"The sample standard deviation of price is\", formatted_tp_sample_std)\n",
    "print(\"The sample standard deviation of unit price is\", formatted_up_sample_std)"
   ]
  },
  {
   "cell_type": "markdown",
   "id": "b202ff49",
   "metadata": {},
   "source": [
    "Ahora podemos pasar al bootstrapping. Existen algunas funciones de biblioteca para ello, pero hoy crearemos nuestras propias funciones para comprender mejor la naturaleza de las técnicas. Crearemos e implementaremos funciones para los siguientes tipos de bootstrapping:\n",
    "1. bootstrap básico;\n",
    "1. bootstrap suavizado;\n",
    "1. bootstrap bayesiano.\n",
    "\n",
    "No existe un único \"mejor\" tipo de bootstrap, ya que la elección del método a utilizar depende del problema concreto que se plantee y de los objetivos del análisis. El bootstrap básico y el bootstrap percentil son dos de los métodos más usados, pero también existen otras variantes del bootstrap, como el bootstrap con corrección de sesgo y acelerado (BCa) y el bootstrap estudiado.\n",
    "\n",
    "El bootstrap básico es el método más sencillo y directo, ya que consiste en muestrear repetidamente los datos originales con reemplazo y calcular la estadística de interés en cada muestra bootstrap. Este método suele ser adecuado para estimar la distribución muestral de estadísticas sencillas, como la media o la varianza, y es relativamente fácil de aplicar.\n",
    "\n",
    "El bootstrap percentil es un método más sofisticado que consiste en calcular el intervalo de confianza de la estadística de interés utilizando los percentiles empíricos de la distribución bootstrap. Este método suele preferirse cuando la distribución muestral de la estadística no es normal o el tamaño de la muestra es pequeño, ya que proporciona intervalos de confianza más precisos y es menos sensible a la distribución subyacente de los datos.\n",
    "\n",
    "El bootstrap BCa es una variante del bootstrap percentil que ajusta el sesgo y la asimetría de la distribución del bootstrap, y suele ser más preciso que el bootstrap básico y percentil para muestras pequeñas o cuando la distribución subyacente está muy sesgada. Sin embargo, puede ser más intensivo desde el punto de vista computacional y requiere conocimientos estadísticos más avanzados para su aplicación.\n",
    "\n",
    "El bootstrap estudiado es un método que consiste en estandarizar la estadística de interés por su error estándar estimado y, a continuación, volver a muestrear a partir de una t-distribución con grados de libertad iguales al tamaño de la muestra menos uno. Este método suele preferirse cuando la estadística de interés es un cociente o la diferencia de dos estimaciones, o cuando la distribución de la estadística está muy sesgada o tiene muchas colas.\n",
    "\n",
    "En resumen, la elección del tipo de bootstrapping depende del problema concreto y de los objetivos del análisis, así como de los recursos informáticos disponibles y de los conocimientos estadísticos del analista. Suele ser una buena idea comparar los resultados de varios métodos de bootstrapping para asegurarse de que las conclusiones son sólidas y no demasiado sensibles a la elección del método."
   ]
  },
  {
   "cell_type": "markdown",
   "id": "7e86a06e",
   "metadata": {},
   "source": [
    "###  Bootstrap básico"
   ]
  },
  {
   "cell_type": "markdown",
   "id": "c9ed0dd8",
   "metadata": {},
   "source": [
    "El código siguiente define una función **'appr_basic_bootstrap'** que realiza un bootstrap básico en un conjunto de datos para calcular un estadístico y sus intervalos de confianza utilizando el método asintótico.\n",
    "\n",
    "La función recibe cinco argumentos:\n",
    "1. data: un conjunto de datos de entrada en forma de matriz\n",
    "1. num_samples: el número de muestras bootstrap a generar\n",
    "1. sample_size: el tamaño de cada muestra bootstrap, por defecto el tamaño del conjunto de datos de entrada\n",
    "1. stat_func: el estadístico a calcular en cada muestra bootstrap, por defecto la media\n",
    "1. ci: intervalo de confianza a calcular, por defecto 95%.\n",
    "\n",
    "La función comprueba primero si sample_size es None, si es así, establece sample_size a la longitud de los datos. A continuación, calcula el estadístico_original aplicando stat_func a los datos de entrada. A continuación, genera num_samples muestras bootstrap de tamaño sample_size eligiendo aleatoriamente elementos de los datos con reemplazo usando np.random.choice.\n",
    "\n",
    "Calcula el stat_func para cada muestra bootstrap utilizando np.apply_along_axis y almacena los valores resultantes en bootstrap_statistics. A continuación, calcula la media de todos los valores stat_func de las muestras bootstrap para obtener bootstrap_statistic.\n",
    "\n",
    "Por último, calcula los valores ci_lower y ci_upper para el intervalo de confianza utilizando **scipy.stats.scoreatpercentile** con valores alfa de (100 - ci) / 2 y 100 - (100 - ci) / 2, respectivamente.\n",
    "\n",
    "La función devuelve una tupla que contiene 'bootstrap_statistic', 'ci_lower' y 'ci_upper'."
   ]
  },
  {
   "cell_type": "code",
   "execution_count": 5,
   "id": "752bab15",
   "metadata": {},
   "outputs": [],
   "source": [
    "def appr_basic_bootstrap(data, stat_func=np.mean, num_samples=2000, sample_size=None, ci=95):\n",
    "    \"\"\"\n",
    "    Perform basic bootstrap on a dataset to calculate a statistic and its confidence intervals.\n",
    "\n",
    "    Parameters:\n",
    "        data (array-like): The input dataset.\n",
    "        num_samples (int): The number of bootstrap samples to generate.\n",
    "        sample_size (int): The size of each bootstrap sample. Defaults to the size of the input dataset.\n",
    "        stat_func (function): The statistic to calculate on each bootstrap sample. Defaults to the mean.\n",
    "        ci (int): The confidence interval to calculate. Defaults to 95%.\n",
    "\n",
    "    Returns:\n",
    "        A tuple containing the calculated statistic and its confidence interval.\n",
    "    \"\"\"\n",
    "    if sample_size is None:\n",
    "        sample_size = len(data)\n",
    "\n",
    "        \n",
    "    # Calculate the statistic on the original dataset\n",
    "    original_statistic = stat_func(data)    \n",
    "        \n",
    "    # Generate bootstrap samples\n",
    "    bootstrap_samples = np.random.choice(data, size=(num_samples, sample_size), replace=True)\n",
    "\n",
    "    # Calculate the statistic on each bootstrap sample\n",
    "    bootstrap_statistics = np.apply_along_axis(stat_func, axis=1, arr=bootstrap_samples)\n",
    "    \n",
    "    # Calculate the mean of all statistic's values\n",
    "    bootstrap_statistic = np.mean(bootstrap_statistics)\n",
    "    \n",
    "    # Calculate the confidence interval\n",
    "    alpha = (100 - ci) / 2\n",
    "    ci_lower = scoreatpercentile(bootstrap_statistics, alpha)\n",
    "    ci_upper = scoreatpercentile(bootstrap_statistics, 100 - alpha)\n",
    "\n",
    "    return bootstrap_statistic, ci_lower, ci_upper"
   ]
  },
  {
   "cell_type": "markdown",
   "id": "53226685",
   "metadata": {},
   "source": [
    "Ahora vamos a aplicarlo a nuestros datos."
   ]
  },
  {
   "cell_type": "code",
   "execution_count": 6,
   "id": "787197fd",
   "metadata": {},
   "outputs": [
    {
     "name": "stdout",
     "output_type": "stream",
     "text": [
      "The mean price obtained by the basic bootstrap is 23370941.70 with 95% confidence interval [22727684.71, 24033931.00].\n",
      "The standard deviation of the price obtained by the basic bootstrap is 16020188.92 with 95% confidence interval [14191560.87, 18008702.41].\n",
      "The mean unit price obtained by the basic bootstrap is 361566.09 with 95% confidence interval [357732.73, 365501.65].\n",
      "The standard deviation of the unit price obtained by the basic bootstrap is 95885.97 with 95% confidence interval [91171.64, 100680.84].\n"
     ]
    }
   ],
   "source": [
    "# apply the 'appr_basic_bootstrap' function to data\n",
    "tp_basic_bootstrap_mean = appr_basic_bootstrap(data['price'])\n",
    "tp_basic_bootstrap_std  = appr_basic_bootstrap(data['price'], stat_func = appr_sam_std)\n",
    "up_basic_bootstrap_mean = appr_basic_bootstrap(data['price_m'])\n",
    "up_basic_bootstrap_std  = appr_basic_bootstrap(data['price_m'], stat_func = appr_sam_std)\n",
    "\n",
    "# extract single balues from tuple\n",
    "tp_basb_mean, tp_basb_mean_lowCI, tp_basb_mean_upperCI = tp_basic_bootstrap_mean\n",
    "tp_basb_std, tp_basb_std_lowCI, tp_mean_basb_upperCI = tp_basic_bootstrap_std\n",
    "up_basb_mean, up_basb_mean_lowCI, up_basb_mean_upperCI = up_basic_bootstrap_mean\n",
    "up_basb_std, up_basb_std_lowCI, up_mean_basb_upperCI = up_basic_bootstrap_std\n",
    "\n",
    "\n",
    "# output the result to the user\n",
    "print(f'The mean price obtained by the basic bootstrap is {tp_basb_mean:.2f} \\\n",
    "with 95% confidence interval [{tp_basb_mean_lowCI:.2f}, {tp_basb_mean_upperCI:.2f}].')\n",
    "print(f'The standard deviation of the price obtained by the basic bootstrap is {tp_basb_std:.2f} \\\n",
    "with 95% confidence interval [{tp_basb_std_lowCI:.2f}, {tp_mean_basb_upperCI:.2f}].')\n",
    "print(f'The mean unit price obtained by the basic bootstrap is {up_basb_mean:.2f} \\\n",
    "with 95% confidence interval [{up_basb_mean_lowCI:.2f}, {up_basb_mean_upperCI:.2f}].')\n",
    "print(f'The standard deviation of the unit price obtained by the basic bootstrap is {up_basb_std:.2f} \\\n",
    "with 95% confidence interval [{up_basb_std_lowCI:.2f}, {up_mean_basb_upperCI:.2f}].')"
   ]
  },
  {
   "cell_type": "markdown",
   "id": "d4cdeb6f",
   "metadata": {},
   "source": [
    "### Bootstrap suavizado"
   ]
  },
  {
   "cell_type": "markdown",
   "id": "fc45838e",
   "metadata": {},
   "source": [
    "Definimos la función **smoothed_bootstrap**, que toma como entrada los datos, la función estadística de interés, el nivel deseado de intervalo de confianza y el número de muestras bootstrap a generar. La función devuelve la estimación bootstrap suavizada de la estadística y los límites inferior y superior del intervalo de confianza."
   ]
  },
  {
   "cell_type": "code",
   "execution_count": 29,
   "id": "d1d0ee17",
   "metadata": {},
   "outputs": [],
   "source": [
    "def appr_smoothed_bootstrap(data, statistic_func, alpha=0.05, n_bs_samples=2000):\n",
    "    \"\"\"\n",
    "    Computes the smoothed bootstrap estimate and confidence intervals for a given statistic.\n",
    "    \n",
    "    Args:\n",
    "    - data (array-like): the data from which to compute the statistic and confidence intervals\n",
    "    - statistic_func (function): the function to compute the statistic of interest\n",
    "    - alpha (float): the desired level of confidence interval (default 0.05)\n",
    "    - n_bs_samples (int): the number of bootstrap samples to generate (default 1000)\n",
    "    \n",
    "    Returns:\n",
    "    - bs_statistic (float): the smoothed bootstrap estimate of the statistic\n",
    "    - ci_low (float): the lower bound of the confidence interval\n",
    "    - ci_high (float): the upper bound of the confidence interval\n",
    "    \"\"\"\n",
    "    \n",
    "    # Compute the observed statistic\n",
    "    obs_statistic = statistic_func(data)\n",
    "    \n",
    "    # Generate the bootstrap samples\n",
    "    bs_samples = np.random.choice(data, size=(len(data), n_bs_samples))\n",
    "    \n",
    "    # Compute the bootstrap statistics\n",
    "    bs_statistics = np.apply_along_axis(statistic_func, axis=0, arr=bs_samples)\n",
    "    \n",
    "    # Compute the standard deviation of the bootstrap statistics\n",
    "    bs_std = np.std(bs_statistics)\n",
    "    \n",
    "    # Compute the smoothed bootstrap weights\n",
    "    bs_weights = norm.pdf(bs_statistics - obs_statistic, scale=bs_std)\n",
    "    \n",
    "    # Compute the smoothed bootstrap estimate of the statistic\n",
    "    bs_statistic = np.average(bs_statistics, weights=bs_weights)\n",
    "    \n",
    "    # Compute the confidence intervals\n",
    "    bs_statistics_sorted = np.sort(bs_statistics)\n",
    "    ci_low = bs_statistics_sorted[int(np.floor((alpha/2) * n_bs_samples))]\n",
    "    ci_high = bs_statistics_sorted[int(np.ceil((1 - alpha/2) * n_bs_samples))]\n",
    "    \n",
    "    return bs_statistic, ci_low, ci_high\n"
   ]
  },
  {
   "cell_type": "markdown",
   "id": "14b7009e",
   "metadata": {},
   "source": [
    "Aplicación a los datos."
   ]
  },
  {
   "cell_type": "code",
   "execution_count": 35,
   "id": "7628d023",
   "metadata": {},
   "outputs": [
    {
     "name": "stdout",
     "output_type": "stream",
     "text": [
      "The mean price obtained by the smoothed bootstrap is 23376253.48 with 95% confidence interval [22768577.49, 23979150.74].\n",
      "The standard deviation of the price obtained by the smoothed bootstrap is 16001329.71 with 95% confidence interval [14269520.65, 17909150.10].\n",
      "The mean unit price obtained by the smoothed bootstrap is 361538.07 with 95% confidence interval [357495.87, 365667.21].\n",
      "The standard deviation of the unit price obtained by the smoothed bootstrap is 95940.75 with 95% confidence interval [91305.76, 100445.92].\n"
     ]
    }
   ],
   "source": [
    "# apply the 'appr_smoothed_bootstrap' function to data\n",
    "tp_smoothed_bootstrap_mean = appr_smoothed_bootstrap(data['price'], statistic_func = np.mean)\n",
    "tp_smoothed_bootstrap_std  = appr_smoothed_bootstrap(data['price'], statistic_func = appr_sam_std)\n",
    "up_smoothed_bootstrap_mean = appr_smoothed_bootstrap(data['price_m'], statistic_func = np.mean)\n",
    "up_smoothed_bootstrap_std  = appr_smoothed_bootstrap(data['price_m'], statistic_func = appr_sam_std)\n",
    "\n",
    "# extract single balues from tuple\n",
    "tp_smob_mean, tp_smob_mean_lowCI, tp_smob_mean_upperCI = tp_smoothed_bootstrap_mean\n",
    "tp_smob_std, tp_smob_std_lowCI, tp_mean_smob_upperCI = tp_smoothed_bootstrap_std\n",
    "up_smob_mean, up_smob_mean_lowCI, up_smob_mean_upperCI = up_smoothed_bootstrap_mean\n",
    "up_smob_std, up_smob_std_lowCI, up_mean_smob_upperCI = up_smoothed_bootstrap_std\n",
    "\n",
    "# output the result to the user\n",
    "print(f'The mean price obtained by the smoothed bootstrap is {tp_smob_mean:.2f} \\\n",
    "with 95% confidence interval [{tp_smob_mean_lowCI:.2f}, {tp_smob_mean_upperCI:.2f}].')\n",
    "print(f'The standard deviation of the price obtained by the smoothed bootstrap is {tp_smob_std:.2f} \\\n",
    "with 95% confidence interval [{tp_smob_std_lowCI:.2f}, {tp_mean_smob_upperCI:.2f}].')\n",
    "print(f'The mean unit price obtained by the smoothed bootstrap is {up_smob_mean:.2f} \\\n",
    "with 95% confidence interval [{up_smob_mean_lowCI:.2f}, {up_smob_mean_upperCI:.2f}].')\n",
    "print(f'The standard deviation of the unit price obtained by the smoothed bootstrap is {up_smob_std:.2f} \\\n",
    "with 95% confidence interval [{up_smob_std_lowCI:.2f}, {up_mean_smob_upperCI:.2f}].')"
   ]
  },
  {
   "cell_type": "markdown",
   "id": "8c7f5d07",
   "metadata": {},
   "source": [
    "### Bootstrap bayesiano"
   ]
  },
  {
   "cell_type": "markdown",
   "id": "9f160a39",
   "metadata": {},
   "source": [
    "La siguiente función recibe cuatro argumentos:\n",
    "1. *X*, que es el conjunto de datos tipo array que se desea remuestrear;\n",
    "1. *stat_func*, que es la función que desea aplicar a cada conjunto de datos remuestreado para calcular la estadística deseada (por defecto es np.mean);\n",
    "1. *num_samples*, que es el número de muestras bootstrap a generar (por defecto es 2000);\n",
    "1. *alpha*, que es el nivel de significación para el intervalo creíble (por defecto es 0.05);\n",
    "1. *low_mem* establece la forma de generar los pesos (por defecto es False);\n",
    "1. *resample_size* especifica el tamaño de la muestra remuestreada (por defecto es Ninguno).\n",
    "\n",
    "La función calcula primero la función de distribución empírica (FED) de los datos, que se utiliza para generar muestras bootstrap a partir del bootstrap bayesiano. A continuación, aplica la función estadística a cada muestra bootstrap y calcula la estimación bayesiana bootstrap de la estadística tomando la media de las estadísticas bootstrap. Finalmente, calcula el intervalo creíble (1-alfa) encontrando los percentiles apropiados de las estadísticas bootstrap. Esta función es sólo una pequeña extensión de la [bayesian_bootstrap function](https://github.com/lmc2179/bayesian_bootstrap) de [Louis Cialdella](https://github.com/lmc2179)."
   ]
  },
  {
   "cell_type": "code",
   "execution_count": 36,
   "id": "5e6407a9",
   "metadata": {},
   "outputs": [],
   "source": [
    "def appr_bayesian_bootstrap(X, statistic=np.mean, n_replications=2000, resample_size=None, low_mem=False, alpha=0.05):\n",
    "    \"\"\"Simulate the posterior distribution of the given statistic.\n",
    "\n",
    "    Parameter X: The observed data (array like)\n",
    "\n",
    "    Parameter statistic: A function of the data to use in simulation (Function mapping array-like to number)\n",
    "\n",
    "    Parameter n_replications: The number of bootstrap replications to perform (positive integer)\n",
    "\n",
    "    Parameter resample_size: The size of the dataset in each replication\n",
    "    \n",
    "    Parameter low_mem(bool): Generate the weights for each iteration lazily instead of in a single batch. Will use\n",
    "    less memory, but will run slower as a result.\n",
    "\n",
    "    Returns: Statistoc for the samples from the posterior\n",
    "    \"\"\"\n",
    "    \n",
    "    if resample_size is None:\n",
    "        resample_size = len(X)\n",
    "    \n",
    "    if isinstance(X, list):\n",
    "        X = np.array(X)\n",
    "    samples = []\n",
    "    if low_mem:\n",
    "        weights = (np.random.dirichlet([1] * len(X)) for _ in range(n_replications))\n",
    "    else:\n",
    "        weights = np.random.dirichlet([1] * len(X), n_replications)\n",
    "    for w in weights:\n",
    "        sample_index = np.random.choice(range(len(X)), p=w, size=resample_size)\n",
    "        resample_X = X[sample_index]\n",
    "        s = statistic(resample_X)\n",
    "        samples.append(s)\n",
    "        \n",
    "    samples_sorted = sorted(samples)\n",
    "    window_size = int(len(samples) - round(len(samples)*alpha))\n",
    "    smallest_window = (None, None)\n",
    "    smallest_window_length = float('inf')\n",
    "    for i in range(len(samples_sorted) - window_size):\n",
    "        window = samples_sorted[i+window_size-1], samples_sorted[i]\n",
    "        window_length = samples_sorted[i+window_size-1] - samples_sorted[i]\n",
    "        if window_length < smallest_window_length:\n",
    "            smallest_window_length = window_length\n",
    "            smallest_window = window\n",
    "            \n",
    "    posterior_statistic = np.mean(samples)         \n",
    "            \n",
    "    return posterior_statistic, smallest_window[1], smallest_window[0]"
   ]
  },
  {
   "cell_type": "markdown",
   "id": "2e0c2a31",
   "metadata": {},
   "source": [
    "Aplicación a los datos."
   ]
  },
  {
   "cell_type": "code",
   "execution_count": 38,
   "id": "be2ea23f",
   "metadata": {},
   "outputs": [
    {
     "name": "stdout",
     "output_type": "stream",
     "text": [
      "The mean price obtained by the Bayesian bootstrap is 23373192.97 with 95% confidence interval [22497282.38, 24304543.52].\n",
      "The standard deviation of the price obtained by the Bayesian bootstrap is 16014052.16 with 95% confidence interval [13464056.97, 18795443.99].\n",
      "The mean unit price obtained by the Bayesian bootstrap is 361545.02 with 95% confidence interval [356060.67, 366479.47].\n",
      "The standard deviation of the unit price obtained by the Bayesian bootstrap is 95910.03 with 95% confidence interval [89534.47, 103327.87].\n"
     ]
    }
   ],
   "source": [
    "# apply the 'appr_bayesian_bootstrap' function to data\n",
    "tp_bayesian_bootstrap_mean = appr_bayesian_bootstrap(data['price'])\n",
    "tp_bayesian_bootstrap_std  = appr_bayesian_bootstrap(data['price'], statistic = np.std)\n",
    "up_bayesian_bootstrap_mean = appr_bayesian_bootstrap(data['price_m'])\n",
    "up_bayesian_bootstrap_std  = appr_bayesian_bootstrap(data['price_m'], statistic = np.std)\n",
    "\n",
    "# extract single balues from tuple\n",
    "tp_bayb_mean, tp_bayb_mean_lowCI, tp_bayb_mean_upperCI = tp_bayesian_bootstrap_mean\n",
    "tp_bayb_std, tp_bayb_std_lowCI, tp_mean_bayb_upperCI = tp_bayesian_bootstrap_std\n",
    "up_bayb_mean, up_bayb_mean_lowCI, up_bayb_mean_upperCI = up_bayesian_bootstrap_mean\n",
    "up_bayb_std, up_bayb_std_lowCI, up_mean_bayb_upperCI = up_bayesian_bootstrap_std\n",
    "\n",
    "\n",
    "# output the result to the user\n",
    "print(f'The mean price obtained by the Bayesian bootstrap is {tp_bayb_mean:.2f} \\\n",
    "with 95% confidence interval [{tp_bayb_mean_lowCI:.2f}, {tp_bayb_mean_upperCI:.2f}].')\n",
    "print(f'The standard deviation of the price obtained by the Bayesian bootstrap is {tp_bayb_std:.2f} \\\n",
    "with 95% confidence interval [{tp_bayb_std_lowCI:.2f}, {tp_mean_bayb_upperCI:.2f}].')\n",
    "print(f'The mean unit price obtained by the Bayesian bootstrap is {up_bayb_mean:.2f} \\\n",
    "with 95% confidence interval [{up_bayb_mean_lowCI:.2f}, {up_bayb_mean_upperCI:.2f}].')\n",
    "print(f'The standard deviation of the unit price obtained by the Bayesian bootstrap is {up_bayb_std:.2f} \\\n",
    "with 95% confidence interval [{up_bayb_std_lowCI:.2f}, {up_mean_bayb_upperCI:.2f}].')"
   ]
  },
  {
   "cell_type": "markdown",
   "id": "99075d37",
   "metadata": {},
   "source": [
    "### Aplicación de los resultados a la elaboración de los elementos de una política de crédito"
   ]
  },
  {
   "cell_type": "markdown",
   "id": "0f28071c",
   "metadata": {},
   "source": [
    "Las tres técnicas nos dieron resultados similares. Así que podemos utilizar cualquiera de ellas sin dudarlo. Hoy usaremos los resultados del bootstrapping bayesiano. La media y la desviación típica posteriores del precio son, 23373192.97 y 16014052.16, respectivamente. La media y la desviación típica posteriores del precio unitario son, 361545,02 y 95910,03, respectivamente. Por lo tanto, podemos establecer las siguientes reglas de límites para la propiedad colateral.\n",
    "\n",
    "||Minimum limit | Maximum limit | Mean| STD|\n",
    "|:-|:-|:-|:-|:-|\n",
    "|Price|**6,483,230.22**|**38,511,334.54**|23,373,192.97|16,014,052.16|\n",
    "|Unit price|**169,724.96**|**553,365,08**|361,545.02|95,910.03|\n",
    "\n",
    "El uso de estos límites puede proteger a un banco de aceptar garantías atípicas o ilíquidas."
   ]
  },
  {
   "cell_type": "markdown",
   "id": "067a1c44",
   "metadata": {},
   "source": [
    "## Resumen"
   ]
  },
  {
   "cell_type": "markdown",
   "id": "01c64373",
   "metadata": {},
   "source": [
    "Hoy hemos aprendido a superar los dos problemas básicos a los que se enfrentan a diario los tasadores:\n",
    "1. el problema de las muestras pequeñas, que son mucho más pequeñas que todo el mercado;\n",
    "2. el problema de la distribución desconocida.\n",
    "\n",
    "El bootstrapping resuelve fácilmente estos dos problemas. El uso de técnicas de bootstrapping puede mejorar significativamente la calidad de los datos de mercado. En cierto sentido, puede decirse que es razonable utilizarlo siempre que el tasador disponga de al menos 20 ó 30 observaciones. \n",
    "Para debatir este o cualquier otro tema relacionado con el aprendizaje automático en valoración, te invito a unirte a mi [comunidad de Facebook](https://www.facebook.com/groups/1977067932456703) así como a mi [canal de Telegram](https://t.me/AIinValuation)."
   ]
  },
  {
   "cell_type": "code",
   "execution_count": null,
   "id": "370e466b",
   "metadata": {},
   "outputs": [],
   "source": []
  }
 ],
 "metadata": {
  "kernelspec": {
   "display_name": "Python 3 (ipykernel)",
   "language": "python",
   "name": "python3"
  },
  "language_info": {
   "codemirror_mode": {
    "name": "ipython",
    "version": 3
   },
   "file_extension": ".py",
   "mimetype": "text/x-python",
   "name": "python",
   "nbconvert_exporter": "python",
   "pygments_lexer": "ipython3",
   "version": "3.9.12"
  }
 },
 "nbformat": 4,
 "nbformat_minor": 5
}
