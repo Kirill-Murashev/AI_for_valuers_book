{
 "cells": [
  {
   "cell_type": "markdown",
   "id": "0704dfa9",
   "metadata": {},
   "source": [
    "# Development of the elements of the credit policy of the small bank with bootstrapping"
   ]
  },
  {
   "cell_type": "markdown",
   "id": "a5af4763",
   "metadata": {},
   "source": [
    "Cyrill A. Murashev, 2023-02-19"
   ]
  },
  {
   "cell_type": "markdown",
   "id": "1d1e44b3",
   "metadata": {},
   "source": [
    "## Abstract"
   ]
  },
  {
   "cell_type": "markdown",
   "id": "f2128c3c",
   "metadata": {},
   "source": [
    "This material is a continuation of a cycle of work on the topic of resampling methods. We discussed the jackknife method in the previous article. Today we will look at the more popular and universal method of bootstrapping. It would not be an exaggeration to say that bootstrapping is one of the cornerstones of modern data science, along with, for example, linear regression or ROC analysis. This material was developed specifically for appraisers, so we will look at the topic from the point of view of its practical usability in the practice of collateral lending. Let's imagine a small bank operating in Eastern Europe. Its management has set a goal to develop a system of rules for the bank's credit policy. One of them should solve the task of determining the maximum price of the mortgaged property, which is safe for the financial stability of the bank."
   ]
  }
 ],
 "metadata": {
  "kernelspec": {
   "display_name": "Python 3 (ipykernel)",
   "language": "python",
   "name": "python3"
  },
  "language_info": {
   "codemirror_mode": {
    "name": "ipython",
    "version": 3
   },
   "file_extension": ".py",
   "mimetype": "text/x-python",
   "name": "python",
   "nbconvert_exporter": "python",
   "pygments_lexer": "ipython3",
   "version": "3.9.12"
  }
 },
 "nbformat": 4,
 "nbformat_minor": 5
}
