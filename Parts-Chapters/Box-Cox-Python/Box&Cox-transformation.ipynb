{
 "cells": [
  {
   "cell_type": "markdown",
   "id": "ca3c6ebc",
   "metadata": {},
   "source": [
    "# The Box-Cox transformation of market data with Python for appraisers"
   ]
  },
  {
   "cell_type": "markdown",
   "id": "eada7507",
   "metadata": {},
   "source": [
    "Cyrill A. Murashev, 2022-11-17"
   ]
  },
  {
   "cell_type": "markdown",
   "id": "8e3bde1f",
   "metadata": {},
   "source": [
    "## Abstract\n",
    "The data that appraisers deal with most often have an unknown distribution. Some researchers suggest that price data often have a lognormal distribution. However, a number of experiments suggest that, more often than not, we can still speak of an unknown distribution that does not fit with any of the known theoretical distributions.\n",
    "\n",
    "This circumstance poses some problem, since many statistical methods assume a normal distribution of the data under study. In this case, estimators most often deal with samples that are not too large. This makes it impossible to ignore the absence of a normal distribution on the basis of the provisions of the Central Limit Theorem. As a result, this can lead to the problem of a lack of scientific basis in the appraiser's judgment. There are a number of approaches to overcome this problem. For example, nonparametric methods or distribution-free machine learning methods can be used. Another approach is to transform the raw data so that its distribution becomes approximately normal. The subject of this paper is the Box-Cox transform, or rather a whole series of transformations arising from the general concept.\n",
    "\n",
    "Today we'll do nothing but practical implementation. Theoretical issues were considered in the __[another paper](https://github.com/Kirill-Murashev/AI_for_valuers_book/blob/main/Parts-Chapters/Box-Cox-R/Box-Cox-transformation.md)__."
   ]
  },
  {
   "cell_type": "code",
   "execution_count": null,
   "id": "23e07e8e",
   "metadata": {},
   "outputs": [],
   "source": []
  }
 ],
 "metadata": {
  "kernelspec": {
   "display_name": "Python 3 (ipykernel)",
   "language": "python",
   "name": "python3"
  },
  "language_info": {
   "codemirror_mode": {
    "name": "ipython",
    "version": 3
   },
   "file_extension": ".py",
   "mimetype": "text/x-python",
   "name": "python",
   "nbconvert_exporter": "python",
   "pygments_lexer": "ipython3",
   "version": "3.9.12"
  }
 },
 "nbformat": 4,
 "nbformat_minor": 5
}
