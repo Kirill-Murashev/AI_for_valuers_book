{
 "cells": [
  {
   "cell_type": "markdown",
   "id": "ae191a05",
   "metadata": {},
   "source": [
    "# Overcoming the problem of biased estimates in the analysis of open market data with the Jackknife resampling method"
   ]
  },
  {
   "cell_type": "markdown",
   "id": "68c0d97e",
   "metadata": {},
   "source": [
    "Cyrill A. Murashev, 2023-02-07"
   ]
  },
  {
   "cell_type": "markdown",
   "id": "03a17c90",
   "metadata": {},
   "source": [
    "## Abstract"
   ]
  },
  {
   "cell_type": "markdown",
   "id": "ce0e2079",
   "metadata": {},
   "source": [
    "Appraisers are often faced with the need to analyze and describe market data collected in open markets. Almost always, they can't get the data for the whole market, but they are dealing with samples that may be very small compared to the whole population. In this case, the problem of biased estimates arises. It follows from the above that any statistical estimate made on the basis of the sample in question is an estimate for the sample itself. At the same time, it may have a bias relative to the estimate that would be obtained in the case of an analysis of the entire general population. Appraisers often say that they have calculated some descriptive statistics of the market. It may be the price mean or median, maximum and minimum, skewness and kurtosis, etc. But we should understand that these are only estimates for samples, not for the entire market. Today we will look at the minimal theoretical basis of the method. And then we will implement it on real market data using the Python language. We will learn how to determine whether bias exists for any estimate and how to automatically reduce its linear component. This paper is available in [English](https://github.com/Kirill-Murashev/AI_for_valuers_book/blob/main/Parts-Chapters/Jackknife/jackknife.ipynb), [Spanish](https://github.com/Kirill-Murashev/AI_for_valuers_book/blob/main/Parts-Chapters/Jackknife/jackknife-esp.ipynb), and [Russian](https://github.com/Kirill-Murashev/AI_for_valuers_book/blob/main/Parts-Chapters/Jackknife/jackknife-nov.ipynb). The English version is the most current and the most quickly updated. If there are any discrepancies between the versions, the English version should be relied upon."
   ]
  },
  {
   "cell_type": "markdown",
   "id": "1caf46f8",
   "metadata": {},
   "source": [
    "## Fundamentals of the Jackknife Method"
   ]
  },
  {
   "cell_type": "markdown",
   "id": "2a38934d",
   "metadata": {},
   "source": [
    "### Introduction"
   ]
  },
  {
   "cell_type": "markdown",
   "id": "041fc707",
   "metadata": {},
   "source": [
    "First, we need to remember why appraisers need statistics. Usually they have some distribution of features of objects from the sample of analogues collected on the open market. And they try to get some estimates of the values of these characteristics. It can be mean, median, maximum, minimum, variance, etc. Sometimes they also need to compare two or more subsamples to decide if some adjustments are needed based on the difference of the feature values. As we can guess, most of the time appraisers are dealing with samples, not the entire market. Thus, appraisers can only obtain sample estimates of the feature values, not their true values. \n",
    "The jackknife method can address two issues:\n",
    "- reduce the bias of the sample estimate relative to the true value from the general population;\n",
    "- calculate the variance of the adjusted trait value.\n",
    "\n",
    "Suppose we have some characteristic *X* (it could be the unit price, for example), the distribution of which in the general population is unknown to us. But we have a sample consisting of n elements $[x{1},\\ldots, x_{n}]$. We want to estimate the expectation of *X*, which can be written as $\\mathbb{E}[X]$. In general, the expectation can be written as follows\n",
    "$$\\mathbb{E}[X] = \\sum_{j=1}^{n >> 1} p(x_{j})x_{j}.$$\n",
    "\n",
    "But we only have a sample, which of course consists of a very limited number of observations, far from infinity. So we cannot estimate the expectation, only the sample mean, which is written as\n",
    "$$\\hat{\\mu}=\\dfrac{1}{n} \\sum_{i=1}^{n<<\\infty}x_{i}.$$\n",
    "\n",
    "Therefore, we do not use probabilities, but observed frequencies. It's obvious that $\\mathbb{E}[X] \\neq \\hat{\\mu}$, but $\\hat{\\mu} = \\mathbb{E}[X] + \\mathcal{bias}$, where $\\mu$ is the estimate of the expectation, and the bias is some systematic shift between the true and estimated values of the expectation.\n",
    "\n",
    "Note that the case of mean calculation is the only case where the method cannot calculate the bias, since it is itself based on averaging. This is its main limitation. But it is quite good for dealing with a central moments higher than the mean.\n"
   ]
  },
  {
   "cell_type": "markdown",
   "id": "af5d05e4",
   "metadata": {},
   "source": [
    "### General Concept of the Jacknife Method"
   ]
  },
  {
   "cell_type": "markdown",
   "id": "49b0263e",
   "metadata": {},
   "source": [
    "We have considered a special case. We can now move on to the more general concept of estimator bias. Let's consider the random variable *X* with the unknown distribution *U*. There is a parameter of its distribution called as $\\theta$. And we want to determine its value. Using the abstract parameter $\\theta$ instead of a specific one emphasizes the universality of the Jackknife method, which is able to detect bias for any parameter of the distribution and automatically correct its linear component. We also have the parameter $\\hat{\\theta}$, which is the sampling estimate obtained by using some function. Due to the fact that $\\hat{\\theta}$ was obtained from a sample, while we want to estimate $\\theta$ for the general population, i.e., the entire market in the context of valuation, $\\hat{\\theta}$ has a bias relative to $\\theta$. Mathematically, this means that the expectation for $\\hat{\\theta}$ is not equal to the expectation for $\\theta$:\n",
    "$$\\mathbb{E}(\\hat{\\theta}) \\neq \\mathbb{E}(\\theta).$$\n",
    "In this case, we can say that\n",
    "$$\\mathbb{E}(\\hat{\\theta}_{n}) = \\theta + \\frac{\\alpha}{n} + \\frac{\\beta}{n^{2}} + \\frac{\\gamma}{n^{3}} + \\ldots \\frac{\\omega}{n^{(k\\rightarrow \\infty)}},$$\n",
    "where $\\theta$ is the true value of the parameter for the general population, and  $\\frac{\\alpha}{n} + \\frac{\\beta}{n^{2}} + \\frac{\\gamma}{n^{3}} + \\ldots \\frac{\\omega}{n^{(k\\rightarrow \\infty)}}$ are linear, quadratic, cubic, and other components of the bias. All components decrease as the sample grows according to linear, quadratic, cubic, and other functions. The linear term introduces the largest error because it decreases the slowest of all the other terms.\n",
    "\n",
    "The Jackknife method eliminates the linear component of the bias. Let's introduce some new definitions.\n",
    "\n",
    "$\\hat{\\theta}_{i}$ is the value of $\\hat{\\theta}$ that would be obtained if the calculation were not based on a full sample, but on a sample with an excluded observation *i* that takes values from 1 to *n*. Then\n",
    "$$\\mathbb{E}(\\hat{\\theta}_{(i)}) = \\theta + \\frac{\\alpha}{n-1} + \\frac{\\beta}{(n-1)^{2}} + \\frac{\\gamma}{(n-1)^{3}} + \\ldots \\frac{\\omega}{(n-1)^{(k\\rightarrow \\infty)}}.$$\n",
    "$\\overline{\\theta}$ is the mean value of all $\\hat{\\theta}_{i}$.\n",
    "$$\\overline{\\theta} = \\frac{1}{n} \\sum_{i=1}^{n} \\hat{\\theta}_{i}$$\n"
   ]
  },
  {
   "cell_type": "markdown",
   "id": "f1263fa2",
   "metadata": {},
   "source": [
    "### Summary"
   ]
  },
  {
   "cell_type": "markdown",
   "id": "a5b94d06",
   "metadata": {},
   "source": [
    "Therefore, to apply the Jackknife method, i.e., to detect the presence of a bias and automatically eliminate its linear component, the following set of steps is required.\n",
    "1. Suppose we need to estimate some parameter $\\theta$ of a random variable *X*.\n",
    "1. Let's get some an estimate of $\\hat{\\theta}$ for the sample using a mathematical function $\\hat{\\theta}=F(x_{1},\\ldots,x_{n})$.\n",
    "1. $\\hat{\\theta}$ can be biased.\n",
    "1. $\\theta = \\mathbb{E}(\\hat{\\theta}) + bias$.\n",
    "1. Let's create the new *n* samples by sequentially excluding of one *x* from the initial sample.\n",
    "1. Calculate the $\\hat{\\theta}_{(i)}$ for all new samples using the same function **F**.\n",
    "1. Calculate the mean of all $\\hat{\\theta}_{(i)}$ and label it as $\\overline{\\theta}$.\n",
    "1. Calculate the bias using the following formula\n",
    "$$\\widehat{bias}_{jack} = (n-1)(\\overline{\\theta} - \\hat{\\theta}).$$\n",
    "1. Eliminate the linear component of the bias by using the formula\n",
    "$$\\hat{\\theta}_{jacked} = \\hat{\\theta} - \\widehat{bias}_{jack}.$$"
   ]
  },
  {
   "cell_type": "markdown",
   "id": "43cd0296",
   "metadata": {},
   "source": [
    "## Python practical implementation"
   ]
  },
  {
   "cell_type": "markdown",
   "id": "8f91a4a2",
   "metadata": {},
   "source": [
    "Today we will use a dataset containing 34821 observations of the residential real estate market in St. Petersburg. It was obtained from web scraping in September 2021. Let's assume that this dataset contains data about the whole market, so we can use it as a general population. Next, we will create a subsample with only 25 observations, which is the typical number of observations that an appraiser deals with. We will calculate the \"expectation\" for our \"general population\", then we will calculate the mean for the sample. Finally, we will apply the Jackknife method and compare the result of the mean calculation to the sample mean."
   ]
  },
  {
   "cell_type": "code",
   "execution_count": 194,
   "id": "4b8fc58f",
   "metadata": {},
   "outputs": [],
   "source": [
    "# import libraries\n",
    "import numpy as np\n",
    "import pandas as pd\n",
    "from astropy.stats import jackknife_resampling\n",
    "from astropy.stats import jackknife_stats\n",
    "from random import sample\n",
    "from scipy.stats import skew\n",
    "from scipy.stats import kurtosis"
   ]
  },
  {
   "cell_type": "code",
   "execution_count": 62,
   "id": "82db5ee4",
   "metadata": {},
   "outputs": [
    {
     "name": "stdout",
     "output_type": "stream",
     "text": [
      "       Unnamed: 0                                     links  price_m  county\n",
      "0               1  https://spb.cian.ru/sale/flat/262765174/   155460  sadadm\n",
      "1               2  https://spb.cian.ru/sale/flat/263280601/   295455  sadadm\n",
      "2               3  https://spb.cian.ru/sale/flat/261612519/   310559  sadadm\n",
      "3               4  https://spb.cian.ru/sale/flat/263094016/   100000  sadadm\n",
      "4               5  https://spb.cian.ru/sale/flat/262339898/   145929  sadadm\n",
      "...           ...                                       ...      ...     ...\n",
      "34816       34817  https://spb.cian.ru/sale/flat/256621764/    70093  llobol\n",
      "34817       34818  https://spb.cian.ru/sale/flat/261430727/    67227  llobol\n",
      "34818       34819  https://spb.cian.ru/sale/flat/246538655/    86207  llobol\n",
      "34819       34820  https://spb.cian.ru/sale/flat/246587468/    65455  llobol\n",
      "34820       34821  https://spb.cian.ru/sale/flat/239698989/    89041  llobol\n",
      "\n",
      "[34821 rows x 4 columns]\n"
     ]
    }
   ],
   "source": [
    "# import data\n",
    "df = pd.read_csv(\"spba-flats-210928.csv\", index_col=False)\n",
    "print(df)"
   ]
  },
  {
   "cell_type": "code",
   "execution_count": 193,
   "id": "29df1c76",
   "metadata": {},
   "outputs": [
    {
     "name": "stdout",
     "output_type": "stream",
     "text": [
      "The estimation of unit price for population is 176132.997530226\n",
      "The standard error of unit price mean for population is 411.42108784161167\n",
      "The minimum of unit price for population is 11817\n",
      "The 0.25 quantile of unit price for population is 135870.0\n",
      "The median of unit price for population is 162544.0\n",
      "The 0.75 quantile of unit price for population is 196078.0\n",
      "The maximum of unit price for population is 1624829\n",
      "The skewness of unit price for population is 4.425121271105129\n",
      "The kurtosis of unit price for population is 44.47491746881878\n",
      "The range of unit price for population is 1613012\n"
     ]
    }
   ],
   "source": [
    "# calculate statistics for the \"general population\"\n",
    "gp_est    = df['price_m'].mean()\n",
    "gp_sem    = df['price_m'].sem()\n",
    "gp_min    = df['price_m'].min()\n",
    "gp_25q    = df['price_m'].quantile(0.25)\n",
    "gp_median = df['price_m'].median()\n",
    "gp_75q    = df['price_m'].quantile(0.75)\n",
    "gp_max    = df['price_m'].max()\n",
    "gp_skew   = df['price_m'].skew()\n",
    "gp_kurt   = df['price_m'].kurtosis()\n",
    "gp_ran    = gp_max - gp_min\n",
    "\n",
    "print(\"The estimation of unit price for population is\", gp_est)\n",
    "print(\"The standard error of unit price mean for population is\", gp_sem)\n",
    "print(\"The minimum of unit price for population is\", gp_min)\n",
    "print(\"The 0.25 quantile of unit price for population is\", gp_25q)\n",
    "print(\"The median of unit price for population is\", gp_median)\n",
    "print(\"The 0.75 quantile of unit price for population is\", gp_75q)\n",
    "print(\"The maximum of unit price for population is\", gp_max)\n",
    "print(\"The skewness of unit price for population is\", gp_skew)\n",
    "print(\"The kurtosis of unit price for population is\", gp_kurt)\n",
    "print(\"The range of unit price for population is\", gp_ran)"
   ]
  },
  {
   "cell_type": "code",
   "execution_count": 165,
   "id": "1c1b076b",
   "metadata": {},
   "outputs": [
    {
     "name": "stdout",
     "output_type": "stream",
     "text": [
      "       Unnamed: 0                                     links  price_m  county\n",
      "3306         3307  https://spb.cian.ru/sale/flat/263952864/   208706  sfrn75\n",
      "25446       25447  https://spb.cian.ru/sale/flat/264176271/   183721  swyswe\n",
      "11568       11569  https://spb.cian.ru/sale/flat/262828919/   135742  skupes\n",
      "33301       33302  https://spb.cian.ru/sale/flat/264080846/   106557  lwsswe\n",
      "19647       19648  https://spb.cian.ru/sale/flat/259620581/   187500  sprn65\n",
      "12156       12157  https://spb.cian.ru/sale/flat/263812187/   154135  smogag\n",
      "33578       33579  https://spb.cian.ru/sale/flat/249136615/    94340  lkiotr\n",
      "25289       25290  https://spb.cian.ru/sale/flat/262800893/   231783  swysam\n",
      "18805       18806  https://spb.cian.ru/sale/flat/264405723/   182927  spechk\n",
      "28863       28864  https://spb.cian.ru/sale/flat/261066046/   100000  lwsser\n",
      "15471       15472  https://spb.cian.ru/sale/flat/264113874/   146245  snenar\n",
      "24352       24353  https://spb.cian.ru/sale/flat/260113706/   154694  swyn15\n",
      "12759       12760  https://spb.cian.ru/sale/flat/262603019/   186667  smozwy\n",
      "18902       18903  https://spb.cian.ru/sale/flat/261749292/   321429  sprn65\n",
      "802           803  https://spb.cian.ru/sale/flat/261995766/   193998  sadkol\n",
      "8789         8790  https://spb.cian.ru/sale/flat/263906056/   112931  skrpor\n",
      "22581       22582  https://spb.cian.ru/sale/flat/258932208/   183333  spryun\n",
      "6809         6810  https://spb.cian.ru/sale/flat/262424511/   152813  skiulq\n",
      "12278       12279  https://spb.cian.ru/sale/flat/264412922/   212903  smozwy\n",
      "33868       33869  https://spb.cian.ru/sale/flat/261850155/    63495  ltowoj\n",
      "19219       19220  https://spb.cian.ru/sale/flat/263531731/   273146  sprn65\n",
      "18680       18681  https://spb.cian.ru/sale/flat/259815632/   574103  spechk\n",
      "13881       13882  https://spb.cian.ru/sale/flat/264355511/   193629  smonow\n",
      "13526       13527  https://spb.cian.ru/sale/flat/260447460/   318386  smomos\n",
      "16092       16093  https://spb.cian.ru/sale/flat/263501761/   168453  sneobu\n"
     ]
    }
   ],
   "source": [
    "# create sample\n",
    "sam_size = 25\n",
    "ran_sam = df.sample(n=sam_size)\n",
    "print(ran_sam)"
   ]
  },
  {
   "cell_type": "code",
   "execution_count": 166,
   "id": "0bfbda67",
   "metadata": {},
   "outputs": [
    {
     "name": "stdout",
     "output_type": "stream",
     "text": [
      "The mean of unit price for random sample is 193665.44\n",
      "The standard error of unit price mean for random sample is 20251.124762679232\n",
      "The minimum of unit price for random sample is 63495\n",
      "The 0.25 quantile of unit price for random sample is 146245.0\n",
      "The median of unit price for random sample is 183333.0\n",
      "The 0.75 quantile of unit price for random sample is 208706.0\n",
      "The maximum of unit price for random sample is 574103\n",
      "The skewness of unit price for random sample is 2.3536484943924028\n",
      "The kurtosis of unit price for random sample is 7.829781802086403\n",
      "The range of unit price for random sample is 510608\n"
     ]
    }
   ],
   "source": [
    "# calculate statistics for the random sample\n",
    "rs_mean   = ran_sam['price_m'].mean()\n",
    "rs_sem    = ran_sam['price_m'].sem()\n",
    "rs_min    = ran_sam['price_m'].min()\n",
    "rs_25q    = ran_sam['price_m'].quantile(0.25)\n",
    "rs_median = ran_sam['price_m'].median()\n",
    "rs_75q    = ran_sam['price_m'].quantile(0.75)\n",
    "rs_max    = ran_sam['price_m'].max()\n",
    "rs_skew   = ran_sam['price_m'].skew()\n",
    "rs_kurt   = ran_sam['price_m'].kurtosis()\n",
    "rs_ran   = rs_max - rs_min\n",
    "\n",
    "print(\"The mean of unit price for random sample is\", rs_mean)\n",
    "print(\"The standard error of unit price mean for random sample is\", rs_sem)\n",
    "print(\"The minimum of unit price for random sample is\", rs_min)\n",
    "print(\"The 0.25 quantile of unit price for random sample is\", rs_25q)\n",
    "print(\"The median of unit price for random sample is\", rs_median)\n",
    "print(\"The 0.75 quantile of unit price for random sample is\", rs_75q)\n",
    "print(\"The maximum of unit price for random sample is\", rs_max)\n",
    "print(\"The skewness of unit price for random sample is\", rs_skew)\n",
    "print(\"The kurtosis of unit price for random sample is\", rs_kurt)\n",
    "print(\"The range of unit price for random sample is\", rs_ran)"
   ]
  },
  {
   "cell_type": "code",
   "execution_count": 167,
   "id": "a5fe05f7",
   "metadata": {},
   "outputs": [
    {
     "name": "stdout",
     "output_type": "stream",
     "text": [
      "3306     208706\n",
      "25446    183721\n",
      "11568    135742\n",
      "33301    106557\n",
      "19647    187500\n",
      "12156    154135\n",
      "33578     94340\n",
      "25289    231783\n",
      "18805    182927\n",
      "28863    100000\n",
      "15471    146245\n",
      "24352    154694\n",
      "12759    186667\n",
      "18902    321429\n",
      "802      193998\n",
      "8789     112931\n",
      "22581    183333\n",
      "6809     152813\n",
      "12278    212903\n",
      "33868     63495\n",
      "19219    273146\n",
      "18680    574103\n",
      "13881    193629\n",
      "13526    318386\n",
      "16092    168453\n",
      "Name: price_m, dtype: int64\n"
     ]
    }
   ],
   "source": [
    "# obtain Jackknife resamples\n",
    "new_df = ran_sam[\"price_m\"]\n",
    "array = new_df.to_numpy()\n",
    "print(new_df)"
   ]
  },
  {
   "cell_type": "code",
   "execution_count": 168,
   "id": "8256a3cc",
   "metadata": {},
   "outputs": [
    {
     "name": "stdout",
     "output_type": "stream",
     "text": [
      "[[183721. 135742. 106557. 187500. 154135.  94340. 231783. 182927. 100000.\n",
      "  146245. 154694. 186667. 321429. 193998. 112931. 183333. 152813. 212903.\n",
      "   63495. 273146. 574103. 193629. 318386. 168453.]\n",
      " [208706. 135742. 106557. 187500. 154135.  94340. 231783. 182927. 100000.\n",
      "  146245. 154694. 186667. 321429. 193998. 112931. 183333. 152813. 212903.\n",
      "   63495. 273146. 574103. 193629. 318386. 168453.]\n",
      " [208706. 183721. 106557. 187500. 154135.  94340. 231783. 182927. 100000.\n",
      "  146245. 154694. 186667. 321429. 193998. 112931. 183333. 152813. 212903.\n",
      "   63495. 273146. 574103. 193629. 318386. 168453.]\n",
      " [208706. 183721. 135742. 187500. 154135.  94340. 231783. 182927. 100000.\n",
      "  146245. 154694. 186667. 321429. 193998. 112931. 183333. 152813. 212903.\n",
      "   63495. 273146. 574103. 193629. 318386. 168453.]\n",
      " [208706. 183721. 135742. 106557. 154135.  94340. 231783. 182927. 100000.\n",
      "  146245. 154694. 186667. 321429. 193998. 112931. 183333. 152813. 212903.\n",
      "   63495. 273146. 574103. 193629. 318386. 168453.]\n",
      " [208706. 183721. 135742. 106557. 187500.  94340. 231783. 182927. 100000.\n",
      "  146245. 154694. 186667. 321429. 193998. 112931. 183333. 152813. 212903.\n",
      "   63495. 273146. 574103. 193629. 318386. 168453.]\n",
      " [208706. 183721. 135742. 106557. 187500. 154135. 231783. 182927. 100000.\n",
      "  146245. 154694. 186667. 321429. 193998. 112931. 183333. 152813. 212903.\n",
      "   63495. 273146. 574103. 193629. 318386. 168453.]\n",
      " [208706. 183721. 135742. 106557. 187500. 154135.  94340. 182927. 100000.\n",
      "  146245. 154694. 186667. 321429. 193998. 112931. 183333. 152813. 212903.\n",
      "   63495. 273146. 574103. 193629. 318386. 168453.]\n",
      " [208706. 183721. 135742. 106557. 187500. 154135.  94340. 231783. 100000.\n",
      "  146245. 154694. 186667. 321429. 193998. 112931. 183333. 152813. 212903.\n",
      "   63495. 273146. 574103. 193629. 318386. 168453.]\n",
      " [208706. 183721. 135742. 106557. 187500. 154135.  94340. 231783. 182927.\n",
      "  146245. 154694. 186667. 321429. 193998. 112931. 183333. 152813. 212903.\n",
      "   63495. 273146. 574103. 193629. 318386. 168453.]\n",
      " [208706. 183721. 135742. 106557. 187500. 154135.  94340. 231783. 182927.\n",
      "  100000. 154694. 186667. 321429. 193998. 112931. 183333. 152813. 212903.\n",
      "   63495. 273146. 574103. 193629. 318386. 168453.]\n",
      " [208706. 183721. 135742. 106557. 187500. 154135.  94340. 231783. 182927.\n",
      "  100000. 146245. 186667. 321429. 193998. 112931. 183333. 152813. 212903.\n",
      "   63495. 273146. 574103. 193629. 318386. 168453.]\n",
      " [208706. 183721. 135742. 106557. 187500. 154135.  94340. 231783. 182927.\n",
      "  100000. 146245. 154694. 321429. 193998. 112931. 183333. 152813. 212903.\n",
      "   63495. 273146. 574103. 193629. 318386. 168453.]\n",
      " [208706. 183721. 135742. 106557. 187500. 154135.  94340. 231783. 182927.\n",
      "  100000. 146245. 154694. 186667. 193998. 112931. 183333. 152813. 212903.\n",
      "   63495. 273146. 574103. 193629. 318386. 168453.]\n",
      " [208706. 183721. 135742. 106557. 187500. 154135.  94340. 231783. 182927.\n",
      "  100000. 146245. 154694. 186667. 321429. 112931. 183333. 152813. 212903.\n",
      "   63495. 273146. 574103. 193629. 318386. 168453.]\n",
      " [208706. 183721. 135742. 106557. 187500. 154135.  94340. 231783. 182927.\n",
      "  100000. 146245. 154694. 186667. 321429. 193998. 183333. 152813. 212903.\n",
      "   63495. 273146. 574103. 193629. 318386. 168453.]\n",
      " [208706. 183721. 135742. 106557. 187500. 154135.  94340. 231783. 182927.\n",
      "  100000. 146245. 154694. 186667. 321429. 193998. 112931. 152813. 212903.\n",
      "   63495. 273146. 574103. 193629. 318386. 168453.]\n",
      " [208706. 183721. 135742. 106557. 187500. 154135.  94340. 231783. 182927.\n",
      "  100000. 146245. 154694. 186667. 321429. 193998. 112931. 183333. 212903.\n",
      "   63495. 273146. 574103. 193629. 318386. 168453.]\n",
      " [208706. 183721. 135742. 106557. 187500. 154135.  94340. 231783. 182927.\n",
      "  100000. 146245. 154694. 186667. 321429. 193998. 112931. 183333. 152813.\n",
      "   63495. 273146. 574103. 193629. 318386. 168453.]\n",
      " [208706. 183721. 135742. 106557. 187500. 154135.  94340. 231783. 182927.\n",
      "  100000. 146245. 154694. 186667. 321429. 193998. 112931. 183333. 152813.\n",
      "  212903. 273146. 574103. 193629. 318386. 168453.]\n",
      " [208706. 183721. 135742. 106557. 187500. 154135.  94340. 231783. 182927.\n",
      "  100000. 146245. 154694. 186667. 321429. 193998. 112931. 183333. 152813.\n",
      "  212903.  63495. 574103. 193629. 318386. 168453.]\n",
      " [208706. 183721. 135742. 106557. 187500. 154135.  94340. 231783. 182927.\n",
      "  100000. 146245. 154694. 186667. 321429. 193998. 112931. 183333. 152813.\n",
      "  212903.  63495. 273146. 193629. 318386. 168453.]\n",
      " [208706. 183721. 135742. 106557. 187500. 154135.  94340. 231783. 182927.\n",
      "  100000. 146245. 154694. 186667. 321429. 193998. 112931. 183333. 152813.\n",
      "  212903.  63495. 273146. 574103. 318386. 168453.]\n",
      " [208706. 183721. 135742. 106557. 187500. 154135.  94340. 231783. 182927.\n",
      "  100000. 146245. 154694. 186667. 321429. 193998. 112931. 183333. 152813.\n",
      "  212903.  63495. 273146. 574103. 193629. 168453.]\n",
      " [208706. 183721. 135742. 106557. 187500. 154135.  94340. 231783. 182927.\n",
      "  100000. 146245. 154694. 186667. 321429. 193998. 112931. 183333. 152813.\n",
      "  212903.  63495. 273146. 574103. 193629. 318386.]]\n"
     ]
    }
   ],
   "source": [
    "# obtain Jackknife resamples\n",
    "resamples = jackknife_resampling(array)\n",
    "print(resamples)"
   ]
  },
  {
   "cell_type": "code",
   "execution_count": 169,
   "id": "759d8067",
   "metadata": {},
   "outputs": [
    {
     "data": {
      "text/plain": [
       "(25, 24)"
      ]
     },
     "execution_count": 169,
     "metadata": {},
     "output_type": "execute_result"
    }
   ],
   "source": [
    "# obtain Jackknife resamples shape\n",
    "resamples.shape"
   ]
  },
  {
   "cell_type": "code",
   "execution_count": 170,
   "id": "ff991cd2",
   "metadata": {},
   "outputs": [
    {
     "name": "stdout",
     "output_type": "stream",
     "text": [
      "the jacked mean is 193665.4400000007\n",
      "the true bias of the mean is 17532.44246977399\n",
      "the bias of the mean obtained by the Jackknife is -6.984919309616089e-10\n",
      "the corrected percentage of the bias is -3.983996708763267e-14\n",
      "the standard error of the mean obtained by the Jackknife is 20251.12476267923\n",
      "the confidence interval (95%) of the jacked mean is [153973.96481872 233356.91518128]\n"
     ]
    }
   ],
   "source": [
    "# obtain Jackknife estimate for the mean, its bias,\n",
    "# its standard error, and its 95% confidence interval\n",
    "test_statistic = np.mean\n",
    "\n",
    "estimate, bias, stderr, conf_interval = jackknife_stats(\n",
    "    array, test_statistic, 0.95)\n",
    "\n",
    "mean_jacked = estimate\n",
    "print(\"the jacked mean is\", mean_jacked)\n",
    "mean_true_bias =  rs_mean - gp_est\n",
    "print(\"the true bias of the mean is\", mean_true_bias)\n",
    "mean_bias_jack = bias\n",
    "print(\"the bias of the mean obtained by the Jackknife is\", mean_bias_jack)\n",
    "mean_corr_bias_perc = mean_bias_jack / mean_true_bias\n",
    "print(\"the corrected percentage of the bias is\", mean_corr_bias_perc)\n",
    "mean_std_error = stderr\n",
    "print(\"the standard error of the mean obtained by the Jackknife is\", mean_std_error)\n",
    "mean_conf_int = conf_interval\n",
    "print(\"the confidence interval (95%) of the jacked mean is\", mean_conf_int)"
   ]
  },
  {
   "cell_type": "markdown",
   "id": "f38972d7",
   "metadata": {},
   "source": [
    "As we can see, the expectation is 176133, the sample mean is 193665, and the adjusted mean obtained by the jackknife method is also 193665. The confidence interval for the expectation is [153974, 233357] with a probability of 0.95. The calculated confidence interval contains the true value of the expectation. As we discussed earlier, the mean is the one parameter of a distribution that, by its nature, cannot be adjusted by the Jackknife method. Now let's look at other parameters.\n"
   ]
  },
  {
   "cell_type": "code",
   "execution_count": 192,
   "id": "1e7c372a",
   "metadata": {},
   "outputs": [
    {
     "name": "stdout",
     "output_type": "stream",
     "text": [
      "the jacked median is 183445.31999999983\n",
      "the true bias of the median is 7200.002469773986\n",
      "the bias of the median obtained by the Jackknife is -112.31999999983236\n",
      "the corrected percentage of the bias is -0.015599994648801583\n",
      "the standard error of the median obtained by the Jackknife is 952.8097934005506\n",
      "the confidence interval (95%) of the jacked median is [181577.84712082 185312.79287918]\n"
     ]
    }
   ],
   "source": [
    "# obtain Jackknife estimate for the median, its bias,\n",
    "# its standard error, and its 95% confidence interval\n",
    "test_statistic = np.median\n",
    "\n",
    "estimate, bias, stderr, conf_interval = jackknife_stats(\n",
    "    array, test_statistic, 0.95)\n",
    "\n",
    "median_jacked = estimate\n",
    "print(\"the jacked median is\", median_jacked)\n",
    "median_true_bias =  rs_median - gp_est\n",
    "print(\"the true bias of the median is\", median_true_bias)\n",
    "median_bias_jack = bias\n",
    "print(\"the bias of the median obtained by the Jackknife is\", median_bias_jack)\n",
    "median_corr_bias_perc = median_bias_jack / median_true_bias\n",
    "print(\"the corrected percentage of the bias is\", median_corr_bias_perc)\n",
    "median_std_error = stderr\n",
    "print(\"the standard error of the median obtained by the Jackknife is\", median_std_error)\n",
    "median_conf_int = conf_interval\n",
    "print(\"the confidence interval (95%) of the jacked median is\", median_conf_int)"
   ]
  },
  {
   "cell_type": "code",
   "execution_count": 190,
   "id": "b6f1bbfd",
   "metadata": {},
   "outputs": [
    {
     "name": "stdout",
     "output_type": "stream",
     "text": [
      "the jacked min is 33883.79999999993\n",
      "the true bias of the mininimum is 51678\n",
      "the bias of the minimum obtained by the Jackknife is 29611.20000000007\n",
      "the corrected percentage of the bias is 0.5729943109253468\n",
      "the standard error of the mininimum obtained by the Jackknife is 29611.2\n",
      "the confidence interval (95%) of the jacked minimum is [-24153.08553901  91920.68553901]\n"
     ]
    }
   ],
   "source": [
    "# obtain Jackknife estimate for the minimum, its bias,\n",
    "# its standard error, and its 95% confidence interval\n",
    "test_statistic = np.min\n",
    "\n",
    "estimate, bias, stderr, conf_interval = jackknife_stats(\n",
    "    array, test_statistic, 0.95)\n",
    "\n",
    "min_jacked = estimate\n",
    "print(\"the jacked min is\", min_jacked)\n",
    "min_true_bias =  rs_min - gp_min\n",
    "print(\"the true bias of the mininimum is\", min_true_bias)\n",
    "min_bias_jack = bias\n",
    "print(\"the bias of the minimum obtained by the Jackknife is\", min_bias_jack)\n",
    "min_corr_bias_perc = min_bias_jack / min_true_bias\n",
    "print(\"the corrected percentage of the bias is\", min_corr_bias_perc)\n",
    "min_std_error = stderr\n",
    "print(\"the standard error of the mininimum obtained by the Jackknife is\", min_std_error)\n",
    "min_conf_int = conf_interval\n",
    "print(\"the confidence interval (95%) of the jacked minimum is\", min_conf_int)"
   ]
  },
  {
   "cell_type": "code",
   "execution_count": 174,
   "id": "662e12c2",
   "metadata": {},
   "outputs": [
    {
     "name": "stdout",
     "output_type": "stream",
     "text": [
      "the jacked maximum is 816670.0399999991\n",
      "the true bias of the maximum is -1050726\n",
      "the bias of the maximum obtained by the Jackknife is -242567.0399999991\n",
      "the corrected percentage of the bias is 0.23085660771694913\n",
      "the standard error of the maximum obtained by the Jackknife is 242567.04\n",
      "the confidence interval (95%) of the jacked maximum is [ 341247.37776351 1292092.70223649]\n"
     ]
    }
   ],
   "source": [
    "# obtain Jackknife estimate for the maximum, its bias,\n",
    "# its standard error, and its 95% confidence interval\n",
    "test_statistic = np.max\n",
    "\n",
    "estimate, bias, stderr, conf_interval = jackknife_stats(\n",
    "    array, test_statistic, 0.95)\n",
    "\n",
    "maximum_jacked = estimate\n",
    "print(\"the jacked maximum is\", maximum_jacked)\n",
    "maximum_true_bias =  rs_max - gp_max\n",
    "print(\"the true bias of the maximum is\", maximum_true_bias)\n",
    "maximum_bias_jack = bias\n",
    "print(\"the bias of the maximum obtained by the Jackknife is\", maximum_bias_jack)\n",
    "maximum_corr_bias_perc = maximum_bias_jack / maximum_true_bias\n",
    "print(\"the corrected percentage of the bias is\", maximum_corr_bias_perc)\n",
    "maximum_std_error = stderr\n",
    "print(\"the standard error of the maximum obtained by the Jackknife is\", maximum_std_error)\n",
    "maximum_conf_int = conf_interval\n",
    "print(\"the confidence interval (95%) of the jacked maximum is\", maximum_conf_int)"
   ]
  },
  {
   "cell_type": "code",
   "execution_count": 185,
   "id": "59f01885",
   "metadata": {},
   "outputs": [
    {
     "name": "stdout",
     "output_type": "stream",
     "text": [
      "the jacked skewness is 3.7874875564237587\n",
      "the true bias of the skewness is -2.0714727767127266\n",
      "the bias of the skewness obtained by the Jackknife is -1.5774797157901084\n",
      "the corrected percentage of the bias is 0.7615256804356616\n",
      "the standard error of the skewness obtained by the Jackknife is 1.6269608977678238\n",
      "the confidence interval (95%) of the jacked skewnes is [0.59870279 6.97627232]\n"
     ]
    }
   ],
   "source": [
    "# obtain Jackknife estimate for the skewness, its bias,\n",
    "# its standard error, and its 95% confidence interval\n",
    "test_statistic = skew\n",
    "\n",
    "estimate, bias, stderr, conf_interval = jackknife_stats(\n",
    "    array, test_statistic, 0.95)\n",
    "\n",
    "skew_jacked = estimate\n",
    "print(\"the jacked skewness is\", skew_jacked)\n",
    "skew_true_bias =  rs_skew - gp_skew\n",
    "print(\"the true bias of the skewness is\", skew_true_bias)\n",
    "skew_bias_jack = bias\n",
    "print(\"the bias of the skewness obtained by the Jackknife is\", skew_bias_jack)\n",
    "skew_corr_bias_perc = skew_bias_jack / skew_true_bias\n",
    "print(\"the corrected percentage of the bias is\", skew_corr_bias_perc)\n",
    "skew_std_error = stderr\n",
    "print(\"the standard error of the skewness obtained by the Jackknife is\", skew_std_error)\n",
    "skew_conf_int = conf_interval\n",
    "print(\"the confidence interval (95%) of the jacked skewnes is\", skew_conf_int)"
   ]
  },
  {
   "cell_type": "markdown",
   "id": "95d56d40",
   "metadata": {},
   "source": [
    "### Results"
   ]
  },
  {
   "cell_type": "code",
   "execution_count": 191,
   "id": "69eb0fbe",
   "metadata": {},
   "outputs": [
    {
     "name": "stdout",
     "output_type": "stream",
     "text": [
      "the jacked kurtosis is 14.227526609758394\n",
      "the true bias of the kurtosis is -36.64513566673238\n",
      "the bias of the kurtosis obtained by the Jackknife is -8.109145853579356\n",
      "the corrected percentage of the bias is 0.22128846587791726\n",
      "the standard error of the kurtosis obtained by the Jackknife is 6.04963781033231\n",
      "the confidence interval (95%) of the jacked kurtosis is [ 2.37045438 26.08459884]\n"
     ]
    }
   ],
   "source": [
    "# obtain Jackknife estimate for the kurtosis, its bias,\n",
    "# its standard error, and its 95% confidence interval\n",
    "test_statistic = kurtosis\n",
    "\n",
    "estimate, bias, stderr, conf_interval = jackknife_stats(\n",
    "    array, test_statistic, 0.95)\n",
    "\n",
    "kurt_jacked = estimate\n",
    "print(\"the jacked kurtosis is\", kurt_jacked)\n",
    "kurt_true_bias =  rs_kurt - gp_kurt\n",
    "print(\"the true bias of the kurtosis is\", kurt_true_bias)\n",
    "kurt_bias_jack = bias\n",
    "print(\"the bias of the kurtosis obtained by the Jackknife is\", kurt_bias_jack)\n",
    "kurt_corr_bias_perc = kurt_bias_jack / kurt_true_bias\n",
    "print(\"the corrected percentage of the bias is\", kurt_corr_bias_perc)\n",
    "kurt_std_error = stderr\n",
    "print(\"the standard error of the kurtosis obtained by the Jackknife is\", kurt_std_error)\n",
    "kurt_conf_int = conf_interval\n",
    "print(\"the confidence interval (95%) of the jacked kurtosis is\", kurt_conf_int)"
   ]
  },
  {
   "cell_type": "markdown",
   "id": "41a6b194",
   "metadata": {},
   "source": [
    "The results of applying of the Jackknife method are summarized in the table below.\n",
    "\n",
    "|Estimate |True value | Sample estimate | Jacked estimate | True bias | Corrected bias | Corr. perc. of the bias | Confidence Interval| CI Corr.|\n",
    "| :- | :- | :- | :- | :- | :- | :- | :- | :- |\n",
    "|Mean|176132|193665|193665|17532|0|0|153974, 233357|yes|\n",
    "|Minimum|11817|63495|33884|51678|29611|0.573|-24153, 91921|yes|\n",
    "|Maximum|1624829|574103|816670|-1050726|-242567|0.23|341247, 1292093|no|\n",
    "|Skewness|4.425|2.35|3.787|-2.071|-1.577|0.762|0.599, 6.976|yes|\n",
    "|Kurtosis|44.475|7.830|14.228|-36.645|-8.109|0.221|2.370, 26.085|no|\n",
    "|Median|162544|183333|183445|7200|-112|-0.016|181578, 185313|no|\n",
    "\n",
    "The problems of using the Jackknife method for mean adjustment were discussed earlier. As we can see from the table, this method is also not good for median adjustment. However, it is useful for adjusting central moments that are higher than the mean, as well as for adjusting marginal values."
   ]
  },
  {
   "cell_type": "markdown",
   "id": "fa6d0444",
   "metadata": {},
   "source": [
    "## Afterword"
   ]
  },
  {
   "cell_type": "markdown",
   "id": "b45d5284",
   "metadata": {},
   "source": [
    "The Jackknife method is a simple and computationally efficient tool for adjusting some sampling estimators. It's not a Holy Grail, but it can solve some of the problems of estimating the parameters of an open market. I hope that its application will help many appraisers in their daily practice. And perhaps it will inspire someone to use machine learning methods more widely in valuation activities. The next topic will be a more powerful and universal method of bootstrapping. See for the updates."
   ]
  },
  {
   "cell_type": "code",
   "execution_count": null,
   "id": "f7f450a7",
   "metadata": {},
   "outputs": [],
   "source": []
  }
 ],
 "metadata": {
  "kernelspec": {
   "display_name": "Python 3 (ipykernel)",
   "language": "python",
   "name": "python3"
  },
  "language_info": {
   "codemirror_mode": {
    "name": "ipython",
    "version": 3
   },
   "file_extension": ".py",
   "mimetype": "text/x-python",
   "name": "python",
   "nbconvert_exporter": "python",
   "pygments_lexer": "ipython3",
   "version": "3.9.12"
  }
 },
 "nbformat": 4,
 "nbformat_minor": 5
}
