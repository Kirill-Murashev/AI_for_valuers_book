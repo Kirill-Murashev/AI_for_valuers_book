{
 "cells": [
  {
   "cell_type": "markdown",
   "id": "ae191a05",
   "metadata": {},
   "source": [
    "# Преодоление проблемы смещённых оценок при анализе данных открытого рынка с помощью метода Jackknife resampling"
   ]
  },
  {
   "cell_type": "markdown",
   "id": "68c0d97e",
   "metadata": {},
   "source": [
    "Cyrill A. Murashev, 2023-02-08"
   ]
  },
  {
   "cell_type": "markdown",
   "id": "03a17c90",
   "metadata": {},
   "source": [
    "## Аннотация"
   ]
  },
  {
   "cell_type": "markdown",
   "id": "ce0e2079",
   "metadata": {},
   "source": [
    "Оценщики часто сталкиваются с необходимостью анализа и описания рыночных данных, собранных на открытых рынках. Почти всегда они не могут получить данные по всему рынку, но имеют дело с выборками, которые могут быть очень малы по сравнению со всей популяцией. В этом случае возникает проблема смещённых оценок. Из вышесказанного следует, что любая статистическая оценка, сделанная на основе рассматриваемой выборки, является оценкой для самой выборки. В то же время она может иметь смещение относительно оценки, которая была бы получена в случае анализа всей генеральной совокупности. Оценщики часто говорят, что они рассчитали некоторые описательные статистические показатели рынка. Это может быть среднее значение цены или медиана, максимум и минимум, коэффициенты ассиметрии и эксцесса и т.д. Но мы должны понимать, что это оценки только для выборок, а не для всего рынка. Сегодня мы рассмотрим минимальную теоретическую основу метода Jackknife. А затем реализуем его на реальных рыночных данных с помощью языка Python. Мы узнаем, как определить, существует ли смещение для любой оценки, и как автоматически уменьшить её линейную составляющую. Данный материал доступен на [английском](https://github.com/Kirill-Murashev/AI_for_valuers_book/blob/main/Parts-Chapters/Jackknife/jackknife.ipynb), [испанском](https://github.com/Kirill-Murashev/AI_for_valuers_book/blob/main/Parts-Chapters/Jackknife/jackknife-esp.ipynb) и [русском](https://github.com/Kirill-Murashev/AI_for_valuers_book/blob/main/Parts-Chapters/Jackknife/jackknife-nov.ipynb) языках. Английская версия является самой актуальной и наиболее быстро обновляемой. Если между версиями есть какие-либо расхождения, следует полагаться на английскую версию."
   ]
  },
  {
   "cell_type": "markdown",
   "id": "1caf46f8",
   "metadata": {},
   "source": [
    "## Основы метода Jackknife"
   ]
  },
  {
   "cell_type": "markdown",
   "id": "2a38934d",
   "metadata": {},
   "source": [
    "### Введение"
   ]
  },
  {
   "cell_type": "markdown",
   "id": "041fc707",
   "metadata": {},
   "source": [
    "Во-первых, нужно вспомнить, зачем оценщикам нужна статистика. Обычно у них есть некоторое распределение характеристик объектов из выборки аналогов, собранных на открытом рынке. Далее они пытаются получить некоторые оценки значений этих характеристик. Это может быть среднее значение, медиана, максимум, минимум, дисперсия и т.д. Иногда им также необходимо сравнить две или более подвыборки, чтобы решить, нужны ли какие-то корректировки на основе разницы значений характеристик. Как мы можем догадаться, в большинстве случаев оценщики имеют дело с выборками, а не со всем рынком. Таким образом, оценщики могут получить только выборочные оценки значений характеристик, а не их истинные значения. \n",
    "Метод Jackknife позволяет решить две проблемы:\n",
    "- уменьшить смещение выборочной оценки относительно истинного значения из генеральной совокупности;\n",
    "- рассчитать дисперсию скорректированного значения признака.\n",
    "\n",
    "Предположим, у нас есть некая характеристика *X* (например, это может быть удельная цена единицы площади), распределение которой в генеральной совокупности нам неизвестно. У нас есть выборка, взятая из соответствующего множества и состоящая из *n* элементов $[x_{1},\\ldots, x_{n}]$. Мы хотим оценить математическое ожидание *X*, которое запишем как $\\mathbb{E}[X]$. В общем случае математическое ожидание описывается следующим образом\n",
    "$$\\mathbb{E}[X] = \\sum_{j=1}^{n >> 1} p(x_{j})x_{j}.$$\n",
    "\n",
    "Но у нас есть только выборка, которая, конечно, состоит из очень ограниченного числа наблюдений, далёкого от бесконечности. Поэтому мы не можем оценить матожидание, только выборочное среднее, которое записывается как\n",
    "$$\\hat{\\mu}=\\dfrac{1}{n} \\sum_{i=1}^{n<<\\infty}x_{i}.$$\n",
    "\n",
    "Поэтому мы используем не вероятности, а наблюдаемые частоты. Очевидно что $\\mathbb{E}[X] \\neq \\hat{\\mu}$, но $\\hat{\\mu} = \\mathbb{E}[X] + \\mathcal{bias}$, где $\\mu$ — это матоценка ожидания, а смещение — это некоторый систематический сдвиг между истинным и расчётным значениями матожидания.\n",
    "\n",
    "Обратите внимание, что случай вычисления среднего — единственный случай, когда метод не может вычислить смещение, поскольку сам основан на усреднении. Это его основное ограничение. Но он вполне подходит для работы с центральными моментами, более высоких порядков, чем среднее значение.\n"
   ]
  },
  {
   "cell_type": "markdown",
   "id": "af5d05e4",
   "metadata": {},
   "source": [
    "### Общая концепция метода Jackknife"
   ]
  },
  {
   "cell_type": "markdown",
   "id": "49b0263e",
   "metadata": {},
   "source": [
    "Мы рассмотрели частный случай. Теперь мы можем перейти к более общей концепции смещённости оценки. Рассмотрим случайную переменную *X* с неизвестным распределением *U*. Существует параметр его распределения, называемый $\\theta$. И мы хотим определить его значение. Использование абстрактного параметра $\\theta$ вместо конкретного подчеркивает универсальность метода Jackknife, который способен обнаружить смещение для многих параметров распределения и автоматически скорректировать их линейную составляющую. У нас также есть параметр $\\hat{\\theta}$, который является оценкой выборки, полученной с помощью некоторой функции. Из-за того, что $\\hat{\\theta}$ была получена из выборки, в то время как мы хотим оценить $\\theta$ для генеральной совокупности, то есть всего рынка в контексте оценки, $\\hat{\\theta}$ имеет смещение относительно $\\theta$. С математической точки зрения, это означает, что матожидание для $\\hat{\\theta}$ не равно матожиданию для $\\theta$:\n",
    "$$\\mathbb{E}(\\hat{\\theta}) \\neq \\mathbb{E}(\\theta).$$\n",
    "В этом случае мы можем сказать, что\n",
    "$$\\mathbb{E}(\\hat{\\theta}_{n}) = \\theta + \\frac{\\alpha}{n} + \\frac{\\beta}{n^{2}} + \\frac{\\gamma}{n^{3}} + \\ldots \\frac{\\omega}{n^{(k\\rightarrow \\infty)}},$$\n",
    "где $\\theta$ — истинное значение параметра в генеральной совокупности, а  $\\frac{\\alpha}{n} + \\frac{\\beta}{n^{2}} + \\frac{\\gamma}{n^{3}} + \\ldots \\frac{\\omega}{n^{(k\\rightarrow \\infty)}}$ — это линейная, квадратическая, кубическая и иные составляющие смещения более высоких степеней. Значение всех составляющих уменьшается по мере роста выборки согласно линейной, квадратической, кубической и иным функциям. Линейная составляющая вносит наибольший вклад в ошибку, поскольку убывает медленее других.\n",
    "\n",
    "Метод Jackknife позволяет уменьшить линейную составляющую ошибки. Давайте введём несколько определений.\n",
    "\n",
    "$\\hat{\\theta}_{i}$ — это значение $\\hat{\\theta}$ которое было бы получено в случае, если бы расчёт проводился не на всей выборке, а на подвыборке, из которой был исключён одно наблюдение с номером *i*, принимающим значения от 1 до *n*. Тогда\n",
    "$$\\mathbb{E}(\\hat{\\theta}_{(i)}) = \\theta + \\frac{\\alpha}{n-1} + \\frac{\\beta}{(n-1)^{2}} + \\frac{\\gamma}{(n-1)^{3}} + \\ldots \\frac{\\omega}{(n-1)^{(k\\rightarrow \\infty)}}.$$\n",
    "$\\overline{\\theta}$ — среднее значение всех $\\hat{\\theta}_{i}$.\n",
    "$$\\overline{\\theta} = \\frac{1}{n} \\sum_{i=1}^{n} \\hat{\\theta}_{i}$$\n"
   ]
  },
  {
   "cell_type": "markdown",
   "id": "f1263fa2",
   "metadata": {},
   "source": [
    "### Сводка"
   ]
  },
  {
   "cell_type": "markdown",
   "id": "a5b94d06",
   "metadata": {},
   "source": [
    "Таким образом, для применения метода, т.е. определения наличия смещения оценки и автоматического устранения её линейной составляющей, необходима следующая последовательность шагов.\n",
    "1. Допустим нам необходимо оценить некоторый параметр $\\theta$ случайной переменной *X*.\n",
    "1. Давайте оценим параметр $\\hat{\\theta}$ для выборки путём применения некоторой математической функции $\\hat{\\theta}=F(x_{1},\\ldots,x_{n})$.\n",
    "1. $\\hat{\\theta}$ может быть смещённой.\n",
    "1. $\\theta = \\mathbb{E}(\\hat{\\theta}) + bias$.\n",
    "1. Давайте создадим *n* новых выборок путём последовательного исключения одного элемента *x* из первоначальной выборки.\n",
    "1. Рассчитаем $\\hat{\\theta}_{(i)}$ для всех новых выборок, используя ту же функцию **F**.\n",
    "1. Рассчитаем среднее значение для всех $\\hat{\\theta}_{(i)}$ и обозначим его как $\\overline{\\theta}$.\n",
    "1. Расчитаем смещение посредством формулы\n",
    "$$\\widehat{bias}_{jack} = (n-1)(\\overline{\\theta} - \\hat{\\theta}).$$\n",
    "1. Устраним линейную составляющую смещения с помощью формулы\n",
    "$$\\hat{\\theta}_{jacked} = \\hat{\\theta} - \\widehat{bias}_{jack}.$$"
   ]
  },
  {
   "cell_type": "markdown",
   "id": "43cd0296",
   "metadata": {},
   "source": [
    "## Практическая реализация на Python"
   ]
  },
  {
   "cell_type": "markdown",
   "id": "8f91a4a2",
   "metadata": {},
   "source": [
    "Сегодня мы будем использовать набор данных, содержащий 34821 наблюдение по рынку жилой недвижимости Санкт-Петербурга. Он был получен путём веб-скрэпинга в сентябре 2021 года. Предположим, что этот набор данных содержит данные обо всём рынке, поэтому мы можем использовать его как генеральную совокупность. Далее мы создадим подвыборку только с 25 наблюдениями, что является типичным числом наблюдений, с которыми имеет дело оценщик. Мы рассчитаем ряд оценок для нашей «популяции», затем рассчитаем соответствующие выборочные оценки. Далее мы применим метод Jackknife и покажем, что он действительно устраняет часть смещения."
   ]
  },
  {
   "cell_type": "code",
   "execution_count": 194,
   "id": "4b8fc58f",
   "metadata": {},
   "outputs": [],
   "source": [
    "# import libraries\n",
    "import numpy as np\n",
    "import pandas as pd\n",
    "from astropy.stats import jackknife_resampling\n",
    "from astropy.stats import jackknife_stats\n",
    "from random import sample\n",
    "from scipy.stats import skew\n",
    "from scipy.stats import kurtosis"
   ]
  },
  {
   "cell_type": "code",
   "execution_count": 62,
   "id": "82db5ee4",
   "metadata": {},
   "outputs": [
    {
     "name": "stdout",
     "output_type": "stream",
     "text": [
      "       Unnamed: 0                                     links  price_m  county\n",
      "0               1  https://spb.cian.ru/sale/flat/262765174/   155460  sadadm\n",
      "1               2  https://spb.cian.ru/sale/flat/263280601/   295455  sadadm\n",
      "2               3  https://spb.cian.ru/sale/flat/261612519/   310559  sadadm\n",
      "3               4  https://spb.cian.ru/sale/flat/263094016/   100000  sadadm\n",
      "4               5  https://spb.cian.ru/sale/flat/262339898/   145929  sadadm\n",
      "...           ...                                       ...      ...     ...\n",
      "34816       34817  https://spb.cian.ru/sale/flat/256621764/    70093  llobol\n",
      "34817       34818  https://spb.cian.ru/sale/flat/261430727/    67227  llobol\n",
      "34818       34819  https://spb.cian.ru/sale/flat/246538655/    86207  llobol\n",
      "34819       34820  https://spb.cian.ru/sale/flat/246587468/    65455  llobol\n",
      "34820       34821  https://spb.cian.ru/sale/flat/239698989/    89041  llobol\n",
      "\n",
      "[34821 rows x 4 columns]\n"
     ]
    }
   ],
   "source": [
    "# import data\n",
    "df = pd.read_csv(\"spba-flats-210928.csv\", index_col=False)\n",
    "print(df)"
   ]
  },
  {
   "cell_type": "code",
   "execution_count": 193,
   "id": "29df1c76",
   "metadata": {},
   "outputs": [
    {
     "name": "stdout",
     "output_type": "stream",
     "text": [
      "The estimation of unit price for population is 176132.997530226\n",
      "The standard error of unit price mean for population is 411.42108784161167\n",
      "The minimum of unit price for population is 11817\n",
      "The 0.25 quantile of unit price for population is 135870.0\n",
      "The median of unit price for population is 162544.0\n",
      "The 0.75 quantile of unit price for population is 196078.0\n",
      "The maximum of unit price for population is 1624829\n",
      "The skewness of unit price for population is 4.425121271105129\n",
      "The kurtosis of unit price for population is 44.47491746881878\n",
      "The range of unit price for population is 1613012\n"
     ]
    }
   ],
   "source": [
    "# calculate statistics for the \"general population\"\n",
    "gp_est    = df['price_m'].mean()\n",
    "gp_sem    = df['price_m'].sem()\n",
    "gp_min    = df['price_m'].min()\n",
    "gp_25q    = df['price_m'].quantile(0.25)\n",
    "gp_median = df['price_m'].median()\n",
    "gp_75q    = df['price_m'].quantile(0.75)\n",
    "gp_max    = df['price_m'].max()\n",
    "gp_skew   = df['price_m'].skew()\n",
    "gp_kurt   = df['price_m'].kurtosis()\n",
    "gp_ran    = gp_max - gp_min\n",
    "\n",
    "print(\"The estimation of unit price for population is\", gp_est)\n",
    "print(\"The standard error of unit price mean for population is\", gp_sem)\n",
    "print(\"The minimum of unit price for population is\", gp_min)\n",
    "print(\"The 0.25 quantile of unit price for population is\", gp_25q)\n",
    "print(\"The median of unit price for population is\", gp_median)\n",
    "print(\"The 0.75 quantile of unit price for population is\", gp_75q)\n",
    "print(\"The maximum of unit price for population is\", gp_max)\n",
    "print(\"The skewness of unit price for population is\", gp_skew)\n",
    "print(\"The kurtosis of unit price for population is\", gp_kurt)\n",
    "print(\"The range of unit price for population is\", gp_ran)"
   ]
  },
  {
   "cell_type": "code",
   "execution_count": 165,
   "id": "1c1b076b",
   "metadata": {},
   "outputs": [
    {
     "name": "stdout",
     "output_type": "stream",
     "text": [
      "       Unnamed: 0                                     links  price_m  county\n",
      "3306         3307  https://spb.cian.ru/sale/flat/263952864/   208706  sfrn75\n",
      "25446       25447  https://spb.cian.ru/sale/flat/264176271/   183721  swyswe\n",
      "11568       11569  https://spb.cian.ru/sale/flat/262828919/   135742  skupes\n",
      "33301       33302  https://spb.cian.ru/sale/flat/264080846/   106557  lwsswe\n",
      "19647       19648  https://spb.cian.ru/sale/flat/259620581/   187500  sprn65\n",
      "12156       12157  https://spb.cian.ru/sale/flat/263812187/   154135  smogag\n",
      "33578       33579  https://spb.cian.ru/sale/flat/249136615/    94340  lkiotr\n",
      "25289       25290  https://spb.cian.ru/sale/flat/262800893/   231783  swysam\n",
      "18805       18806  https://spb.cian.ru/sale/flat/264405723/   182927  spechk\n",
      "28863       28864  https://spb.cian.ru/sale/flat/261066046/   100000  lwsser\n",
      "15471       15472  https://spb.cian.ru/sale/flat/264113874/   146245  snenar\n",
      "24352       24353  https://spb.cian.ru/sale/flat/260113706/   154694  swyn15\n",
      "12759       12760  https://spb.cian.ru/sale/flat/262603019/   186667  smozwy\n",
      "18902       18903  https://spb.cian.ru/sale/flat/261749292/   321429  sprn65\n",
      "802           803  https://spb.cian.ru/sale/flat/261995766/   193998  sadkol\n",
      "8789         8790  https://spb.cian.ru/sale/flat/263906056/   112931  skrpor\n",
      "22581       22582  https://spb.cian.ru/sale/flat/258932208/   183333  spryun\n",
      "6809         6810  https://spb.cian.ru/sale/flat/262424511/   152813  skiulq\n",
      "12278       12279  https://spb.cian.ru/sale/flat/264412922/   212903  smozwy\n",
      "33868       33869  https://spb.cian.ru/sale/flat/261850155/    63495  ltowoj\n",
      "19219       19220  https://spb.cian.ru/sale/flat/263531731/   273146  sprn65\n",
      "18680       18681  https://spb.cian.ru/sale/flat/259815632/   574103  spechk\n",
      "13881       13882  https://spb.cian.ru/sale/flat/264355511/   193629  smonow\n",
      "13526       13527  https://spb.cian.ru/sale/flat/260447460/   318386  smomos\n",
      "16092       16093  https://spb.cian.ru/sale/flat/263501761/   168453  sneobu\n"
     ]
    }
   ],
   "source": [
    "# create sample\n",
    "sam_size = 25\n",
    "ran_sam = df.sample(n=sam_size)\n",
    "print(ran_sam)"
   ]
  },
  {
   "cell_type": "code",
   "execution_count": 166,
   "id": "0bfbda67",
   "metadata": {},
   "outputs": [
    {
     "name": "stdout",
     "output_type": "stream",
     "text": [
      "The mean of unit price for random sample is 193665.44\n",
      "The standard error of unit price mean for random sample is 20251.124762679232\n",
      "The minimum of unit price for random sample is 63495\n",
      "The 0.25 quantile of unit price for random sample is 146245.0\n",
      "The median of unit price for random sample is 183333.0\n",
      "The 0.75 quantile of unit price for random sample is 208706.0\n",
      "The maximum of unit price for random sample is 574103\n",
      "The skewness of unit price for random sample is 2.3536484943924028\n",
      "The kurtosis of unit price for random sample is 7.829781802086403\n",
      "The range of unit price for random sample is 510608\n"
     ]
    }
   ],
   "source": [
    "# calculate statistics for the random sample\n",
    "rs_mean   = ran_sam['price_m'].mean()\n",
    "rs_sem    = ran_sam['price_m'].sem()\n",
    "rs_min    = ran_sam['price_m'].min()\n",
    "rs_25q    = ran_sam['price_m'].quantile(0.25)\n",
    "rs_median = ran_sam['price_m'].median()\n",
    "rs_75q    = ran_sam['price_m'].quantile(0.75)\n",
    "rs_max    = ran_sam['price_m'].max()\n",
    "rs_skew   = ran_sam['price_m'].skew()\n",
    "rs_kurt   = ran_sam['price_m'].kurtosis()\n",
    "rs_ran   = rs_max - rs_min\n",
    "\n",
    "print(\"The mean of unit price for random sample is\", rs_mean)\n",
    "print(\"The standard error of unit price mean for random sample is\", rs_sem)\n",
    "print(\"The minimum of unit price for random sample is\", rs_min)\n",
    "print(\"The 0.25 quantile of unit price for random sample is\", rs_25q)\n",
    "print(\"The median of unit price for random sample is\", rs_median)\n",
    "print(\"The 0.75 quantile of unit price for random sample is\", rs_75q)\n",
    "print(\"The maximum of unit price for random sample is\", rs_max)\n",
    "print(\"The skewness of unit price for random sample is\", rs_skew)\n",
    "print(\"The kurtosis of unit price for random sample is\", rs_kurt)\n",
    "print(\"The range of unit price for random sample is\", rs_ran)"
   ]
  },
  {
   "cell_type": "code",
   "execution_count": 167,
   "id": "a5fe05f7",
   "metadata": {},
   "outputs": [
    {
     "name": "stdout",
     "output_type": "stream",
     "text": [
      "3306     208706\n",
      "25446    183721\n",
      "11568    135742\n",
      "33301    106557\n",
      "19647    187500\n",
      "12156    154135\n",
      "33578     94340\n",
      "25289    231783\n",
      "18805    182927\n",
      "28863    100000\n",
      "15471    146245\n",
      "24352    154694\n",
      "12759    186667\n",
      "18902    321429\n",
      "802      193998\n",
      "8789     112931\n",
      "22581    183333\n",
      "6809     152813\n",
      "12278    212903\n",
      "33868     63495\n",
      "19219    273146\n",
      "18680    574103\n",
      "13881    193629\n",
      "13526    318386\n",
      "16092    168453\n",
      "Name: price_m, dtype: int64\n"
     ]
    }
   ],
   "source": [
    "# obtain Jackknife resamples\n",
    "new_df = ran_sam[\"price_m\"]\n",
    "array = new_df.to_numpy()\n",
    "print(new_df)"
   ]
  },
  {
   "cell_type": "code",
   "execution_count": 168,
   "id": "8256a3cc",
   "metadata": {},
   "outputs": [
    {
     "name": "stdout",
     "output_type": "stream",
     "text": [
      "[[183721. 135742. 106557. 187500. 154135.  94340. 231783. 182927. 100000.\n",
      "  146245. 154694. 186667. 321429. 193998. 112931. 183333. 152813. 212903.\n",
      "   63495. 273146. 574103. 193629. 318386. 168453.]\n",
      " [208706. 135742. 106557. 187500. 154135.  94340. 231783. 182927. 100000.\n",
      "  146245. 154694. 186667. 321429. 193998. 112931. 183333. 152813. 212903.\n",
      "   63495. 273146. 574103. 193629. 318386. 168453.]\n",
      " [208706. 183721. 106557. 187500. 154135.  94340. 231783. 182927. 100000.\n",
      "  146245. 154694. 186667. 321429. 193998. 112931. 183333. 152813. 212903.\n",
      "   63495. 273146. 574103. 193629. 318386. 168453.]\n",
      " [208706. 183721. 135742. 187500. 154135.  94340. 231783. 182927. 100000.\n",
      "  146245. 154694. 186667. 321429. 193998. 112931. 183333. 152813. 212903.\n",
      "   63495. 273146. 574103. 193629. 318386. 168453.]\n",
      " [208706. 183721. 135742. 106557. 154135.  94340. 231783. 182927. 100000.\n",
      "  146245. 154694. 186667. 321429. 193998. 112931. 183333. 152813. 212903.\n",
      "   63495. 273146. 574103. 193629. 318386. 168453.]\n",
      " [208706. 183721. 135742. 106557. 187500.  94340. 231783. 182927. 100000.\n",
      "  146245. 154694. 186667. 321429. 193998. 112931. 183333. 152813. 212903.\n",
      "   63495. 273146. 574103. 193629. 318386. 168453.]\n",
      " [208706. 183721. 135742. 106557. 187500. 154135. 231783. 182927. 100000.\n",
      "  146245. 154694. 186667. 321429. 193998. 112931. 183333. 152813. 212903.\n",
      "   63495. 273146. 574103. 193629. 318386. 168453.]\n",
      " [208706. 183721. 135742. 106557. 187500. 154135.  94340. 182927. 100000.\n",
      "  146245. 154694. 186667. 321429. 193998. 112931. 183333. 152813. 212903.\n",
      "   63495. 273146. 574103. 193629. 318386. 168453.]\n",
      " [208706. 183721. 135742. 106557. 187500. 154135.  94340. 231783. 100000.\n",
      "  146245. 154694. 186667. 321429. 193998. 112931. 183333. 152813. 212903.\n",
      "   63495. 273146. 574103. 193629. 318386. 168453.]\n",
      " [208706. 183721. 135742. 106557. 187500. 154135.  94340. 231783. 182927.\n",
      "  146245. 154694. 186667. 321429. 193998. 112931. 183333. 152813. 212903.\n",
      "   63495. 273146. 574103. 193629. 318386. 168453.]\n",
      " [208706. 183721. 135742. 106557. 187500. 154135.  94340. 231783. 182927.\n",
      "  100000. 154694. 186667. 321429. 193998. 112931. 183333. 152813. 212903.\n",
      "   63495. 273146. 574103. 193629. 318386. 168453.]\n",
      " [208706. 183721. 135742. 106557. 187500. 154135.  94340. 231783. 182927.\n",
      "  100000. 146245. 186667. 321429. 193998. 112931. 183333. 152813. 212903.\n",
      "   63495. 273146. 574103. 193629. 318386. 168453.]\n",
      " [208706. 183721. 135742. 106557. 187500. 154135.  94340. 231783. 182927.\n",
      "  100000. 146245. 154694. 321429. 193998. 112931. 183333. 152813. 212903.\n",
      "   63495. 273146. 574103. 193629. 318386. 168453.]\n",
      " [208706. 183721. 135742. 106557. 187500. 154135.  94340. 231783. 182927.\n",
      "  100000. 146245. 154694. 186667. 193998. 112931. 183333. 152813. 212903.\n",
      "   63495. 273146. 574103. 193629. 318386. 168453.]\n",
      " [208706. 183721. 135742. 106557. 187500. 154135.  94340. 231783. 182927.\n",
      "  100000. 146245. 154694. 186667. 321429. 112931. 183333. 152813. 212903.\n",
      "   63495. 273146. 574103. 193629. 318386. 168453.]\n",
      " [208706. 183721. 135742. 106557. 187500. 154135.  94340. 231783. 182927.\n",
      "  100000. 146245. 154694. 186667. 321429. 193998. 183333. 152813. 212903.\n",
      "   63495. 273146. 574103. 193629. 318386. 168453.]\n",
      " [208706. 183721. 135742. 106557. 187500. 154135.  94340. 231783. 182927.\n",
      "  100000. 146245. 154694. 186667. 321429. 193998. 112931. 152813. 212903.\n",
      "   63495. 273146. 574103. 193629. 318386. 168453.]\n",
      " [208706. 183721. 135742. 106557. 187500. 154135.  94340. 231783. 182927.\n",
      "  100000. 146245. 154694. 186667. 321429. 193998. 112931. 183333. 212903.\n",
      "   63495. 273146. 574103. 193629. 318386. 168453.]\n",
      " [208706. 183721. 135742. 106557. 187500. 154135.  94340. 231783. 182927.\n",
      "  100000. 146245. 154694. 186667. 321429. 193998. 112931. 183333. 152813.\n",
      "   63495. 273146. 574103. 193629. 318386. 168453.]\n",
      " [208706. 183721. 135742. 106557. 187500. 154135.  94340. 231783. 182927.\n",
      "  100000. 146245. 154694. 186667. 321429. 193998. 112931. 183333. 152813.\n",
      "  212903. 273146. 574103. 193629. 318386. 168453.]\n",
      " [208706. 183721. 135742. 106557. 187500. 154135.  94340. 231783. 182927.\n",
      "  100000. 146245. 154694. 186667. 321429. 193998. 112931. 183333. 152813.\n",
      "  212903.  63495. 574103. 193629. 318386. 168453.]\n",
      " [208706. 183721. 135742. 106557. 187500. 154135.  94340. 231783. 182927.\n",
      "  100000. 146245. 154694. 186667. 321429. 193998. 112931. 183333. 152813.\n",
      "  212903.  63495. 273146. 193629. 318386. 168453.]\n",
      " [208706. 183721. 135742. 106557. 187500. 154135.  94340. 231783. 182927.\n",
      "  100000. 146245. 154694. 186667. 321429. 193998. 112931. 183333. 152813.\n",
      "  212903.  63495. 273146. 574103. 318386. 168453.]\n",
      " [208706. 183721. 135742. 106557. 187500. 154135.  94340. 231783. 182927.\n",
      "  100000. 146245. 154694. 186667. 321429. 193998. 112931. 183333. 152813.\n",
      "  212903.  63495. 273146. 574103. 193629. 168453.]\n",
      " [208706. 183721. 135742. 106557. 187500. 154135.  94340. 231783. 182927.\n",
      "  100000. 146245. 154694. 186667. 321429. 193998. 112931. 183333. 152813.\n",
      "  212903.  63495. 273146. 574103. 193629. 318386.]]\n"
     ]
    }
   ],
   "source": [
    "# obtain Jackknife resamples\n",
    "resamples = jackknife_resampling(array)\n",
    "print(resamples)"
   ]
  },
  {
   "cell_type": "code",
   "execution_count": 169,
   "id": "759d8067",
   "metadata": {},
   "outputs": [
    {
     "data": {
      "text/plain": [
       "(25, 24)"
      ]
     },
     "execution_count": 169,
     "metadata": {},
     "output_type": "execute_result"
    }
   ],
   "source": [
    "# obtain Jackknife resamples shape\n",
    "resamples.shape"
   ]
  },
  {
   "cell_type": "code",
   "execution_count": 170,
   "id": "ff991cd2",
   "metadata": {},
   "outputs": [
    {
     "name": "stdout",
     "output_type": "stream",
     "text": [
      "the jacked mean is 193665.4400000007\n",
      "the true bias of the mean is 17532.44246977399\n",
      "the bias of the mean obtained by the Jackknife is -6.984919309616089e-10\n",
      "the corrected percentage of the bias is -3.983996708763267e-14\n",
      "the standard error of the mean obtained by the Jackknife is 20251.12476267923\n",
      "the confidence interval (95%) of the jacked mean is [153973.96481872 233356.91518128]\n"
     ]
    }
   ],
   "source": [
    "# obtain Jackknife estimate for the mean, its bias,\n",
    "# its standard error, and its 95% confidence interval\n",
    "test_statistic = np.mean\n",
    "\n",
    "estimate, bias, stderr, conf_interval = jackknife_stats(\n",
    "    array, test_statistic, 0.95)\n",
    "\n",
    "mean_jacked = estimate\n",
    "print(\"the jacked mean is\", mean_jacked)\n",
    "mean_true_bias =  rs_mean - gp_est\n",
    "print(\"the true bias of the mean is\", mean_true_bias)\n",
    "mean_bias_jack = bias\n",
    "print(\"the bias of the mean obtained by the Jackknife is\", mean_bias_jack)\n",
    "mean_corr_bias_perc = mean_bias_jack / mean_true_bias\n",
    "print(\"the corrected percentage of the bias is\", mean_corr_bias_perc)\n",
    "mean_std_error = stderr\n",
    "print(\"the standard error of the mean obtained by the Jackknife is\", mean_std_error)\n",
    "mean_conf_int = conf_interval\n",
    "print(\"the confidence interval (95%) of the jacked mean is\", mean_conf_int)"
   ]
  },
  {
   "cell_type": "markdown",
   "id": "4c989c9e",
   "metadata": {},
   "source": [
    "Как видим, математическое ожидание равно 176133, среднее по выборке равно 193665, а скорректированное среднее, полученное методом Jackknife, также равно 193665. Доверительный интервал для среднего равен [153974, 233357] с вероятностью 0.95. Вычисленный доверительный интервал содержит истинное значение матожидания. Как мы обсуждали ранее, среднее значение — это единственный параметр распределения, который по своей природе не может быть скорректирован методом Jacknife. Теперь давайте рассмотрим другие параметры.\n"
   ]
  },
  {
   "cell_type": "code",
   "execution_count": 192,
   "id": "bb92b3e5",
   "metadata": {},
   "outputs": [
    {
     "name": "stdout",
     "output_type": "stream",
     "text": [
      "the jacked median is 183445.31999999983\n",
      "the true bias of the median is 7200.002469773986\n",
      "the bias of the median obtained by the Jackknife is -112.31999999983236\n",
      "the corrected percentage of the bias is -0.015599994648801583\n",
      "the standard error of the median obtained by the Jackknife is 952.8097934005506\n",
      "the confidence interval (95%) of the jacked median is [181577.84712082 185312.79287918]\n"
     ]
    }
   ],
   "source": [
    "# obtain Jackknife estimate for the median, its bias,\n",
    "# its standard error, and its 95% confidence interval\n",
    "test_statistic = np.median\n",
    "\n",
    "estimate, bias, stderr, conf_interval = jackknife_stats(\n",
    "    array, test_statistic, 0.95)\n",
    "\n",
    "median_jacked = estimate\n",
    "print(\"the jacked median is\", median_jacked)\n",
    "median_true_bias =  rs_median - gp_est\n",
    "print(\"the true bias of the median is\", median_true_bias)\n",
    "median_bias_jack = bias\n",
    "print(\"the bias of the median obtained by the Jackknife is\", median_bias_jack)\n",
    "median_corr_bias_perc = median_bias_jack / median_true_bias\n",
    "print(\"the corrected percentage of the bias is\", median_corr_bias_perc)\n",
    "median_std_error = stderr\n",
    "print(\"the standard error of the median obtained by the Jackknife is\", median_std_error)\n",
    "median_conf_int = conf_interval\n",
    "print(\"the confidence interval (95%) of the jacked median is\", median_conf_int)"
   ]
  },
  {
   "cell_type": "code",
   "execution_count": 190,
   "id": "87267a76",
   "metadata": {},
   "outputs": [
    {
     "name": "stdout",
     "output_type": "stream",
     "text": [
      "the jacked min is 33883.79999999993\n",
      "the true bias of the mininimum is 51678\n",
      "the bias of the minimum obtained by the Jackknife is 29611.20000000007\n",
      "the corrected percentage of the bias is 0.5729943109253468\n",
      "the standard error of the mininimum obtained by the Jackknife is 29611.2\n",
      "the confidence interval (95%) of the jacked minimum is [-24153.08553901  91920.68553901]\n"
     ]
    }
   ],
   "source": [
    "# obtain Jackknife estimate for the minimum, its bias,\n",
    "# its standard error, and its 95% confidence interval\n",
    "test_statistic = np.min\n",
    "\n",
    "estimate, bias, stderr, conf_interval = jackknife_stats(\n",
    "    array, test_statistic, 0.95)\n",
    "\n",
    "min_jacked = estimate\n",
    "print(\"the jacked min is\", min_jacked)\n",
    "min_true_bias =  rs_min - gp_min\n",
    "print(\"the true bias of the mininimum is\", min_true_bias)\n",
    "min_bias_jack = bias\n",
    "print(\"the bias of the minimum obtained by the Jackknife is\", min_bias_jack)\n",
    "min_corr_bias_perc = min_bias_jack / min_true_bias\n",
    "print(\"the corrected percentage of the bias is\", min_corr_bias_perc)\n",
    "min_std_error = stderr\n",
    "print(\"the standard error of the mininimum obtained by the Jackknife is\", min_std_error)\n",
    "min_conf_int = conf_interval\n",
    "print(\"the confidence interval (95%) of the jacked minimum is\", min_conf_int)"
   ]
  },
  {
   "cell_type": "code",
   "execution_count": 174,
   "id": "917f1bbb",
   "metadata": {},
   "outputs": [
    {
     "name": "stdout",
     "output_type": "stream",
     "text": [
      "the jacked maximum is 816670.0399999991\n",
      "the true bias of the maximum is -1050726\n",
      "the bias of the maximum obtained by the Jackknife is -242567.0399999991\n",
      "the corrected percentage of the bias is 0.23085660771694913\n",
      "the standard error of the maximum obtained by the Jackknife is 242567.04\n",
      "the confidence interval (95%) of the jacked maximum is [ 341247.37776351 1292092.70223649]\n"
     ]
    }
   ],
   "source": [
    "# obtain Jackknife estimate for the maximum, its bias,\n",
    "# its standard error, and its 95% confidence interval\n",
    "test_statistic = np.max\n",
    "\n",
    "estimate, bias, stderr, conf_interval = jackknife_stats(\n",
    "    array, test_statistic, 0.95)\n",
    "\n",
    "maximum_jacked = estimate\n",
    "print(\"the jacked maximum is\", maximum_jacked)\n",
    "maximum_true_bias =  rs_max - gp_max\n",
    "print(\"the true bias of the maximum is\", maximum_true_bias)\n",
    "maximum_bias_jack = bias\n",
    "print(\"the bias of the maximum obtained by the Jackknife is\", maximum_bias_jack)\n",
    "maximum_corr_bias_perc = maximum_bias_jack / maximum_true_bias\n",
    "print(\"the corrected percentage of the bias is\", maximum_corr_bias_perc)\n",
    "maximum_std_error = stderr\n",
    "print(\"the standard error of the maximum obtained by the Jackknife is\", maximum_std_error)\n",
    "maximum_conf_int = conf_interval\n",
    "print(\"the confidence interval (95%) of the jacked maximum is\", maximum_conf_int)"
   ]
  },
  {
   "cell_type": "code",
   "execution_count": 195,
   "id": "27c7fc82",
   "metadata": {},
   "outputs": [
    {
     "name": "stdout",
     "output_type": "stream",
     "text": [
      "the jacked skewness is 3.7874875564237587\n",
      "the true bias of the skewness is -2.0714727767127266\n",
      "the bias of the skewness obtained by the Jackknife is -1.5774797157901084\n",
      "the corrected percentage of the bias is 0.7615256804356616\n",
      "the standard error of the skewness obtained by the Jackknife is 1.6269608977678238\n",
      "the confidence interval (95%) of the jacked skewnes is [0.59870279 6.97627232]\n"
     ]
    }
   ],
   "source": [
    "# obtain Jackknife estimate for the skewness, its bias,\n",
    "# its standard error, and its 95% confidence interval\n",
    "test_statistic = skew\n",
    "\n",
    "estimate, bias, stderr, conf_interval = jackknife_stats(\n",
    "    array, test_statistic, 0.95)\n",
    "\n",
    "skew_jacked = estimate\n",
    "print(\"the jacked skewness is\", skew_jacked)\n",
    "skew_true_bias =  rs_skew - gp_skew\n",
    "print(\"the true bias of the skewness is\", skew_true_bias)\n",
    "skew_bias_jack = bias\n",
    "print(\"the bias of the skewness obtained by the Jackknife is\", skew_bias_jack)\n",
    "skew_corr_bias_perc = skew_bias_jack / skew_true_bias\n",
    "print(\"the corrected percentage of the bias is\", skew_corr_bias_perc)\n",
    "skew_std_error = stderr\n",
    "print(\"the standard error of the skewness obtained by the Jackknife is\", skew_std_error)\n",
    "skew_conf_int = conf_interval\n",
    "print(\"the confidence interval (95%) of the jacked skewnes is\", skew_conf_int)"
   ]
  },
  {
   "cell_type": "code",
   "execution_count": 191,
   "id": "5e729caa",
   "metadata": {},
   "outputs": [
    {
     "name": "stdout",
     "output_type": "stream",
     "text": [
      "the jacked kurtosis is 14.227526609758394\n",
      "the true bias of the kurtosis is -36.64513566673238\n",
      "the bias of the kurtosis obtained by the Jackknife is -8.109145853579356\n",
      "the corrected percentage of the bias is 0.22128846587791726\n",
      "the standard error of the kurtosis obtained by the Jackknife is 6.04963781033231\n",
      "the confidence interval (95%) of the jacked kurtosis is [ 2.37045438 26.08459884]\n"
     ]
    }
   ],
   "source": [
    "# obtain Jackknife estimate for the kurtosis, its bias,\n",
    "# its standard error, and its 95% confidence interval\n",
    "test_statistic = kurtosis\n",
    "\n",
    "estimate, bias, stderr, conf_interval = jackknife_stats(\n",
    "    array, test_statistic, 0.95)\n",
    "\n",
    "kurt_jacked = estimate\n",
    "print(\"the jacked kurtosis is\", kurt_jacked)\n",
    "kurt_true_bias =  rs_kurt - gp_kurt\n",
    "print(\"the true bias of the kurtosis is\", kurt_true_bias)\n",
    "kurt_bias_jack = bias\n",
    "print(\"the bias of the kurtosis obtained by the Jackknife is\", kurt_bias_jack)\n",
    "kurt_corr_bias_perc = kurt_bias_jack / kurt_true_bias\n",
    "print(\"the corrected percentage of the bias is\", kurt_corr_bias_perc)\n",
    "kurt_std_error = stderr\n",
    "print(\"the standard error of the kurtosis obtained by the Jackknife is\", kurt_std_error)\n",
    "kurt_conf_int = conf_interval\n",
    "print(\"the confidence interval (95%) of the jacked kurtosis is\", kurt_conf_int)"
   ]
  },
  {
   "cell_type": "code",
   "execution_count": 1,
   "id": "e271580f",
   "metadata": {},
   "outputs": [],
   "source": [
    "### Результаты"
   ]
  },
  {
   "cell_type": "markdown",
   "id": "2de2d8ec",
   "metadata": {},
   "source": [
    "The results of applying of the Jackknife method are summarized in the table below.\n",
    "\n",
    "|Estimate |True value | Sample estimate | Jacked estimate | True bias | Corrected bias | Corr. perc. of the bias | Confidence Interval| CI Corr.|\n",
    "| :- | :- | :- | :- | :- | :- | :- | :- | :- |\n",
    "|Mean|176132|193665|193665|17532|0|0|153974, 233357|yes|\n",
    "|Minimum|11817|63495|33884|51678|29611|0.573|-24153, 91921|yes|\n",
    "|Maximum|1624829|574103|816670|-1050726|-242567|0.23|341247, 1292093|no|\n",
    "|Skewness|4.425|2.35|3.787|-2.071|-1.577|0.762|0.599, 6.976|yes|\n",
    "|Kurtosis|44.475|7.830|14.228|-36.645|-8.109|0.221|2.370, 26.085|no|\n",
    "|Median|162544|183333|183445|7200|-112|-0.016|181578, 185313|no|\n",
    "\n",
    "Проблемы использования метода Jackknife для корректировки среднего обсуждались ранее. Как видно из таблицы, этот метод также не годится для корректировки медианы. Однако он хорошо работает для корректировки центральных моментов более высоких порядков, а также граничных значений."
   ]
  },
  {
   "cell_type": "markdown",
   "id": "fa6d0444",
   "metadata": {},
   "source": [
    "## Итоги"
   ]
  },
  {
   "cell_type": "markdown",
   "id": "b45d5284",
   "metadata": {},
   "source": [
    "Метод Jackknife — это простой и эффективный в вычислительном отношении инструмент для корректировки некоторых оценок выборки. Это не Святой Грааль, но он может решить некоторые проблемы оценки параметров открытого рынка. Надеюсь, что его применение поможет многим оценщикам в их повседневной практике. И, возможно, вдохновить кого-то на более широкое использование методов машинного обучения в оценочной деятельности. В следующей теме будет расммотрен более мощный и универсальный метод бутстрэппинга. Следите за обновлениями."
   ]
  },
  {
   "cell_type": "code",
   "execution_count": null,
   "id": "f7f450a7",
   "metadata": {},
   "outputs": [],
   "source": []
  }
 ],
 "metadata": {
  "kernelspec": {
   "display_name": "Python 3 (ipykernel)",
   "language": "python",
   "name": "python3"
  },
  "language_info": {
   "codemirror_mode": {
    "name": "ipython",
    "version": 3
   },
   "file_extension": ".py",
   "mimetype": "text/x-python",
   "name": "python",
   "nbconvert_exporter": "python",
   "pygments_lexer": "ipython3",
   "version": "3.9.12"
  }
 },
 "nbformat": 4,
 "nbformat_minor": 5
}
